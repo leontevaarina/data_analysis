{
 "cells": [
  {
   "cell_type": "markdown",
   "metadata": {},
   "source": [
    "# Определение перспективного тарифа для телеком-компании"
   ]
  },
  {
   "cell_type": "markdown",
   "metadata": {},
   "source": [
    "### Описание проекта"
   ]
  },
  {
   "cell_type": "markdown",
   "metadata": {},
   "source": [
    "Клиентам предлагают два тарифных плана: «Смарт» и «Ультра». Чтобы скорректировать рекламный бюджет, коммерческий департамент хочет понять, какой тариф приносит больше денег."
   ]
  },
  {
   "cell_type": "markdown",
   "metadata": {},
   "source": [
    "### Описание тарифов"
   ]
  },
  {
   "cell_type": "markdown",
   "metadata": {},
   "source": [
    "**Тариф «Смарт»**\n",
    "* Ежемесячная плата: 550 рублей\n",
    "* Включено 500 минут разговора, 50 сообщений и 15 Гб интернет-трафика\n",
    "* Стоимость услуг сверх тарифного пакета:\n",
    "* минута разговора: 3 рубля\n",
    "* сообщение: 3 рубля\n",
    "* 1 Гб интернет-трафика: 200 рублей\n",
    "\n",
    "**Тариф «Ультра»**\n",
    "* Ежемесячная плата: 1950 рублей\n",
    "* Включено 3000 минут разговора, 1000 сообщений и 30 Гб интернет-трафика\n",
    "* Стоимость услуг сверх тарифного пакета:\n",
    "* минута разговора: 1 рубль\n",
    "* сообщение: 1 рубль\n",
    "* 1 Гб интернет-трафика: 150 рублей"
   ]
  },
  {
   "cell_type": "markdown",
   "metadata": {},
   "source": [
    "### Описание данных"
   ]
  },
  {
   "cell_type": "markdown",
   "metadata": {},
   "source": [
    "**Таблица users (информация о пользователях)** :\n",
    "* user_id — уникальный идентификатор пользователя\n",
    "* first_name — имя пользователя\n",
    "* last_name — фамилия пользователя\n",
    "* age — возраст пользователя (годы)\n",
    "* reg_date — дата подключения тарифа (день, месяц, год)\n",
    "* churn_date — дата прекращения пользования тарифом (если значение пропущено, то тариф ещё действовал на момент выгрузки данных)\n",
    "* city — город проживания пользователя\n",
    "* tariff — название тарифного плана\n",
    "\n",
    "**Таблица calls (информация о звонках)**:\n",
    "* id — уникальный номер звонка\n",
    "* call_date — дата звонка\n",
    "* duration — длительность звонка в минутах\n",
    "* user_id — идентификатор пользователя, сделавшего звонок\n",
    "\n",
    "**Таблица messages (информация о сообщениях)**:\n",
    "* id — уникальный номер сообщения\n",
    "* message_date — дата сообщения\n",
    "* user_id — идентификатор пользователя, отправившего сообщение\n",
    "\n",
    "**Таблица internet (информация об интернет-сессиях)**:\n",
    "* id — уникальный номер сессии\n",
    "* mb_used — объём потраченного за сессию интернет-трафика (в мегабайтах)\n",
    "* session_date — дата интернет-сессии\n",
    "* user_id — идентификатор пользователя\n",
    "\n",
    "**Таблица tariffs (информация о тарифах)**:\n",
    "* tariff_name — название тарифа\n",
    "* rub_monthly_fee — ежемесячная абонентская плата в рублях\n",
    "* minutes_included — количество минут разговора в месяц, включённых в абонентскую плату\n",
    "* messages_included — количество сообщений в месяц, включённых в абонентскую плату\n",
    "* mb_per_month_included — объём интернет-трафика, включённого в абонентскую плату (в мегабайтах)\n",
    "* rub_per_minute — стоимость минуты разговора сверх тарифного пакета (например, если в тарифе 100 минут разговора в месяц, то со 101 минуты будет взиматься плата)\n",
    "* rub_per_message — стоимость отправки сообщения сверх тарифного пакета\n",
    "* rub_per_gb — стоимость дополнительного гигабайта интернет-трафика сверх тарифного пакета (1 гигабайт = 1024 мегабайта)"
   ]
  },
  {
   "cell_type": "code",
   "execution_count": 1,
   "metadata": {},
   "outputs": [],
   "source": [
    "import pandas as pd\n",
    "import matplotlib.pyplot as plt\n",
    "import numpy as np\n",
    "import math\n",
    "import seaborn as sns\n",
    "import warnings"
   ]
  },
  {
   "cell_type": "code",
   "execution_count": 2,
   "metadata": {},
   "outputs": [],
   "source": [
    "try:\n",
    "    calls = pd.read_csv('/Users/arinaleonteva/Downloads/calls.csv')\n",
    "    internet = pd.read_csv('/Users/arinaleonteva/Downloads/internet.csv')\n",
    "    messages = pd.read_csv('/Users/arinaleonteva/Downloads/messages.csv')\n",
    "    tariffs = pd.read_csv('/Users/arinaleonteva/Downloads/tariffs.csv')\n",
    "    users = pd.read_csv('/Users/arinaleonteva/Downloads/users.csv')\n",
    "except:\n",
    "    calls = pd.read_csv('/datasets/calls.csv')\n",
    "    internet = pd.read_csv('/datasets/internet.csv')\n",
    "    messages = pd.read_csv('/datasets/messages.csv')\n",
    "    tariffs = pd.read_csv('/datasets/tariffs.csv')\n",
    "    users = pd.read_csv('/datasets/users.csv')\n",
    "\n"
   ]
  },
  {
   "cell_type": "code",
   "execution_count": 3,
   "metadata": {
    "scrolled": true
   },
   "outputs": [
    {
     "name": "stdout",
     "output_type": "stream",
     "text": [
      "<class 'pandas.core.frame.DataFrame'>\n",
      "RangeIndex: 202607 entries, 0 to 202606\n",
      "Data columns (total 4 columns):\n",
      " #   Column     Non-Null Count   Dtype  \n",
      "---  ------     --------------   -----  \n",
      " 0   id         202607 non-null  object \n",
      " 1   call_date  202607 non-null  object \n",
      " 2   duration   202607 non-null  float64\n",
      " 3   user_id    202607 non-null  int64  \n",
      "dtypes: float64(1), int64(1), object(2)\n",
      "memory usage: 6.2+ MB\n",
      "<class 'pandas.core.frame.DataFrame'>\n",
      "RangeIndex: 149396 entries, 0 to 149395\n",
      "Data columns (total 5 columns):\n",
      " #   Column        Non-Null Count   Dtype  \n",
      "---  ------        --------------   -----  \n",
      " 0   Unnamed: 0    149396 non-null  int64  \n",
      " 1   id            149396 non-null  object \n",
      " 2   mb_used       149396 non-null  float64\n",
      " 3   session_date  149396 non-null  object \n",
      " 4   user_id       149396 non-null  int64  \n",
      "dtypes: float64(1), int64(2), object(2)\n",
      "memory usage: 5.7+ MB\n",
      "<class 'pandas.core.frame.DataFrame'>\n",
      "RangeIndex: 123036 entries, 0 to 123035\n",
      "Data columns (total 3 columns):\n",
      " #   Column        Non-Null Count   Dtype \n",
      "---  ------        --------------   ----- \n",
      " 0   id            123036 non-null  object\n",
      " 1   message_date  123036 non-null  object\n",
      " 2   user_id       123036 non-null  int64 \n",
      "dtypes: int64(1), object(2)\n",
      "memory usage: 2.8+ MB\n",
      "<class 'pandas.core.frame.DataFrame'>\n",
      "RangeIndex: 2 entries, 0 to 1\n",
      "Data columns (total 8 columns):\n",
      " #   Column                 Non-Null Count  Dtype \n",
      "---  ------                 --------------  ----- \n",
      " 0   messages_included      2 non-null      int64 \n",
      " 1   mb_per_month_included  2 non-null      int64 \n",
      " 2   minutes_included       2 non-null      int64 \n",
      " 3   rub_monthly_fee        2 non-null      int64 \n",
      " 4   rub_per_gb             2 non-null      int64 \n",
      " 5   rub_per_message        2 non-null      int64 \n",
      " 6   rub_per_minute         2 non-null      int64 \n",
      " 7   tariff_name            2 non-null      object\n",
      "dtypes: int64(7), object(1)\n",
      "memory usage: 256.0+ bytes\n",
      "<class 'pandas.core.frame.DataFrame'>\n",
      "RangeIndex: 500 entries, 0 to 499\n",
      "Data columns (total 8 columns):\n",
      " #   Column      Non-Null Count  Dtype \n",
      "---  ------      --------------  ----- \n",
      " 0   user_id     500 non-null    int64 \n",
      " 1   age         500 non-null    int64 \n",
      " 2   churn_date  38 non-null     object\n",
      " 3   city        500 non-null    object\n",
      " 4   first_name  500 non-null    object\n",
      " 5   last_name   500 non-null    object\n",
      " 6   reg_date    500 non-null    object\n",
      " 7   tariff      500 non-null    object\n",
      "dtypes: int64(2), object(6)\n",
      "memory usage: 31.4+ KB\n"
     ]
    }
   ],
   "source": [
    "calls.info()\n",
    "internet.info()\n",
    "messages.info()\n",
    "tariffs.info()\n",
    "users.info()"
   ]
  },
  {
   "cell_type": "markdown",
   "metadata": {},
   "source": [
    "### Изучение фреймов"
   ]
  },
  {
   "cell_type": "markdown",
   "metadata": {},
   "source": [
    "#### calls"
   ]
  },
  {
   "cell_type": "code",
   "execution_count": 4,
   "metadata": {},
   "outputs": [
    {
     "name": "stdout",
     "output_type": "stream",
     "text": [
      "id           0.0\n",
      "call_date    0.0\n",
      "duration     0.0\n",
      "user_id      0.0\n",
      "dtype: float64\n",
      "       id   call_date  duration  user_id\n",
      "0  1000_0  2018-07-25      0.00     1000\n",
      "1  1000_1  2018-08-17      0.00     1000\n",
      "2  1000_2  2018-06-11      2.85     1000\n",
      "3  1000_3  2018-09-21     13.80     1000\n",
      "4  1000_4  2018-12-15      5.18     1000\n"
     ]
    }
   ],
   "source": [
    "print(calls.isna().mean())\n",
    "print(calls.head())\n"
   ]
  },
  {
   "cell_type": "markdown",
   "metadata": {},
   "source": [
    "Нет пропусков, но в двух столбцах следует заменить типы данных"
   ]
  },
  {
   "cell_type": "code",
   "execution_count": 5,
   "metadata": {},
   "outputs": [
    {
     "name": "stdout",
     "output_type": "stream",
     "text": [
      "       id  call_date  duration  user_id  month\n",
      "0  1000_0 2018-07-25         0     1000      7\n",
      "1  1000_1 2018-08-17         0     1000      8\n",
      "2  1000_2 2018-06-11         3     1000      6\n",
      "3  1000_3 2018-09-21        14     1000      9\n",
      "4  1000_4 2018-12-15         6     1000     12\n",
      "5  1000_5 2018-11-02         0     1000     11\n",
      "6  1000_6 2018-10-18         0     1000     10\n",
      "7  1000_7 2018-08-22        19     1000      8\n",
      "8  1000_8 2018-09-15        19     1000      9\n",
      "9  1000_9 2018-08-15         0     1000      8\n",
      "<class 'pandas.core.frame.DataFrame'>\n",
      "RangeIndex: 202607 entries, 0 to 202606\n",
      "Data columns (total 5 columns):\n",
      " #   Column     Non-Null Count   Dtype         \n",
      "---  ------     --------------   -----         \n",
      " 0   id         202607 non-null  object        \n",
      " 1   call_date  202607 non-null  datetime64[ns]\n",
      " 2   duration   202607 non-null  int64         \n",
      " 3   user_id    202607 non-null  int64         \n",
      " 4   month      202607 non-null  int64         \n",
      "dtypes: datetime64[ns](1), int64(3), object(1)\n",
      "memory usage: 7.7+ MB\n"
     ]
    },
    {
     "data": {
      "text/html": [
       "<div>\n",
       "<style scoped>\n",
       "    .dataframe tbody tr th:only-of-type {\n",
       "        vertical-align: middle;\n",
       "    }\n",
       "\n",
       "    .dataframe tbody tr th {\n",
       "        vertical-align: top;\n",
       "    }\n",
       "\n",
       "    .dataframe thead th {\n",
       "        text-align: right;\n",
       "    }\n",
       "</style>\n",
       "<table border=\"1\" class=\"dataframe\">\n",
       "  <thead>\n",
       "    <tr style=\"text-align: right;\">\n",
       "      <th></th>\n",
       "      <th>duration</th>\n",
       "      <th>user_id</th>\n",
       "      <th>month</th>\n",
       "    </tr>\n",
       "  </thead>\n",
       "  <tbody>\n",
       "    <tr>\n",
       "      <th>count</th>\n",
       "      <td>202607.000000</td>\n",
       "      <td>202607.000000</td>\n",
       "      <td>202607.000000</td>\n",
       "    </tr>\n",
       "    <tr>\n",
       "      <th>mean</th>\n",
       "      <td>7.158198</td>\n",
       "      <td>1253.940619</td>\n",
       "      <td>8.574067</td>\n",
       "    </tr>\n",
       "    <tr>\n",
       "      <th>std</th>\n",
       "      <td>5.959173</td>\n",
       "      <td>144.722751</td>\n",
       "      <td>2.787093</td>\n",
       "    </tr>\n",
       "    <tr>\n",
       "      <th>min</th>\n",
       "      <td>0.000000</td>\n",
       "      <td>1000.000000</td>\n",
       "      <td>1.000000</td>\n",
       "    </tr>\n",
       "    <tr>\n",
       "      <th>25%</th>\n",
       "      <td>2.000000</td>\n",
       "      <td>1126.000000</td>\n",
       "      <td>7.000000</td>\n",
       "    </tr>\n",
       "    <tr>\n",
       "      <th>50%</th>\n",
       "      <td>6.000000</td>\n",
       "      <td>1260.000000</td>\n",
       "      <td>9.000000</td>\n",
       "    </tr>\n",
       "    <tr>\n",
       "      <th>75%</th>\n",
       "      <td>11.000000</td>\n",
       "      <td>1379.000000</td>\n",
       "      <td>11.000000</td>\n",
       "    </tr>\n",
       "    <tr>\n",
       "      <th>max</th>\n",
       "      <td>38.000000</td>\n",
       "      <td>1499.000000</td>\n",
       "      <td>12.000000</td>\n",
       "    </tr>\n",
       "  </tbody>\n",
       "</table>\n",
       "</div>"
      ],
      "text/plain": [
       "            duration        user_id          month\n",
       "count  202607.000000  202607.000000  202607.000000\n",
       "mean        7.158198    1253.940619       8.574067\n",
       "std         5.959173     144.722751       2.787093\n",
       "min         0.000000    1000.000000       1.000000\n",
       "25%         2.000000    1126.000000       7.000000\n",
       "50%         6.000000    1260.000000       9.000000\n",
       "75%        11.000000    1379.000000      11.000000\n",
       "max        38.000000    1499.000000      12.000000"
      ]
     },
     "execution_count": 5,
     "metadata": {},
     "output_type": "execute_result"
    },
    {
     "data": {
      "image/png": "[encoded data removed]",
      "text/plain": [
       "<Figure size 360x360 with 1 Axes>"
      ]
     },
     "metadata": {
      "needs_background": "light"
     },
     "output_type": "display_data"
    }
   ],
   "source": [
    "# замена типа в столбце с датой\n",
    "calls['call_date'] = pd.to_datetime(calls['call_date'], format='%Y-%m-%d')\n",
    "#добавление столбца с месяцем\n",
    "calls['month'] = calls['call_date'].dt.month\n",
    "\n",
    "# нужно округлить длительность звонков \n",
    "def ceil_value(value):\n",
    "    return math.ceil(value)\n",
    "calls['duration'] = calls['duration'].apply(ceil_value)  \n",
    "np.int64(calls['duration'])\n",
    "print(calls.head(10))\n",
    "calls.info()\n",
    "calls.plot(y = 'duration', kind = 'hist', bins = 25, grid=True, figsize = (5,5), range = (0,30)).set_title('Длительность звонков')\n",
    "calls.describe()\n"
   ]
  },
  {
   "cell_type": "code",
   "execution_count": 6,
   "metadata": {
    "scrolled": false
   },
   "outputs": [
    {
     "data": {
      "image/png": "[encoded data removed]",
      "text/plain": [
       "<Figure size 432x288 with 1 Axes>"
      ]
     },
     "metadata": {
      "needs_background": "light"
     },
     "output_type": "display_data"
    }
   ],
   "source": [
    "plt.boxplot(x=calls['duration'])\n",
    "plt.show()"
   ]
  },
  {
   "cell_type": "markdown",
   "metadata": {},
   "source": [
    "C пропущенными звонками, то есть звонками с нулевой длительностью все понятно, нужно разобраться в пиках на гистограмме в значениях 6 минут, 13 минут и 18 минут"
   ]
  },
  {
   "cell_type": "markdown",
   "metadata": {},
   "source": [
    "#### internet"
   ]
  },
  {
   "cell_type": "code",
   "execution_count": 7,
   "metadata": {},
   "outputs": [
    {
     "name": "stdout",
     "output_type": "stream",
     "text": [
      "Unnamed: 0      0.0\n",
      "id              0.0\n",
      "mb_used         0.0\n",
      "session_date    0.0\n",
      "user_id         0.0\n",
      "dtype: float64\n",
      "   Unnamed: 0      id  mb_used session_date  user_id\n",
      "0           0  1000_0   112.95   2018-11-25     1000\n",
      "1           1  1000_1  1052.81   2018-09-07     1000\n",
      "2           2  1000_2  1197.26   2018-06-25     1000\n",
      "3           3  1000_3   550.27   2018-08-22     1000\n",
      "4           4  1000_4   302.56   2018-09-24     1000\n"
     ]
    }
   ],
   "source": [
    "print(internet.isna().mean())\n",
    "print(internet.head())\n",
    "# удаление повторяющегося столбца\n",
    "#internet = internet.drop('Unnamed: 0', axis = 1)\n"
   ]
  },
  {
   "cell_type": "markdown",
   "metadata": {},
   "source": [
    "Аналогично нужно поменять тип данных в столбце с датой и округлить значения в мегабайтах"
   ]
  },
  {
   "cell_type": "code",
   "execution_count": 8,
   "metadata": {},
   "outputs": [
    {
     "data": {
      "text/plain": [
       "array([ 113, 1053, 1198, ...,    0, 1247,  545])"
      ]
     },
     "execution_count": 8,
     "metadata": {},
     "output_type": "execute_result"
    }
   ],
   "source": [
    "internet['session_date'] = pd.to_datetime(internet['session_date'], format='%Y-%m-%d')\n",
    "# столбец с месяцем\n",
    "internet['month'] = internet['session_date'].dt.month\n",
    "\n",
    "# нужно округлить длительность звонков \n",
    "def ceil_value(value):\n",
    "    return math.ceil(value)\n",
    "internet['mb_used'] = internet['mb_used'].apply(ceil_value)  \n",
    "np.int64(internet['mb_used'])\n"
   ]
  },
  {
   "cell_type": "markdown",
   "metadata": {},
   "source": [
    "####  messages"
   ]
  },
  {
   "cell_type": "code",
   "execution_count": 9,
   "metadata": {},
   "outputs": [
    {
     "name": "stdout",
     "output_type": "stream",
     "text": [
      "id              0.0\n",
      "message_date    0.0\n",
      "user_id         0.0\n",
      "dtype: float64\n",
      "       id message_date  user_id\n",
      "0  1000_0   2018-06-27     1000\n",
      "1  1000_1   2018-10-08     1000\n",
      "2  1000_2   2018-08-04     1000\n",
      "3  1000_3   2018-06-16     1000\n",
      "4  1000_4   2018-12-05     1000\n"
     ]
    }
   ],
   "source": [
    "print(messages.isna().mean())\n",
    "print(messages.head())"
   ]
  },
  {
   "cell_type": "code",
   "execution_count": 10,
   "metadata": {},
   "outputs": [],
   "source": [
    "messages['message_date'] = pd.to_datetime(messages['message_date'], format='%Y-%m-%d')\n",
    "# столбец с месяцем\n",
    "messages['month'] = messages['message_date'].dt.month\n"
   ]
  },
  {
   "cell_type": "markdown",
   "metadata": {},
   "source": [
    "#### tariffs"
   ]
  },
  {
   "cell_type": "code",
   "execution_count": 11,
   "metadata": {},
   "outputs": [
    {
     "name": "stdout",
     "output_type": "stream",
     "text": [
      "messages_included        0.0\n",
      "mb_per_month_included    0.0\n",
      "minutes_included         0.0\n",
      "rub_monthly_fee          0.0\n",
      "rub_per_gb               0.0\n",
      "rub_per_message          0.0\n",
      "rub_per_minute           0.0\n",
      "tariff_name              0.0\n",
      "dtype: float64\n"
     ]
    },
    {
     "data": {
      "text/html": [
       "<div>\n",
       "<style scoped>\n",
       "    .dataframe tbody tr th:only-of-type {\n",
       "        vertical-align: middle;\n",
       "    }\n",
       "\n",
       "    .dataframe tbody tr th {\n",
       "        vertical-align: top;\n",
       "    }\n",
       "\n",
       "    .dataframe thead th {\n",
       "        text-align: right;\n",
       "    }\n",
       "</style>\n",
       "<table border=\"1\" class=\"dataframe\">\n",
       "  <thead>\n",
       "    <tr style=\"text-align: right;\">\n",
       "      <th></th>\n",
       "      <th>messages_included</th>\n",
       "      <th>mb_per_month_included</th>\n",
       "      <th>minutes_included</th>\n",
       "      <th>rub_monthly_fee</th>\n",
       "      <th>rub_per_gb</th>\n",
       "      <th>rub_per_message</th>\n",
       "      <th>rub_per_minute</th>\n",
       "      <th>tariff_name</th>\n",
       "    </tr>\n",
       "  </thead>\n",
       "  <tbody>\n",
       "    <tr>\n",
       "      <th>0</th>\n",
       "      <td>50</td>\n",
       "      <td>15360</td>\n",
       "      <td>500</td>\n",
       "      <td>550</td>\n",
       "      <td>200</td>\n",
       "      <td>3</td>\n",
       "      <td>3</td>\n",
       "      <td>smart</td>\n",
       "    </tr>\n",
       "    <tr>\n",
       "      <th>1</th>\n",
       "      <td>1000</td>\n",
       "      <td>30720</td>\n",
       "      <td>3000</td>\n",
       "      <td>1950</td>\n",
       "      <td>150</td>\n",
       "      <td>1</td>\n",
       "      <td>1</td>\n",
       "      <td>ultra</td>\n",
       "    </tr>\n",
       "  </tbody>\n",
       "</table>\n",
       "</div>"
      ],
      "text/plain": [
       "   messages_included  mb_per_month_included  minutes_included  \\\n",
       "0                 50                  15360               500   \n",
       "1               1000                  30720              3000   \n",
       "\n",
       "   rub_monthly_fee  rub_per_gb  rub_per_message  rub_per_minute tariff_name  \n",
       "0              550         200                3               3       smart  \n",
       "1             1950         150                1               1       ultra  "
      ]
     },
     "metadata": {},
     "output_type": "display_data"
    }
   ],
   "source": [
    "print(tariffs.isna().mean())\n",
    "display(tariffs.head())"
   ]
  },
  {
   "cell_type": "markdown",
   "metadata": {},
   "source": [
    "Все столбцы в формате int"
   ]
  },
  {
   "cell_type": "markdown",
   "metadata": {},
   "source": [
    "#### users"
   ]
  },
  {
   "cell_type": "code",
   "execution_count": 12,
   "metadata": {},
   "outputs": [
    {
     "name": "stdout",
     "output_type": "stream",
     "text": [
      "user_id        0.000\n",
      "age            0.000\n",
      "churn_date     0.924\n",
      "city           0.000\n",
      "first_name     0.000\n",
      "last_name      0.000\n",
      "reg_date       0.000\n",
      "tariff_name    0.000\n",
      "dtype: float64\n"
     ]
    },
    {
     "data": {
      "text/html": [
       "<div>\n",
       "<style scoped>\n",
       "    .dataframe tbody tr th:only-of-type {\n",
       "        vertical-align: middle;\n",
       "    }\n",
       "\n",
       "    .dataframe tbody tr th {\n",
       "        vertical-align: top;\n",
       "    }\n",
       "\n",
       "    .dataframe thead th {\n",
       "        text-align: right;\n",
       "    }\n",
       "</style>\n",
       "<table border=\"1\" class=\"dataframe\">\n",
       "  <thead>\n",
       "    <tr style=\"text-align: right;\">\n",
       "      <th></th>\n",
       "      <th>user_id</th>\n",
       "      <th>age</th>\n",
       "      <th>churn_date</th>\n",
       "      <th>city</th>\n",
       "      <th>first_name</th>\n",
       "      <th>last_name</th>\n",
       "      <th>reg_date</th>\n",
       "      <th>tariff_name</th>\n",
       "    </tr>\n",
       "  </thead>\n",
       "  <tbody>\n",
       "    <tr>\n",
       "      <th>0</th>\n",
       "      <td>1000</td>\n",
       "      <td>52</td>\n",
       "      <td>NaN</td>\n",
       "      <td>Краснодар</td>\n",
       "      <td>Рафаил</td>\n",
       "      <td>Верещагин</td>\n",
       "      <td>2018-05-25</td>\n",
       "      <td>ultra</td>\n",
       "    </tr>\n",
       "    <tr>\n",
       "      <th>1</th>\n",
       "      <td>1001</td>\n",
       "      <td>41</td>\n",
       "      <td>NaN</td>\n",
       "      <td>Москва</td>\n",
       "      <td>Иван</td>\n",
       "      <td>Ежов</td>\n",
       "      <td>2018-11-01</td>\n",
       "      <td>smart</td>\n",
       "    </tr>\n",
       "    <tr>\n",
       "      <th>2</th>\n",
       "      <td>1002</td>\n",
       "      <td>59</td>\n",
       "      <td>NaN</td>\n",
       "      <td>Стерлитамак</td>\n",
       "      <td>Евгений</td>\n",
       "      <td>Абрамович</td>\n",
       "      <td>2018-06-17</td>\n",
       "      <td>smart</td>\n",
       "    </tr>\n",
       "    <tr>\n",
       "      <th>3</th>\n",
       "      <td>1003</td>\n",
       "      <td>23</td>\n",
       "      <td>NaN</td>\n",
       "      <td>Москва</td>\n",
       "      <td>Белла</td>\n",
       "      <td>Белякова</td>\n",
       "      <td>2018-08-17</td>\n",
       "      <td>ultra</td>\n",
       "    </tr>\n",
       "    <tr>\n",
       "      <th>4</th>\n",
       "      <td>1004</td>\n",
       "      <td>68</td>\n",
       "      <td>NaN</td>\n",
       "      <td>Новокузнецк</td>\n",
       "      <td>Татьяна</td>\n",
       "      <td>Авдеенко</td>\n",
       "      <td>2018-05-14</td>\n",
       "      <td>ultra</td>\n",
       "    </tr>\n",
       "  </tbody>\n",
       "</table>\n",
       "</div>"
      ],
      "text/plain": [
       "   user_id  age churn_date         city first_name  last_name    reg_date  \\\n",
       "0     1000   52        NaN    Краснодар     Рафаил  Верещагин  2018-05-25   \n",
       "1     1001   41        NaN       Москва       Иван       Ежов  2018-11-01   \n",
       "2     1002   59        NaN  Стерлитамак    Евгений  Абрамович  2018-06-17   \n",
       "3     1003   23        NaN       Москва      Белла   Белякова  2018-08-17   \n",
       "4     1004   68        NaN  Новокузнецк    Татьяна   Авдеенко  2018-05-14   \n",
       "\n",
       "  tariff_name  \n",
       "0       ultra  \n",
       "1       smart  \n",
       "2       smart  \n",
       "3       ultra  \n",
       "4       ultra  "
      ]
     },
     "metadata": {},
     "output_type": "display_data"
    }
   ],
   "source": [
    "# замена имени столбца для дальнейшего объединения\n",
    "users.rename(columns=lambda x: x.replace('tariff', 'tariff_name'), inplace=True)\n",
    "print(users.isna().mean())\n",
    "display(users.head())\n"
   ]
  },
  {
   "cell_type": "code",
   "execution_count": 13,
   "metadata": {},
   "outputs": [],
   "source": [
    "users['reg_date'] = pd.to_datetime(users['reg_date'], format='%Y-%m-%d')\n",
    "users['churn_date'] = pd.to_datetime(users['churn_date'], format = '%Y-%m-%d')\n"
   ]
  },
  {
   "cell_type": "markdown",
   "metadata": {},
   "source": [
    "Пропуски в столбце churn_date обозначают, что тариф еще действует у конкретного пользователя на момент выгрузки данных"
   ]
  },
  {
   "cell_type": "code",
   "execution_count": 14,
   "metadata": {},
   "outputs": [
    {
     "name": "stdout",
     "output_type": "stream",
     "text": [
      "0\n",
      "0\n",
      "0\n",
      "0\n",
      "0\n"
     ]
    }
   ],
   "source": [
    "print(calls.duplicated().sum())\n",
    "print(messages.duplicated().sum())\n",
    "print(internet.duplicated().sum())\n",
    "print(users.duplicated().sum())\n",
    "print(tariffs.duplicated().sum())\n"
   ]
  },
  {
   "cell_type": "markdown",
   "metadata": {},
   "source": [
    "#### Количество сделанных звонков и израсходованных минут разговора по месяцам"
   ]
  },
  {
   "cell_type": "code",
   "execution_count": 15,
   "metadata": {},
   "outputs": [
    {
     "data": {
      "text/html": [
       "<div>\n",
       "<style scoped>\n",
       "    .dataframe tbody tr th:only-of-type {\n",
       "        vertical-align: middle;\n",
       "    }\n",
       "\n",
       "    .dataframe tbody tr th {\n",
       "        vertical-align: top;\n",
       "    }\n",
       "\n",
       "    .dataframe thead tr th {\n",
       "        text-align: left;\n",
       "    }\n",
       "\n",
       "    .dataframe thead tr:last-of-type th {\n",
       "        text-align: right;\n",
       "    }\n",
       "</style>\n",
       "<table border=\"1\" class=\"dataframe\">\n",
       "  <thead>\n",
       "    <tr>\n",
       "      <th></th>\n",
       "      <th colspan=\"10\" halign=\"left\">count</th>\n",
       "      <th>...</th>\n",
       "      <th colspan=\"10\" halign=\"left\">sum</th>\n",
       "    </tr>\n",
       "    <tr>\n",
       "      <th>month</th>\n",
       "      <th>1</th>\n",
       "      <th>2</th>\n",
       "      <th>3</th>\n",
       "      <th>4</th>\n",
       "      <th>5</th>\n",
       "      <th>6</th>\n",
       "      <th>7</th>\n",
       "      <th>8</th>\n",
       "      <th>9</th>\n",
       "      <th>10</th>\n",
       "      <th>...</th>\n",
       "      <th>3</th>\n",
       "      <th>4</th>\n",
       "      <th>5</th>\n",
       "      <th>6</th>\n",
       "      <th>7</th>\n",
       "      <th>8</th>\n",
       "      <th>9</th>\n",
       "      <th>10</th>\n",
       "      <th>11</th>\n",
       "      <th>12</th>\n",
       "    </tr>\n",
       "    <tr>\n",
       "      <th>user_id</th>\n",
       "      <th></th>\n",
       "      <th></th>\n",
       "      <th></th>\n",
       "      <th></th>\n",
       "      <th></th>\n",
       "      <th></th>\n",
       "      <th></th>\n",
       "      <th></th>\n",
       "      <th></th>\n",
       "      <th></th>\n",
       "      <th></th>\n",
       "      <th></th>\n",
       "      <th></th>\n",
       "      <th></th>\n",
       "      <th></th>\n",
       "      <th></th>\n",
       "      <th></th>\n",
       "      <th></th>\n",
       "      <th></th>\n",
       "      <th></th>\n",
       "      <th></th>\n",
       "    </tr>\n",
       "  </thead>\n",
       "  <tbody>\n",
       "    <tr>\n",
       "      <th>1000</th>\n",
       "      <td></td>\n",
       "      <td></td>\n",
       "      <td></td>\n",
       "      <td></td>\n",
       "      <td>22.0</td>\n",
       "      <td>43.0</td>\n",
       "      <td>47.0</td>\n",
       "      <td>52.0</td>\n",
       "      <td>58.0</td>\n",
       "      <td>57.0</td>\n",
       "      <td>...</td>\n",
       "      <td></td>\n",
       "      <td></td>\n",
       "      <td>159.0</td>\n",
       "      <td>172.0</td>\n",
       "      <td>340.0</td>\n",
       "      <td>408.0</td>\n",
       "      <td>466.0</td>\n",
       "      <td>350.0</td>\n",
       "      <td>338.0</td>\n",
       "      <td>333.0</td>\n",
       "    </tr>\n",
       "    <tr>\n",
       "      <th>1001</th>\n",
       "      <td></td>\n",
       "      <td></td>\n",
       "      <td></td>\n",
       "      <td></td>\n",
       "      <td></td>\n",
       "      <td></td>\n",
       "      <td></td>\n",
       "      <td></td>\n",
       "      <td></td>\n",
       "      <td></td>\n",
       "      <td>...</td>\n",
       "      <td></td>\n",
       "      <td></td>\n",
       "      <td></td>\n",
       "      <td></td>\n",
       "      <td></td>\n",
       "      <td></td>\n",
       "      <td></td>\n",
       "      <td></td>\n",
       "      <td>430.0</td>\n",
       "      <td>414.0</td>\n",
       "    </tr>\n",
       "    <tr>\n",
       "      <th>1002</th>\n",
       "      <td></td>\n",
       "      <td></td>\n",
       "      <td></td>\n",
       "      <td></td>\n",
       "      <td></td>\n",
       "      <td>15.0</td>\n",
       "      <td>26.0</td>\n",
       "      <td>42.0</td>\n",
       "      <td>36.0</td>\n",
       "      <td>33.0</td>\n",
       "      <td>...</td>\n",
       "      <td></td>\n",
       "      <td></td>\n",
       "      <td></td>\n",
       "      <td>117.0</td>\n",
       "      <td>214.0</td>\n",
       "      <td>289.0</td>\n",
       "      <td>206.0</td>\n",
       "      <td>212.0</td>\n",
       "      <td>243.0</td>\n",
       "      <td>236.0</td>\n",
       "    </tr>\n",
       "    <tr>\n",
       "      <th>1003</th>\n",
       "      <td></td>\n",
       "      <td></td>\n",
       "      <td></td>\n",
       "      <td></td>\n",
       "      <td></td>\n",
       "      <td></td>\n",
       "      <td></td>\n",
       "      <td>55.0</td>\n",
       "      <td>134.0</td>\n",
       "      <td>108.0</td>\n",
       "      <td>...</td>\n",
       "      <td></td>\n",
       "      <td></td>\n",
       "      <td></td>\n",
       "      <td></td>\n",
       "      <td></td>\n",
       "      <td>380.0</td>\n",
       "      <td>961.0</td>\n",
       "      <td>855.0</td>\n",
       "      <td>824.0</td>\n",
       "      <td>802.0</td>\n",
       "    </tr>\n",
       "    <tr>\n",
       "      <th>1004</th>\n",
       "      <td></td>\n",
       "      <td></td>\n",
       "      <td></td>\n",
       "      <td></td>\n",
       "      <td>9.0</td>\n",
       "      <td>31.0</td>\n",
       "      <td>22.0</td>\n",
       "      <td>19.0</td>\n",
       "      <td>26.0</td>\n",
       "      <td>29.0</td>\n",
       "      <td>...</td>\n",
       "      <td></td>\n",
       "      <td></td>\n",
       "      <td>35.0</td>\n",
       "      <td>171.0</td>\n",
       "      <td>135.0</td>\n",
       "      <td>137.0</td>\n",
       "      <td>117.0</td>\n",
       "      <td>145.0</td>\n",
       "      <td>117.0</td>\n",
       "      <td>130.0</td>\n",
       "    </tr>\n",
       "    <tr>\n",
       "      <th>...</th>\n",
       "      <td>...</td>\n",
       "      <td>...</td>\n",
       "      <td>...</td>\n",
       "      <td>...</td>\n",
       "      <td>...</td>\n",
       "      <td>...</td>\n",
       "      <td>...</td>\n",
       "      <td>...</td>\n",
       "      <td>...</td>\n",
       "      <td>...</td>\n",
       "      <td>...</td>\n",
       "      <td>...</td>\n",
       "      <td>...</td>\n",
       "      <td>...</td>\n",
       "      <td>...</td>\n",
       "      <td>...</td>\n",
       "      <td>...</td>\n",
       "      <td>...</td>\n",
       "      <td>...</td>\n",
       "      <td>...</td>\n",
       "      <td>...</td>\n",
       "    </tr>\n",
       "    <tr>\n",
       "      <th>1495</th>\n",
       "      <td></td>\n",
       "      <td></td>\n",
       "      <td></td>\n",
       "      <td></td>\n",
       "      <td></td>\n",
       "      <td></td>\n",
       "      <td></td>\n",
       "      <td>17.0</td>\n",
       "      <td>112.0</td>\n",
       "      <td>152.0</td>\n",
       "      <td>...</td>\n",
       "      <td></td>\n",
       "      <td></td>\n",
       "      <td></td>\n",
       "      <td></td>\n",
       "      <td></td>\n",
       "      <td>92.0</td>\n",
       "      <td>813.0</td>\n",
       "      <td>1030.0</td>\n",
       "      <td>954.0</td>\n",
       "      <td>1031.0</td>\n",
       "    </tr>\n",
       "    <tr>\n",
       "      <th>1496</th>\n",
       "      <td>7.0</td>\n",
       "      <td>77.0</td>\n",
       "      <td>79.0</td>\n",
       "      <td>67.0</td>\n",
       "      <td>63.0</td>\n",
       "      <td>74.0</td>\n",
       "      <td>73.0</td>\n",
       "      <td>88.0</td>\n",
       "      <td>68.0</td>\n",
       "      <td>72.0</td>\n",
       "      <td>...</td>\n",
       "      <td>557.0</td>\n",
       "      <td>521.0</td>\n",
       "      <td>484.0</td>\n",
       "      <td>555.0</td>\n",
       "      <td>582.0</td>\n",
       "      <td>527.0</td>\n",
       "      <td>486.0</td>\n",
       "      <td>450.0</td>\n",
       "      <td>662.0</td>\n",
       "      <td>518.0</td>\n",
       "    </tr>\n",
       "    <tr>\n",
       "      <th>1497</th>\n",
       "      <td></td>\n",
       "      <td></td>\n",
       "      <td></td>\n",
       "      <td></td>\n",
       "      <td></td>\n",
       "      <td></td>\n",
       "      <td></td>\n",
       "      <td></td>\n",
       "      <td></td>\n",
       "      <td>66.0</td>\n",
       "      <td>...</td>\n",
       "      <td></td>\n",
       "      <td></td>\n",
       "      <td></td>\n",
       "      <td></td>\n",
       "      <td></td>\n",
       "      <td></td>\n",
       "      <td></td>\n",
       "      <td>490.0</td>\n",
       "      <td>371.0</td>\n",
       "      <td>545.0</td>\n",
       "    </tr>\n",
       "    <tr>\n",
       "      <th>1498</th>\n",
       "      <td></td>\n",
       "      <td></td>\n",
       "      <td></td>\n",
       "      <td></td>\n",
       "      <td></td>\n",
       "      <td></td>\n",
       "      <td>23.0</td>\n",
       "      <td>57.0</td>\n",
       "      <td>59.0</td>\n",
       "      <td>41.0</td>\n",
       "      <td>...</td>\n",
       "      <td></td>\n",
       "      <td></td>\n",
       "      <td></td>\n",
       "      <td></td>\n",
       "      <td>175.0</td>\n",
       "      <td>400.0</td>\n",
       "      <td>471.0</td>\n",
       "      <td>247.0</td>\n",
       "      <td></td>\n",
       "      <td></td>\n",
       "    </tr>\n",
       "    <tr>\n",
       "      <th>1499</th>\n",
       "      <td></td>\n",
       "      <td></td>\n",
       "      <td></td>\n",
       "      <td></td>\n",
       "      <td></td>\n",
       "      <td></td>\n",
       "      <td></td>\n",
       "      <td></td>\n",
       "      <td>9.0</td>\n",
       "      <td>68.0</td>\n",
       "      <td>...</td>\n",
       "      <td></td>\n",
       "      <td></td>\n",
       "      <td></td>\n",
       "      <td></td>\n",
       "      <td></td>\n",
       "      <td></td>\n",
       "      <td>70.0</td>\n",
       "      <td>449.0</td>\n",
       "      <td>612.0</td>\n",
       "      <td>492.0</td>\n",
       "    </tr>\n",
       "  </tbody>\n",
       "</table>\n",
       "<p>492 rows × 24 columns</p>\n",
       "</div>"
      ],
      "text/plain": [
       "        count                                                          ...  \\\n",
       "month      1     2     3     4     5     6     7     8      9      10  ...   \n",
       "user_id                                                                ...   \n",
       "1000                             22.0  43.0  47.0  52.0   58.0   57.0  ...   \n",
       "1001                                                                   ...   \n",
       "1002                                   15.0  26.0  42.0   36.0   33.0  ...   \n",
       "1003                                               55.0  134.0  108.0  ...   \n",
       "1004                              9.0  31.0  22.0  19.0   26.0   29.0  ...   \n",
       "...       ...   ...   ...   ...   ...   ...   ...   ...    ...    ...  ...   \n",
       "1495                                               17.0  112.0  152.0  ...   \n",
       "1496      7.0  77.0  79.0  67.0  63.0  74.0  73.0  88.0   68.0   72.0  ...   \n",
       "1497                                                             66.0  ...   \n",
       "1498                                         23.0  57.0   59.0   41.0  ...   \n",
       "1499                                                       9.0   68.0  ...   \n",
       "\n",
       "           sum                                                           \\\n",
       "month       3      4      5      6      7      8      9       10     11   \n",
       "user_id                                                                   \n",
       "1000                   159.0  172.0  340.0  408.0  466.0   350.0  338.0   \n",
       "1001                                                              430.0   \n",
       "1002                          117.0  214.0  289.0  206.0   212.0  243.0   \n",
       "1003                                        380.0  961.0   855.0  824.0   \n",
       "1004                    35.0  171.0  135.0  137.0  117.0   145.0  117.0   \n",
       "...        ...    ...    ...    ...    ...    ...    ...     ...    ...   \n",
       "1495                                         92.0  813.0  1030.0  954.0   \n",
       "1496     557.0  521.0  484.0  555.0  582.0  527.0  486.0   450.0  662.0   \n",
       "1497                                                       490.0  371.0   \n",
       "1498                                 175.0  400.0  471.0   247.0          \n",
       "1499                                                70.0   449.0  612.0   \n",
       "\n",
       "                 \n",
       "month        12  \n",
       "user_id          \n",
       "1000      333.0  \n",
       "1001      414.0  \n",
       "1002      236.0  \n",
       "1003      802.0  \n",
       "1004      130.0  \n",
       "...         ...  \n",
       "1495     1031.0  \n",
       "1496      518.0  \n",
       "1497      545.0  \n",
       "1498             \n",
       "1499      492.0  \n",
       "\n",
       "[492 rows x 24 columns]"
      ]
     },
     "execution_count": 15,
     "metadata": {},
     "output_type": "execute_result"
    }
   ],
   "source": [
    "calls_duration_pivot = calls.pivot_table(index=['user_id'], columns='month', values='duration', aggfunc=['count','sum'])\n",
    "calls_duration_pivot.fillna('')"
   ]
  },
  {
   "cell_type": "markdown",
   "metadata": {},
   "source": [
    "Создала сводную таблицу из длительности звонков каждого пользователя по месяцам, для наглядости пропуски заполнила пробелом.\n",
    "<dev> Данные во фреймах о 500 пользователях, 8 из них не пользовались звонками за 2018 год\n"
   ]
  },
  {
   "cell_type": "markdown",
   "metadata": {},
   "source": [
    "#### Количество отправленных сообщений по месяцам"
   ]
  },
  {
   "cell_type": "code",
   "execution_count": 16,
   "metadata": {},
   "outputs": [
    {
     "data": {
      "text/html": [
       "<div>\n",
       "<style scoped>\n",
       "    .dataframe tbody tr th:only-of-type {\n",
       "        vertical-align: middle;\n",
       "    }\n",
       "\n",
       "    .dataframe tbody tr th {\n",
       "        vertical-align: top;\n",
       "    }\n",
       "\n",
       "    .dataframe thead th {\n",
       "        text-align: right;\n",
       "    }\n",
       "</style>\n",
       "<table border=\"1\" class=\"dataframe\">\n",
       "  <thead>\n",
       "    <tr style=\"text-align: right;\">\n",
       "      <th>month</th>\n",
       "      <th>1</th>\n",
       "      <th>2</th>\n",
       "      <th>3</th>\n",
       "      <th>4</th>\n",
       "      <th>5</th>\n",
       "      <th>6</th>\n",
       "      <th>7</th>\n",
       "      <th>8</th>\n",
       "      <th>9</th>\n",
       "      <th>10</th>\n",
       "      <th>11</th>\n",
       "      <th>12</th>\n",
       "    </tr>\n",
       "    <tr>\n",
       "      <th>user_id</th>\n",
       "      <th></th>\n",
       "      <th></th>\n",
       "      <th></th>\n",
       "      <th></th>\n",
       "      <th></th>\n",
       "      <th></th>\n",
       "      <th></th>\n",
       "      <th></th>\n",
       "      <th></th>\n",
       "      <th></th>\n",
       "      <th></th>\n",
       "      <th></th>\n",
       "    </tr>\n",
       "  </thead>\n",
       "  <tbody>\n",
       "    <tr>\n",
       "      <th>1000</th>\n",
       "      <td></td>\n",
       "      <td></td>\n",
       "      <td></td>\n",
       "      <td></td>\n",
       "      <td>22.0</td>\n",
       "      <td>60.0</td>\n",
       "      <td>75.0</td>\n",
       "      <td>81.0</td>\n",
       "      <td>57.0</td>\n",
       "      <td>73.0</td>\n",
       "      <td>58.0</td>\n",
       "      <td>70.0</td>\n",
       "    </tr>\n",
       "    <tr>\n",
       "      <th>1002</th>\n",
       "      <td></td>\n",
       "      <td></td>\n",
       "      <td></td>\n",
       "      <td></td>\n",
       "      <td></td>\n",
       "      <td>4.0</td>\n",
       "      <td>11.0</td>\n",
       "      <td>13.0</td>\n",
       "      <td>4.0</td>\n",
       "      <td>10.0</td>\n",
       "      <td>16.0</td>\n",
       "      <td>12.0</td>\n",
       "    </tr>\n",
       "    <tr>\n",
       "      <th>1003</th>\n",
       "      <td></td>\n",
       "      <td></td>\n",
       "      <td></td>\n",
       "      <td></td>\n",
       "      <td></td>\n",
       "      <td></td>\n",
       "      <td></td>\n",
       "      <td>37.0</td>\n",
       "      <td>91.0</td>\n",
       "      <td>83.0</td>\n",
       "      <td>94.0</td>\n",
       "      <td>75.0</td>\n",
       "    </tr>\n",
       "    <tr>\n",
       "      <th>1004</th>\n",
       "      <td></td>\n",
       "      <td></td>\n",
       "      <td></td>\n",
       "      <td></td>\n",
       "      <td>95.0</td>\n",
       "      <td>134.0</td>\n",
       "      <td>181.0</td>\n",
       "      <td>151.0</td>\n",
       "      <td>146.0</td>\n",
       "      <td>165.0</td>\n",
       "      <td>158.0</td>\n",
       "      <td>162.0</td>\n",
       "    </tr>\n",
       "    <tr>\n",
       "      <th>1005</th>\n",
       "      <td>7.0</td>\n",
       "      <td>38.0</td>\n",
       "      <td>56.0</td>\n",
       "      <td>41.0</td>\n",
       "      <td>42.0</td>\n",
       "      <td>47.0</td>\n",
       "      <td>56.0</td>\n",
       "      <td>64.0</td>\n",
       "      <td>52.0</td>\n",
       "      <td>44.0</td>\n",
       "      <td>51.0</td>\n",
       "      <td>54.0</td>\n",
       "    </tr>\n",
       "    <tr>\n",
       "      <th>...</th>\n",
       "      <td>...</td>\n",
       "      <td>...</td>\n",
       "      <td>...</td>\n",
       "      <td>...</td>\n",
       "      <td>...</td>\n",
       "      <td>...</td>\n",
       "      <td>...</td>\n",
       "      <td>...</td>\n",
       "      <td>...</td>\n",
       "      <td>...</td>\n",
       "      <td>...</td>\n",
       "      <td>...</td>\n",
       "    </tr>\n",
       "    <tr>\n",
       "      <th>1495</th>\n",
       "      <td></td>\n",
       "      <td></td>\n",
       "      <td></td>\n",
       "      <td></td>\n",
       "      <td></td>\n",
       "      <td></td>\n",
       "      <td></td>\n",
       "      <td>13.0</td>\n",
       "      <td>82.0</td>\n",
       "      <td>82.0</td>\n",
       "      <td>79.0</td>\n",
       "      <td>84.0</td>\n",
       "    </tr>\n",
       "    <tr>\n",
       "      <th>1496</th>\n",
       "      <td>9.0</td>\n",
       "      <td>45.0</td>\n",
       "      <td>46.0</td>\n",
       "      <td>49.0</td>\n",
       "      <td>40.0</td>\n",
       "      <td>35.0</td>\n",
       "      <td>42.0</td>\n",
       "      <td>41.0</td>\n",
       "      <td>29.0</td>\n",
       "      <td>35.0</td>\n",
       "      <td>46.0</td>\n",
       "      <td>51.0</td>\n",
       "    </tr>\n",
       "    <tr>\n",
       "      <th>1497</th>\n",
       "      <td></td>\n",
       "      <td></td>\n",
       "      <td></td>\n",
       "      <td></td>\n",
       "      <td></td>\n",
       "      <td></td>\n",
       "      <td></td>\n",
       "      <td></td>\n",
       "      <td></td>\n",
       "      <td>20.0</td>\n",
       "      <td>14.0</td>\n",
       "      <td>17.0</td>\n",
       "    </tr>\n",
       "    <tr>\n",
       "      <th>1498</th>\n",
       "      <td></td>\n",
       "      <td></td>\n",
       "      <td></td>\n",
       "      <td></td>\n",
       "      <td></td>\n",
       "      <td></td>\n",
       "      <td>20.0</td>\n",
       "      <td>62.0</td>\n",
       "      <td>44.0</td>\n",
       "      <td>42.0</td>\n",
       "      <td></td>\n",
       "      <td></td>\n",
       "    </tr>\n",
       "    <tr>\n",
       "      <th>1499</th>\n",
       "      <td></td>\n",
       "      <td></td>\n",
       "      <td></td>\n",
       "      <td></td>\n",
       "      <td></td>\n",
       "      <td></td>\n",
       "      <td></td>\n",
       "      <td></td>\n",
       "      <td>11.0</td>\n",
       "      <td>48.0</td>\n",
       "      <td>59.0</td>\n",
       "      <td>66.0</td>\n",
       "    </tr>\n",
       "  </tbody>\n",
       "</table>\n",
       "<p>426 rows × 12 columns</p>\n",
       "</div>"
      ],
      "text/plain": [
       "month     1     2     3     4     5      6      7      8      9      10  \\\n",
       "user_id                                                                   \n",
       "1000                            22.0   60.0   75.0   81.0   57.0   73.0   \n",
       "1002                                    4.0   11.0   13.0    4.0   10.0   \n",
       "1003                                                 37.0   91.0   83.0   \n",
       "1004                            95.0  134.0  181.0  151.0  146.0  165.0   \n",
       "1005     7.0  38.0  56.0  41.0  42.0   47.0   56.0   64.0   52.0   44.0   \n",
       "...      ...   ...   ...   ...   ...    ...    ...    ...    ...    ...   \n",
       "1495                                                 13.0   82.0   82.0   \n",
       "1496     9.0  45.0  46.0  49.0  40.0   35.0   42.0   41.0   29.0   35.0   \n",
       "1497                                                               20.0   \n",
       "1498                                          20.0   62.0   44.0   42.0   \n",
       "1499                                                        11.0   48.0   \n",
       "\n",
       "month       11     12  \n",
       "user_id                \n",
       "1000      58.0   70.0  \n",
       "1002      16.0   12.0  \n",
       "1003      94.0   75.0  \n",
       "1004     158.0  162.0  \n",
       "1005      51.0   54.0  \n",
       "...        ...    ...  \n",
       "1495      79.0   84.0  \n",
       "1496      46.0   51.0  \n",
       "1497      14.0   17.0  \n",
       "1498                   \n",
       "1499      59.0   66.0  \n",
       "\n",
       "[426 rows x 12 columns]"
      ]
     },
     "execution_count": 16,
     "metadata": {},
     "output_type": "execute_result"
    }
   ],
   "source": [
    "messages_pivot = messages.pivot_table(index=['user_id'], columns='month', values='message_date', aggfunc='count')\n",
    "messages_pivot.fillna('')"
   ]
  },
  {
   "cell_type": "markdown",
   "metadata": {},
   "source": [
    "74 пользователя не отправили ни одного сообщения за 2018 год"
   ]
  },
  {
   "cell_type": "markdown",
   "metadata": {},
   "source": [
    "#### Объем израсходованного интернет-трафика по месяцам"
   ]
  },
  {
   "cell_type": "code",
   "execution_count": 17,
   "metadata": {},
   "outputs": [
    {
     "data": {
      "text/html": [
       "<div>\n",
       "<style scoped>\n",
       "    .dataframe tbody tr th:only-of-type {\n",
       "        vertical-align: middle;\n",
       "    }\n",
       "\n",
       "    .dataframe tbody tr th {\n",
       "        vertical-align: top;\n",
       "    }\n",
       "\n",
       "    .dataframe thead th {\n",
       "        text-align: right;\n",
       "    }\n",
       "</style>\n",
       "<table border=\"1\" class=\"dataframe\">\n",
       "  <thead>\n",
       "    <tr style=\"text-align: right;\">\n",
       "      <th>month</th>\n",
       "      <th>1</th>\n",
       "      <th>2</th>\n",
       "      <th>3</th>\n",
       "      <th>4</th>\n",
       "      <th>5</th>\n",
       "      <th>6</th>\n",
       "      <th>7</th>\n",
       "      <th>8</th>\n",
       "      <th>9</th>\n",
       "      <th>10</th>\n",
       "      <th>11</th>\n",
       "      <th>12</th>\n",
       "    </tr>\n",
       "    <tr>\n",
       "      <th>user_id</th>\n",
       "      <th></th>\n",
       "      <th></th>\n",
       "      <th></th>\n",
       "      <th></th>\n",
       "      <th></th>\n",
       "      <th></th>\n",
       "      <th></th>\n",
       "      <th></th>\n",
       "      <th></th>\n",
       "      <th></th>\n",
       "      <th></th>\n",
       "      <th></th>\n",
       "    </tr>\n",
       "  </thead>\n",
       "  <tbody>\n",
       "    <tr>\n",
       "      <th>1000</th>\n",
       "      <td></td>\n",
       "      <td></td>\n",
       "      <td></td>\n",
       "      <td></td>\n",
       "      <td>2256.0</td>\n",
       "      <td>23257.0</td>\n",
       "      <td>14016.0</td>\n",
       "      <td>14070.0</td>\n",
       "      <td>14581.0</td>\n",
       "      <td>14717.0</td>\n",
       "      <td>14768.0</td>\n",
       "      <td>9827.0</td>\n",
       "    </tr>\n",
       "    <tr>\n",
       "      <th>1001</th>\n",
       "      <td></td>\n",
       "      <td></td>\n",
       "      <td></td>\n",
       "      <td></td>\n",
       "      <td></td>\n",
       "      <td></td>\n",
       "      <td></td>\n",
       "      <td></td>\n",
       "      <td></td>\n",
       "      <td></td>\n",
       "      <td>18452.0</td>\n",
       "      <td>14053.0</td>\n",
       "    </tr>\n",
       "    <tr>\n",
       "      <th>1002</th>\n",
       "      <td></td>\n",
       "      <td></td>\n",
       "      <td></td>\n",
       "      <td></td>\n",
       "      <td></td>\n",
       "      <td>10871.0</td>\n",
       "      <td>17601.0</td>\n",
       "      <td>20347.0</td>\n",
       "      <td>16712.0</td>\n",
       "      <td>13905.0</td>\n",
       "      <td>18610.0</td>\n",
       "      <td>18137.0</td>\n",
       "    </tr>\n",
       "    <tr>\n",
       "      <th>1003</th>\n",
       "      <td></td>\n",
       "      <td></td>\n",
       "      <td></td>\n",
       "      <td></td>\n",
       "      <td></td>\n",
       "      <td></td>\n",
       "      <td></td>\n",
       "      <td>8571.0</td>\n",
       "      <td>12479.0</td>\n",
       "      <td>14779.0</td>\n",
       "      <td>11368.0</td>\n",
       "      <td>10132.0</td>\n",
       "    </tr>\n",
       "    <tr>\n",
       "      <th>1004</th>\n",
       "      <td></td>\n",
       "      <td></td>\n",
       "      <td></td>\n",
       "      <td></td>\n",
       "      <td>13415.0</td>\n",
       "      <td>17619.0</td>\n",
       "      <td>22243.0</td>\n",
       "      <td>28607.0</td>\n",
       "      <td>15125.0</td>\n",
       "      <td>18494.0</td>\n",
       "      <td>15631.0</td>\n",
       "      <td>18038.0</td>\n",
       "    </tr>\n",
       "    <tr>\n",
       "      <th>...</th>\n",
       "      <td>...</td>\n",
       "      <td>...</td>\n",
       "      <td>...</td>\n",
       "      <td>...</td>\n",
       "      <td>...</td>\n",
       "      <td>...</td>\n",
       "      <td>...</td>\n",
       "      <td>...</td>\n",
       "      <td>...</td>\n",
       "      <td>...</td>\n",
       "      <td>...</td>\n",
       "      <td>...</td>\n",
       "    </tr>\n",
       "    <tr>\n",
       "      <th>1495</th>\n",
       "      <td></td>\n",
       "      <td></td>\n",
       "      <td></td>\n",
       "      <td></td>\n",
       "      <td></td>\n",
       "      <td></td>\n",
       "      <td></td>\n",
       "      <td>2616.0</td>\n",
       "      <td>33105.0</td>\n",
       "      <td>29393.0</td>\n",
       "      <td>38972.0</td>\n",
       "      <td>23450.0</td>\n",
       "    </tr>\n",
       "    <tr>\n",
       "      <th>1496</th>\n",
       "      <td>3766.0</td>\n",
       "      <td>28523.0</td>\n",
       "      <td>24990.0</td>\n",
       "      <td>21098.0</td>\n",
       "      <td>23740.0</td>\n",
       "      <td>20163.0</td>\n",
       "      <td>24395.0</td>\n",
       "      <td>23560.0</td>\n",
       "      <td>26970.0</td>\n",
       "      <td>28215.0</td>\n",
       "      <td>25092.0</td>\n",
       "      <td>20757.0</td>\n",
       "    </tr>\n",
       "    <tr>\n",
       "      <th>1497</th>\n",
       "      <td></td>\n",
       "      <td></td>\n",
       "      <td></td>\n",
       "      <td></td>\n",
       "      <td></td>\n",
       "      <td></td>\n",
       "      <td></td>\n",
       "      <td></td>\n",
       "      <td></td>\n",
       "      <td>11512.0</td>\n",
       "      <td>14174.0</td>\n",
       "      <td>19940.0</td>\n",
       "    </tr>\n",
       "    <tr>\n",
       "      <th>1498</th>\n",
       "      <td></td>\n",
       "      <td></td>\n",
       "      <td></td>\n",
       "      <td></td>\n",
       "      <td></td>\n",
       "      <td></td>\n",
       "      <td>7486.0</td>\n",
       "      <td>24270.0</td>\n",
       "      <td>22166.0</td>\n",
       "      <td>20604.0</td>\n",
       "      <td></td>\n",
       "      <td></td>\n",
       "    </tr>\n",
       "    <tr>\n",
       "      <th>1499</th>\n",
       "      <td></td>\n",
       "      <td></td>\n",
       "      <td></td>\n",
       "      <td></td>\n",
       "      <td></td>\n",
       "      <td></td>\n",
       "      <td></td>\n",
       "      <td></td>\n",
       "      <td>1848.0</td>\n",
       "      <td>17809.0</td>\n",
       "      <td>17984.0</td>\n",
       "      <td>13077.0</td>\n",
       "    </tr>\n",
       "  </tbody>\n",
       "</table>\n",
       "<p>497 rows × 12 columns</p>\n",
       "</div>"
      ],
      "text/plain": [
       "month        1        2        3        4        5        6        7   \\\n",
       "user_id                                                                 \n",
       "1000                                         2256.0  23257.0  14016.0   \n",
       "1001                                                                    \n",
       "1002                                                 10871.0  17601.0   \n",
       "1003                                                                    \n",
       "1004                                        13415.0  17619.0  22243.0   \n",
       "...         ...      ...      ...      ...      ...      ...      ...   \n",
       "1495                                                                    \n",
       "1496     3766.0  28523.0  24990.0  21098.0  23740.0  20163.0  24395.0   \n",
       "1497                                                                    \n",
       "1498                                                           7486.0   \n",
       "1499                                                                    \n",
       "\n",
       "month         8        9        10       11       12  \n",
       "user_id                                               \n",
       "1000     14070.0  14581.0  14717.0  14768.0   9827.0  \n",
       "1001                                18452.0  14053.0  \n",
       "1002     20347.0  16712.0  13905.0  18610.0  18137.0  \n",
       "1003      8571.0  12479.0  14779.0  11368.0  10132.0  \n",
       "1004     28607.0  15125.0  18494.0  15631.0  18038.0  \n",
       "...          ...      ...      ...      ...      ...  \n",
       "1495      2616.0  33105.0  29393.0  38972.0  23450.0  \n",
       "1496     23560.0  26970.0  28215.0  25092.0  20757.0  \n",
       "1497                       11512.0  14174.0  19940.0  \n",
       "1498     24270.0  22166.0  20604.0                    \n",
       "1499               1848.0  17809.0  17984.0  13077.0  \n",
       "\n",
       "[497 rows x 12 columns]"
      ]
     },
     "execution_count": 17,
     "metadata": {},
     "output_type": "execute_result"
    }
   ],
   "source": [
    "internet_pivot = internet.pivot_table(index=['user_id'], columns='month', values='mb_used', aggfunc='sum')\n",
    "internet_pivot.fillna('')"
   ]
  },
  {
   "cell_type": "markdown",
   "metadata": {},
   "source": [
    "Аналогично с таблицами выше, 3 пользователя не использовали интернет "
   ]
  },
  {
   "cell_type": "markdown",
   "metadata": {},
   "source": [
    "Пропуски в первых месяцах использования звонков/интернета/сообщений говорит о первом месяце подключения данного тарифа, создание новой таблицы с месяцем регистрации необходимо для вычисления выручки компании с каждого пользователя"
   ]
  },
  {
   "cell_type": "code",
   "execution_count": 18,
   "metadata": {},
   "outputs": [],
   "source": [
    "user_tariff = users.loc[:, ['user_id', 'tariff_name']]\n",
    "user_tariff['month_reg'] = users['reg_date'].dt.month"
   ]
  },
  {
   "cell_type": "markdown",
   "metadata": {},
   "source": [
    "#### помесячная выручка с каждого пользователя "
   ]
  },
  {
   "cell_type": "code",
   "execution_count": 19,
   "metadata": {
    "scrolled": false
   },
   "outputs": [
    {
     "data": {
      "text/html": [
       "<div>\n",
       "<style scoped>\n",
       "    .dataframe tbody tr th:only-of-type {\n",
       "        vertical-align: middle;\n",
       "    }\n",
       "\n",
       "    .dataframe tbody tr th {\n",
       "        vertical-align: top;\n",
       "    }\n",
       "\n",
       "    .dataframe thead th {\n",
       "        text-align: right;\n",
       "    }\n",
       "</style>\n",
       "<table border=\"1\" class=\"dataframe\">\n",
       "  <thead>\n",
       "    <tr style=\"text-align: right;\">\n",
       "      <th></th>\n",
       "      <th>user_id</th>\n",
       "      <th>tariff_name</th>\n",
       "      <th>month_reg</th>\n",
       "      <th>1_x</th>\n",
       "      <th>2_x</th>\n",
       "      <th>3_x</th>\n",
       "      <th>4_x</th>\n",
       "      <th>5_x</th>\n",
       "      <th>6_x</th>\n",
       "      <th>7_x</th>\n",
       "      <th>...</th>\n",
       "      <th>3</th>\n",
       "      <th>4</th>\n",
       "      <th>5</th>\n",
       "      <th>6</th>\n",
       "      <th>7</th>\n",
       "      <th>8</th>\n",
       "      <th>9</th>\n",
       "      <th>10</th>\n",
       "      <th>11</th>\n",
       "      <th>12</th>\n",
       "    </tr>\n",
       "  </thead>\n",
       "  <tbody>\n",
       "    <tr>\n",
       "      <th>0</th>\n",
       "      <td>1000</td>\n",
       "      <td>ultra</td>\n",
       "      <td>5</td>\n",
       "      <td>NaN</td>\n",
       "      <td>NaN</td>\n",
       "      <td>NaN</td>\n",
       "      <td>NaN</td>\n",
       "      <td>159.0</td>\n",
       "      <td>172.0</td>\n",
       "      <td>340.0</td>\n",
       "      <td>...</td>\n",
       "      <td>NaN</td>\n",
       "      <td>NaN</td>\n",
       "      <td>22.0</td>\n",
       "      <td>60.0</td>\n",
       "      <td>75.0</td>\n",
       "      <td>81.0</td>\n",
       "      <td>57.0</td>\n",
       "      <td>73.0</td>\n",
       "      <td>58.0</td>\n",
       "      <td>70.0</td>\n",
       "    </tr>\n",
       "    <tr>\n",
       "      <th>1</th>\n",
       "      <td>1001</td>\n",
       "      <td>smart</td>\n",
       "      <td>11</td>\n",
       "      <td>NaN</td>\n",
       "      <td>NaN</td>\n",
       "      <td>NaN</td>\n",
       "      <td>NaN</td>\n",
       "      <td>NaN</td>\n",
       "      <td>NaN</td>\n",
       "      <td>NaN</td>\n",
       "      <td>...</td>\n",
       "      <td>NaN</td>\n",
       "      <td>NaN</td>\n",
       "      <td>NaN</td>\n",
       "      <td>NaN</td>\n",
       "      <td>NaN</td>\n",
       "      <td>NaN</td>\n",
       "      <td>NaN</td>\n",
       "      <td>NaN</td>\n",
       "      <td>NaN</td>\n",
       "      <td>NaN</td>\n",
       "    </tr>\n",
       "    <tr>\n",
       "      <th>2</th>\n",
       "      <td>1002</td>\n",
       "      <td>smart</td>\n",
       "      <td>6</td>\n",
       "      <td>NaN</td>\n",
       "      <td>NaN</td>\n",
       "      <td>NaN</td>\n",
       "      <td>NaN</td>\n",
       "      <td>NaN</td>\n",
       "      <td>117.0</td>\n",
       "      <td>214.0</td>\n",
       "      <td>...</td>\n",
       "      <td>NaN</td>\n",
       "      <td>NaN</td>\n",
       "      <td>NaN</td>\n",
       "      <td>4.0</td>\n",
       "      <td>11.0</td>\n",
       "      <td>13.0</td>\n",
       "      <td>4.0</td>\n",
       "      <td>10.0</td>\n",
       "      <td>16.0</td>\n",
       "      <td>12.0</td>\n",
       "    </tr>\n",
       "    <tr>\n",
       "      <th>3</th>\n",
       "      <td>1003</td>\n",
       "      <td>ultra</td>\n",
       "      <td>8</td>\n",
       "      <td>NaN</td>\n",
       "      <td>NaN</td>\n",
       "      <td>NaN</td>\n",
       "      <td>NaN</td>\n",
       "      <td>NaN</td>\n",
       "      <td>NaN</td>\n",
       "      <td>NaN</td>\n",
       "      <td>...</td>\n",
       "      <td>NaN</td>\n",
       "      <td>NaN</td>\n",
       "      <td>NaN</td>\n",
       "      <td>NaN</td>\n",
       "      <td>NaN</td>\n",
       "      <td>37.0</td>\n",
       "      <td>91.0</td>\n",
       "      <td>83.0</td>\n",
       "      <td>94.0</td>\n",
       "      <td>75.0</td>\n",
       "    </tr>\n",
       "    <tr>\n",
       "      <th>4</th>\n",
       "      <td>1004</td>\n",
       "      <td>ultra</td>\n",
       "      <td>5</td>\n",
       "      <td>NaN</td>\n",
       "      <td>NaN</td>\n",
       "      <td>NaN</td>\n",
       "      <td>NaN</td>\n",
       "      <td>35.0</td>\n",
       "      <td>171.0</td>\n",
       "      <td>135.0</td>\n",
       "      <td>...</td>\n",
       "      <td>NaN</td>\n",
       "      <td>NaN</td>\n",
       "      <td>95.0</td>\n",
       "      <td>134.0</td>\n",
       "      <td>181.0</td>\n",
       "      <td>151.0</td>\n",
       "      <td>146.0</td>\n",
       "      <td>165.0</td>\n",
       "      <td>158.0</td>\n",
       "      <td>162.0</td>\n",
       "    </tr>\n",
       "    <tr>\n",
       "      <th>...</th>\n",
       "      <td>...</td>\n",
       "      <td>...</td>\n",
       "      <td>...</td>\n",
       "      <td>...</td>\n",
       "      <td>...</td>\n",
       "      <td>...</td>\n",
       "      <td>...</td>\n",
       "      <td>...</td>\n",
       "      <td>...</td>\n",
       "      <td>...</td>\n",
       "      <td>...</td>\n",
       "      <td>...</td>\n",
       "      <td>...</td>\n",
       "      <td>...</td>\n",
       "      <td>...</td>\n",
       "      <td>...</td>\n",
       "      <td>...</td>\n",
       "      <td>...</td>\n",
       "      <td>...</td>\n",
       "      <td>...</td>\n",
       "      <td>...</td>\n",
       "    </tr>\n",
       "    <tr>\n",
       "      <th>495</th>\n",
       "      <td>1495</td>\n",
       "      <td>ultra</td>\n",
       "      <td>8</td>\n",
       "      <td>NaN</td>\n",
       "      <td>NaN</td>\n",
       "      <td>NaN</td>\n",
       "      <td>NaN</td>\n",
       "      <td>NaN</td>\n",
       "      <td>NaN</td>\n",
       "      <td>NaN</td>\n",
       "      <td>...</td>\n",
       "      <td>NaN</td>\n",
       "      <td>NaN</td>\n",
       "      <td>NaN</td>\n",
       "      <td>NaN</td>\n",
       "      <td>NaN</td>\n",
       "      <td>13.0</td>\n",
       "      <td>82.0</td>\n",
       "      <td>82.0</td>\n",
       "      <td>79.0</td>\n",
       "      <td>84.0</td>\n",
       "    </tr>\n",
       "    <tr>\n",
       "      <th>496</th>\n",
       "      <td>1496</td>\n",
       "      <td>smart</td>\n",
       "      <td>1</td>\n",
       "      <td>48.0</td>\n",
       "      <td>594.0</td>\n",
       "      <td>557.0</td>\n",
       "      <td>521.0</td>\n",
       "      <td>484.0</td>\n",
       "      <td>555.0</td>\n",
       "      <td>582.0</td>\n",
       "      <td>...</td>\n",
       "      <td>46.0</td>\n",
       "      <td>49.0</td>\n",
       "      <td>40.0</td>\n",
       "      <td>35.0</td>\n",
       "      <td>42.0</td>\n",
       "      <td>41.0</td>\n",
       "      <td>29.0</td>\n",
       "      <td>35.0</td>\n",
       "      <td>46.0</td>\n",
       "      <td>51.0</td>\n",
       "    </tr>\n",
       "    <tr>\n",
       "      <th>497</th>\n",
       "      <td>1497</td>\n",
       "      <td>smart</td>\n",
       "      <td>10</td>\n",
       "      <td>NaN</td>\n",
       "      <td>NaN</td>\n",
       "      <td>NaN</td>\n",
       "      <td>NaN</td>\n",
       "      <td>NaN</td>\n",
       "      <td>NaN</td>\n",
       "      <td>NaN</td>\n",
       "      <td>...</td>\n",
       "      <td>NaN</td>\n",
       "      <td>NaN</td>\n",
       "      <td>NaN</td>\n",
       "      <td>NaN</td>\n",
       "      <td>NaN</td>\n",
       "      <td>NaN</td>\n",
       "      <td>NaN</td>\n",
       "      <td>20.0</td>\n",
       "      <td>14.0</td>\n",
       "      <td>17.0</td>\n",
       "    </tr>\n",
       "    <tr>\n",
       "      <th>498</th>\n",
       "      <td>1498</td>\n",
       "      <td>smart</td>\n",
       "      <td>7</td>\n",
       "      <td>NaN</td>\n",
       "      <td>NaN</td>\n",
       "      <td>NaN</td>\n",
       "      <td>NaN</td>\n",
       "      <td>NaN</td>\n",
       "      <td>NaN</td>\n",
       "      <td>175.0</td>\n",
       "      <td>...</td>\n",
       "      <td>NaN</td>\n",
       "      <td>NaN</td>\n",
       "      <td>NaN</td>\n",
       "      <td>NaN</td>\n",
       "      <td>20.0</td>\n",
       "      <td>62.0</td>\n",
       "      <td>44.0</td>\n",
       "      <td>42.0</td>\n",
       "      <td>NaN</td>\n",
       "      <td>NaN</td>\n",
       "    </tr>\n",
       "    <tr>\n",
       "      <th>499</th>\n",
       "      <td>1499</td>\n",
       "      <td>smart</td>\n",
       "      <td>9</td>\n",
       "      <td>NaN</td>\n",
       "      <td>NaN</td>\n",
       "      <td>NaN</td>\n",
       "      <td>NaN</td>\n",
       "      <td>NaN</td>\n",
       "      <td>NaN</td>\n",
       "      <td>NaN</td>\n",
       "      <td>...</td>\n",
       "      <td>NaN</td>\n",
       "      <td>NaN</td>\n",
       "      <td>NaN</td>\n",
       "      <td>NaN</td>\n",
       "      <td>NaN</td>\n",
       "      <td>NaN</td>\n",
       "      <td>11.0</td>\n",
       "      <td>48.0</td>\n",
       "      <td>59.0</td>\n",
       "      <td>66.0</td>\n",
       "    </tr>\n",
       "  </tbody>\n",
       "</table>\n",
       "<p>500 rows × 39 columns</p>\n",
       "</div>"
      ],
      "text/plain": [
       "     user_id tariff_name  month_reg   1_x    2_x    3_x    4_x    5_x    6_x  \\\n",
       "0       1000       ultra          5   NaN    NaN    NaN    NaN  159.0  172.0   \n",
       "1       1001       smart         11   NaN    NaN    NaN    NaN    NaN    NaN   \n",
       "2       1002       smart          6   NaN    NaN    NaN    NaN    NaN  117.0   \n",
       "3       1003       ultra          8   NaN    NaN    NaN    NaN    NaN    NaN   \n",
       "4       1004       ultra          5   NaN    NaN    NaN    NaN   35.0  171.0   \n",
       "..       ...         ...        ...   ...    ...    ...    ...    ...    ...   \n",
       "495     1495       ultra          8   NaN    NaN    NaN    NaN    NaN    NaN   \n",
       "496     1496       smart          1  48.0  594.0  557.0  521.0  484.0  555.0   \n",
       "497     1497       smart         10   NaN    NaN    NaN    NaN    NaN    NaN   \n",
       "498     1498       smart          7   NaN    NaN    NaN    NaN    NaN    NaN   \n",
       "499     1499       smart          9   NaN    NaN    NaN    NaN    NaN    NaN   \n",
       "\n",
       "       7_x  ...     3     4     5      6      7      8      9     10     11  \\\n",
       "0    340.0  ...   NaN   NaN  22.0   60.0   75.0   81.0   57.0   73.0   58.0   \n",
       "1      NaN  ...   NaN   NaN   NaN    NaN    NaN    NaN    NaN    NaN    NaN   \n",
       "2    214.0  ...   NaN   NaN   NaN    4.0   11.0   13.0    4.0   10.0   16.0   \n",
       "3      NaN  ...   NaN   NaN   NaN    NaN    NaN   37.0   91.0   83.0   94.0   \n",
       "4    135.0  ...   NaN   NaN  95.0  134.0  181.0  151.0  146.0  165.0  158.0   \n",
       "..     ...  ...   ...   ...   ...    ...    ...    ...    ...    ...    ...   \n",
       "495    NaN  ...   NaN   NaN   NaN    NaN    NaN   13.0   82.0   82.0   79.0   \n",
       "496  582.0  ...  46.0  49.0  40.0   35.0   42.0   41.0   29.0   35.0   46.0   \n",
       "497    NaN  ...   NaN   NaN   NaN    NaN    NaN    NaN    NaN   20.0   14.0   \n",
       "498  175.0  ...   NaN   NaN   NaN    NaN   20.0   62.0   44.0   42.0    NaN   \n",
       "499    NaN  ...   NaN   NaN   NaN    NaN    NaN    NaN   11.0   48.0   59.0   \n",
       "\n",
       "        12  \n",
       "0     70.0  \n",
       "1      NaN  \n",
       "2     12.0  \n",
       "3     75.0  \n",
       "4    162.0  \n",
       "..     ...  \n",
       "495   84.0  \n",
       "496   51.0  \n",
       "497   17.0  \n",
       "498    NaN  \n",
       "499   66.0  \n",
       "\n",
       "[500 rows x 39 columns]"
      ]
     },
     "metadata": {},
     "output_type": "display_data"
    }
   ],
   "source": [
    "calls_pivot = calls.pivot_table(index=['user_id'], columns='month', values='duration', aggfunc='sum')\n",
    "revenue_pivot =  (user_tariff.merge(calls_pivot, on='user_id', how='left')\n",
    "                         .merge(internet_pivot, on='user_id', how='left')\n",
    "                         .merge(messages_pivot, on='user_id', how='left')\n",
    "             )\n",
    "display(revenue_pivot)"
   ]
  },
  {
   "cell_type": "markdown",
   "metadata": {},
   "source": [
    "Такая таблица неинформативна, нужно разделить ее на две части по тарифам ультра и смарт"
   ]
  },
  {
   "cell_type": "markdown",
   "metadata": {},
   "source": []
  },
  {
   "cell_type": "markdown",
   "metadata": {},
   "source": [
    "##### Тариф \"Ультра\""
   ]
  },
  {
   "cell_type": "code",
   "execution_count": 20,
   "metadata": {},
   "outputs": [],
   "source": [
    "smart_users = revenue_pivot[revenue_pivot['tariff_name'] == 'smart']\n",
    "ultra_users = revenue_pivot[revenue_pivot['tariff_name'] == 'ultra']\n",
    "smart_users = pd.DataFrame(smart_users)\n",
    "ultra_users = pd.DataFrame(ultra_users)\n"
   ]
  },
  {
   "cell_type": "code",
   "execution_count": 21,
   "metadata": {},
   "outputs": [],
   "source": [
    "# функции для расчета расходов клиентов сверх тарифа «Ультра»\n",
    "def calls_cost_ultra(value):\n",
    "        if value > tariffs.loc[1, 'minutes_included']:\n",
    "            cost = (value - tariffs.loc[1, 'minutes_included']) * tariffs.loc[1, 'rub_per_minute']\n",
    "        else:\n",
    "            cost = 0\n",
    "        return (cost)    \n",
    "\n",
    "def internet_cost_ultra(value):\n",
    "        if value > tariffs.loc[1, 'mb_per_month_included']:\n",
    "            cost = (value - tariffs.loc[1, 'mb_per_month_included']) / 1024 * tariffs.loc[1, 'rub_per_gb']\n",
    "        else:\n",
    "            cost = 0\n",
    "        return (cost)    \n",
    "\n",
    "def messages_cost_ultra(value):\n",
    "        if value > tariffs.loc[1, 'messages_included']:\n",
    "            cost = (value - tariffs.loc[1, 'messages_included']) * tariffs.loc[1, 'rub_per_message']\n",
    "        else:\n",
    "            cost = 0\n",
    "        return (cost)\n",
    "    \n",
    "for i in range(1,13):\n",
    "    ultra_users[str(i)+'_x'] = ultra_users[str(i)+'_x'].apply(calls_cost_ultra)\n",
    "for i in range(1,13):\n",
    "    ultra_users[str(i)+'_y'] = ultra_users[str(i)+'_y'].apply(internet_cost_ultra)\n",
    "for i in range(1,13):\n",
    "    ultra_users[i] = ultra_users[i].apply(messages_cost_ultra)\n",
    "ultra_users\n",
    "\n",
    "for i in range(1,13):\n",
    "    ultra_users[str(i)+'_fee'] = ultra_users['month_reg']\n",
    "ultra_users = ultra_users.reset_index(drop=True)"
   ]
  },
  {
   "cell_type": "code",
   "execution_count": 22,
   "metadata": {},
   "outputs": [
    {
     "data": {
      "text/html": [
       "<div>\n",
       "<style scoped>\n",
       "    .dataframe tbody tr th:only-of-type {\n",
       "        vertical-align: middle;\n",
       "    }\n",
       "\n",
       "    .dataframe tbody tr th {\n",
       "        vertical-align: top;\n",
       "    }\n",
       "\n",
       "    .dataframe thead th {\n",
       "        text-align: right;\n",
       "    }\n",
       "</style>\n",
       "<table border=\"1\" class=\"dataframe\">\n",
       "  <thead>\n",
       "    <tr style=\"text-align: right;\">\n",
       "      <th></th>\n",
       "      <th>user_id</th>\n",
       "      <th>tariff_name</th>\n",
       "      <th>month_reg</th>\n",
       "      <th>1_x</th>\n",
       "      <th>2_x</th>\n",
       "      <th>3_x</th>\n",
       "      <th>4_x</th>\n",
       "      <th>5_x</th>\n",
       "      <th>6_x</th>\n",
       "      <th>7_x</th>\n",
       "      <th>...</th>\n",
       "      <th>3_total</th>\n",
       "      <th>4_total</th>\n",
       "      <th>5_total</th>\n",
       "      <th>6_total</th>\n",
       "      <th>7_total</th>\n",
       "      <th>8_total</th>\n",
       "      <th>9_total</th>\n",
       "      <th>10_total</th>\n",
       "      <th>11_total</th>\n",
       "      <th>12_total</th>\n",
       "    </tr>\n",
       "  </thead>\n",
       "  <tbody>\n",
       "    <tr>\n",
       "      <th>0</th>\n",
       "      <td>1000</td>\n",
       "      <td>ultra</td>\n",
       "      <td>5</td>\n",
       "      <td>0</td>\n",
       "      <td>0</td>\n",
       "      <td>0</td>\n",
       "      <td>0</td>\n",
       "      <td>0</td>\n",
       "      <td>0</td>\n",
       "      <td>0</td>\n",
       "      <td>...</td>\n",
       "      <td>0.0</td>\n",
       "      <td>0.0</td>\n",
       "      <td>1950.0</td>\n",
       "      <td>1950.0</td>\n",
       "      <td>1950.0</td>\n",
       "      <td>1950.0</td>\n",
       "      <td>1950.000000</td>\n",
       "      <td>1950.0</td>\n",
       "      <td>1950.000000</td>\n",
       "      <td>1950.000000</td>\n",
       "    </tr>\n",
       "    <tr>\n",
       "      <th>1</th>\n",
       "      <td>1003</td>\n",
       "      <td>ultra</td>\n",
       "      <td>8</td>\n",
       "      <td>0</td>\n",
       "      <td>0</td>\n",
       "      <td>0</td>\n",
       "      <td>0</td>\n",
       "      <td>0</td>\n",
       "      <td>0</td>\n",
       "      <td>0</td>\n",
       "      <td>...</td>\n",
       "      <td>0.0</td>\n",
       "      <td>0.0</td>\n",
       "      <td>0.0</td>\n",
       "      <td>0.0</td>\n",
       "      <td>0.0</td>\n",
       "      <td>1950.0</td>\n",
       "      <td>1950.000000</td>\n",
       "      <td>1950.0</td>\n",
       "      <td>1950.000000</td>\n",
       "      <td>1950.000000</td>\n",
       "    </tr>\n",
       "    <tr>\n",
       "      <th>2</th>\n",
       "      <td>1004</td>\n",
       "      <td>ultra</td>\n",
       "      <td>5</td>\n",
       "      <td>0</td>\n",
       "      <td>0</td>\n",
       "      <td>0</td>\n",
       "      <td>0</td>\n",
       "      <td>0</td>\n",
       "      <td>0</td>\n",
       "      <td>0</td>\n",
       "      <td>...</td>\n",
       "      <td>0.0</td>\n",
       "      <td>0.0</td>\n",
       "      <td>1950.0</td>\n",
       "      <td>1950.0</td>\n",
       "      <td>1950.0</td>\n",
       "      <td>1950.0</td>\n",
       "      <td>1950.000000</td>\n",
       "      <td>1950.0</td>\n",
       "      <td>1950.000000</td>\n",
       "      <td>1950.000000</td>\n",
       "    </tr>\n",
       "    <tr>\n",
       "      <th>3</th>\n",
       "      <td>1013</td>\n",
       "      <td>ultra</td>\n",
       "      <td>11</td>\n",
       "      <td>0</td>\n",
       "      <td>0</td>\n",
       "      <td>0</td>\n",
       "      <td>0</td>\n",
       "      <td>0</td>\n",
       "      <td>0</td>\n",
       "      <td>0</td>\n",
       "      <td>...</td>\n",
       "      <td>0.0</td>\n",
       "      <td>0.0</td>\n",
       "      <td>0.0</td>\n",
       "      <td>0.0</td>\n",
       "      <td>0.0</td>\n",
       "      <td>0.0</td>\n",
       "      <td>0.000000</td>\n",
       "      <td>0.0</td>\n",
       "      <td>1950.000000</td>\n",
       "      <td>1950.000000</td>\n",
       "    </tr>\n",
       "    <tr>\n",
       "      <th>4</th>\n",
       "      <td>1016</td>\n",
       "      <td>ultra</td>\n",
       "      <td>11</td>\n",
       "      <td>0</td>\n",
       "      <td>0</td>\n",
       "      <td>0</td>\n",
       "      <td>0</td>\n",
       "      <td>0</td>\n",
       "      <td>0</td>\n",
       "      <td>0</td>\n",
       "      <td>...</td>\n",
       "      <td>0.0</td>\n",
       "      <td>0.0</td>\n",
       "      <td>0.0</td>\n",
       "      <td>0.0</td>\n",
       "      <td>0.0</td>\n",
       "      <td>0.0</td>\n",
       "      <td>0.000000</td>\n",
       "      <td>0.0</td>\n",
       "      <td>1950.000000</td>\n",
       "      <td>1950.000000</td>\n",
       "    </tr>\n",
       "    <tr>\n",
       "      <th>...</th>\n",
       "      <td>...</td>\n",
       "      <td>...</td>\n",
       "      <td>...</td>\n",
       "      <td>...</td>\n",
       "      <td>...</td>\n",
       "      <td>...</td>\n",
       "      <td>...</td>\n",
       "      <td>...</td>\n",
       "      <td>...</td>\n",
       "      <td>...</td>\n",
       "      <td>...</td>\n",
       "      <td>...</td>\n",
       "      <td>...</td>\n",
       "      <td>...</td>\n",
       "      <td>...</td>\n",
       "      <td>...</td>\n",
       "      <td>...</td>\n",
       "      <td>...</td>\n",
       "      <td>...</td>\n",
       "      <td>...</td>\n",
       "      <td>...</td>\n",
       "    </tr>\n",
       "    <tr>\n",
       "      <th>144</th>\n",
       "      <td>1476</td>\n",
       "      <td>ultra</td>\n",
       "      <td>4</td>\n",
       "      <td>0</td>\n",
       "      <td>0</td>\n",
       "      <td>0</td>\n",
       "      <td>0</td>\n",
       "      <td>0</td>\n",
       "      <td>0</td>\n",
       "      <td>0</td>\n",
       "      <td>...</td>\n",
       "      <td>0.0</td>\n",
       "      <td>1950.0</td>\n",
       "      <td>1950.0</td>\n",
       "      <td>1950.0</td>\n",
       "      <td>1950.0</td>\n",
       "      <td>1950.0</td>\n",
       "      <td>1950.000000</td>\n",
       "      <td>1950.0</td>\n",
       "      <td>1950.000000</td>\n",
       "      <td>1950.000000</td>\n",
       "    </tr>\n",
       "    <tr>\n",
       "      <th>145</th>\n",
       "      <td>1485</td>\n",
       "      <td>ultra</td>\n",
       "      <td>12</td>\n",
       "      <td>0</td>\n",
       "      <td>0</td>\n",
       "      <td>0</td>\n",
       "      <td>0</td>\n",
       "      <td>0</td>\n",
       "      <td>0</td>\n",
       "      <td>0</td>\n",
       "      <td>...</td>\n",
       "      <td>0.0</td>\n",
       "      <td>0.0</td>\n",
       "      <td>0.0</td>\n",
       "      <td>0.0</td>\n",
       "      <td>0.0</td>\n",
       "      <td>0.0</td>\n",
       "      <td>0.000000</td>\n",
       "      <td>0.0</td>\n",
       "      <td>0.000000</td>\n",
       "      <td>1950.000000</td>\n",
       "    </tr>\n",
       "    <tr>\n",
       "      <th>146</th>\n",
       "      <td>1491</td>\n",
       "      <td>ultra</td>\n",
       "      <td>4</td>\n",
       "      <td>0</td>\n",
       "      <td>0</td>\n",
       "      <td>0</td>\n",
       "      <td>0</td>\n",
       "      <td>0</td>\n",
       "      <td>0</td>\n",
       "      <td>0</td>\n",
       "      <td>...</td>\n",
       "      <td>0.0</td>\n",
       "      <td>1950.0</td>\n",
       "      <td>1950.0</td>\n",
       "      <td>1950.0</td>\n",
       "      <td>1950.0</td>\n",
       "      <td>1950.0</td>\n",
       "      <td>1950.000000</td>\n",
       "      <td>1950.0</td>\n",
       "      <td>1950.000000</td>\n",
       "      <td>1950.000000</td>\n",
       "    </tr>\n",
       "    <tr>\n",
       "      <th>147</th>\n",
       "      <td>1493</td>\n",
       "      <td>ultra</td>\n",
       "      <td>11</td>\n",
       "      <td>0</td>\n",
       "      <td>0</td>\n",
       "      <td>0</td>\n",
       "      <td>0</td>\n",
       "      <td>0</td>\n",
       "      <td>0</td>\n",
       "      <td>0</td>\n",
       "      <td>...</td>\n",
       "      <td>0.0</td>\n",
       "      <td>0.0</td>\n",
       "      <td>0.0</td>\n",
       "      <td>0.0</td>\n",
       "      <td>0.0</td>\n",
       "      <td>0.0</td>\n",
       "      <td>0.000000</td>\n",
       "      <td>0.0</td>\n",
       "      <td>1950.000000</td>\n",
       "      <td>3716.015625</td>\n",
       "    </tr>\n",
       "    <tr>\n",
       "      <th>148</th>\n",
       "      <td>1495</td>\n",
       "      <td>ultra</td>\n",
       "      <td>8</td>\n",
       "      <td>0</td>\n",
       "      <td>0</td>\n",
       "      <td>0</td>\n",
       "      <td>0</td>\n",
       "      <td>0</td>\n",
       "      <td>0</td>\n",
       "      <td>0</td>\n",
       "      <td>...</td>\n",
       "      <td>0.0</td>\n",
       "      <td>0.0</td>\n",
       "      <td>0.0</td>\n",
       "      <td>0.0</td>\n",
       "      <td>0.0</td>\n",
       "      <td>1950.0</td>\n",
       "      <td>2299.365234</td>\n",
       "      <td>1950.0</td>\n",
       "      <td>3158.789062</td>\n",
       "      <td>1950.000000</td>\n",
       "    </tr>\n",
       "  </tbody>\n",
       "</table>\n",
       "<p>149 rows × 63 columns</p>\n",
       "</div>"
      ],
      "text/plain": [
       "     user_id tariff_name  month_reg  1_x  2_x  3_x  4_x  5_x  6_x  7_x  ...  \\\n",
       "0       1000       ultra          5    0    0    0    0    0    0    0  ...   \n",
       "1       1003       ultra          8    0    0    0    0    0    0    0  ...   \n",
       "2       1004       ultra          5    0    0    0    0    0    0    0  ...   \n",
       "3       1013       ultra         11    0    0    0    0    0    0    0  ...   \n",
       "4       1016       ultra         11    0    0    0    0    0    0    0  ...   \n",
       "..       ...         ...        ...  ...  ...  ...  ...  ...  ...  ...  ...   \n",
       "144     1476       ultra          4    0    0    0    0    0    0    0  ...   \n",
       "145     1485       ultra         12    0    0    0    0    0    0    0  ...   \n",
       "146     1491       ultra          4    0    0    0    0    0    0    0  ...   \n",
       "147     1493       ultra         11    0    0    0    0    0    0    0  ...   \n",
       "148     1495       ultra          8    0    0    0    0    0    0    0  ...   \n",
       "\n",
       "     3_total  4_total  5_total  6_total  7_total  8_total      9_total  \\\n",
       "0        0.0      0.0   1950.0   1950.0   1950.0   1950.0  1950.000000   \n",
       "1        0.0      0.0      0.0      0.0      0.0   1950.0  1950.000000   \n",
       "2        0.0      0.0   1950.0   1950.0   1950.0   1950.0  1950.000000   \n",
       "3        0.0      0.0      0.0      0.0      0.0      0.0     0.000000   \n",
       "4        0.0      0.0      0.0      0.0      0.0      0.0     0.000000   \n",
       "..       ...      ...      ...      ...      ...      ...          ...   \n",
       "144      0.0   1950.0   1950.0   1950.0   1950.0   1950.0  1950.000000   \n",
       "145      0.0      0.0      0.0      0.0      0.0      0.0     0.000000   \n",
       "146      0.0   1950.0   1950.0   1950.0   1950.0   1950.0  1950.000000   \n",
       "147      0.0      0.0      0.0      0.0      0.0      0.0     0.000000   \n",
       "148      0.0      0.0      0.0      0.0      0.0   1950.0  2299.365234   \n",
       "\n",
       "     10_total     11_total     12_total  \n",
       "0      1950.0  1950.000000  1950.000000  \n",
       "1      1950.0  1950.000000  1950.000000  \n",
       "2      1950.0  1950.000000  1950.000000  \n",
       "3         0.0  1950.000000  1950.000000  \n",
       "4         0.0  1950.000000  1950.000000  \n",
       "..        ...          ...          ...  \n",
       "144    1950.0  1950.000000  1950.000000  \n",
       "145       0.0     0.000000  1950.000000  \n",
       "146    1950.0  1950.000000  1950.000000  \n",
       "147       0.0  1950.000000  3716.015625  \n",
       "148    1950.0  3158.789062  1950.000000  \n",
       "\n",
       "[149 rows x 63 columns]"
      ]
     },
     "execution_count": 22,
     "metadata": {},
     "output_type": "execute_result"
    }
   ],
   "source": [
    "# замена на 0 ячейки, если дата регистрации не больше месяца использования тарифа\n",
    "for j in range (0, len(ultra_users)):  \n",
    "    for i in range(1,13):\n",
    "        if i >= ultra_users.loc[j, str(i) + '_fee']:\n",
    "            ultra_users.loc[j, str(i) + '_fee'] = tariffs.loc[1, 'rub_monthly_fee']\n",
    "        else:\n",
    "            ultra_users.loc[j, str(i) + '_fee'] = 0\n",
    "# суммирование дополнительной оплаты за звонки, сообщения и интернет, а также абонентскую плату\n",
    "for i in range(1,13):\n",
    "    ultra_users[str(i) + '_total'] = ultra_users[str(i)+'_x'] + ultra_users[str(i)+'_y'] + ultra_users[i] + ultra_users[str(i) + '_fee']\n",
    "ultra_users "
   ]
  },
  {
   "cell_type": "markdown",
   "metadata": {},
   "source": [
    "Из полученной таблицы необходимо сделать срез по пользователям, даты регистрации тарифа и ежемесячног расхода "
   ]
  },
  {
   "cell_type": "code",
   "execution_count": 23,
   "metadata": {
    "scrolled": true
   },
   "outputs": [
    {
     "data": {
      "text/html": [
       "<div>\n",
       "<style scoped>\n",
       "    .dataframe tbody tr th:only-of-type {\n",
       "        vertical-align: middle;\n",
       "    }\n",
       "\n",
       "    .dataframe tbody tr th {\n",
       "        vertical-align: top;\n",
       "    }\n",
       "\n",
       "    .dataframe thead th {\n",
       "        text-align: right;\n",
       "    }\n",
       "</style>\n",
       "<table border=\"1\" class=\"dataframe\">\n",
       "  <thead>\n",
       "    <tr style=\"text-align: right;\">\n",
       "      <th></th>\n",
       "      <th>user_id</th>\n",
       "      <th>tariff_name</th>\n",
       "      <th>month_reg</th>\n",
       "      <th>1_total</th>\n",
       "      <th>2_total</th>\n",
       "      <th>3_total</th>\n",
       "      <th>4_total</th>\n",
       "      <th>5_total</th>\n",
       "      <th>6_total</th>\n",
       "      <th>7_total</th>\n",
       "      <th>8_total</th>\n",
       "      <th>9_total</th>\n",
       "      <th>10_total</th>\n",
       "      <th>11_total</th>\n",
       "      <th>12_total</th>\n",
       "    </tr>\n",
       "  </thead>\n",
       "  <tbody>\n",
       "    <tr>\n",
       "      <th>0</th>\n",
       "      <td>1000</td>\n",
       "      <td>ultra</td>\n",
       "      <td>5</td>\n",
       "      <td>0</td>\n",
       "      <td>0</td>\n",
       "      <td>0</td>\n",
       "      <td>0</td>\n",
       "      <td>1950</td>\n",
       "      <td>1950</td>\n",
       "      <td>1950</td>\n",
       "      <td>1950</td>\n",
       "      <td>1950</td>\n",
       "      <td>1950</td>\n",
       "      <td>1950</td>\n",
       "      <td>1950</td>\n",
       "    </tr>\n",
       "    <tr>\n",
       "      <th>1</th>\n",
       "      <td>1003</td>\n",
       "      <td>ultra</td>\n",
       "      <td>8</td>\n",
       "      <td>0</td>\n",
       "      <td>0</td>\n",
       "      <td>0</td>\n",
       "      <td>0</td>\n",
       "      <td>0</td>\n",
       "      <td>0</td>\n",
       "      <td>0</td>\n",
       "      <td>1950</td>\n",
       "      <td>1950</td>\n",
       "      <td>1950</td>\n",
       "      <td>1950</td>\n",
       "      <td>1950</td>\n",
       "    </tr>\n",
       "    <tr>\n",
       "      <th>2</th>\n",
       "      <td>1004</td>\n",
       "      <td>ultra</td>\n",
       "      <td>5</td>\n",
       "      <td>0</td>\n",
       "      <td>0</td>\n",
       "      <td>0</td>\n",
       "      <td>0</td>\n",
       "      <td>1950</td>\n",
       "      <td>1950</td>\n",
       "      <td>1950</td>\n",
       "      <td>1950</td>\n",
       "      <td>1950</td>\n",
       "      <td>1950</td>\n",
       "      <td>1950</td>\n",
       "      <td>1950</td>\n",
       "    </tr>\n",
       "    <tr>\n",
       "      <th>3</th>\n",
       "      <td>1013</td>\n",
       "      <td>ultra</td>\n",
       "      <td>11</td>\n",
       "      <td>0</td>\n",
       "      <td>0</td>\n",
       "      <td>0</td>\n",
       "      <td>0</td>\n",
       "      <td>0</td>\n",
       "      <td>0</td>\n",
       "      <td>0</td>\n",
       "      <td>0</td>\n",
       "      <td>0</td>\n",
       "      <td>0</td>\n",
       "      <td>1950</td>\n",
       "      <td>1950</td>\n",
       "    </tr>\n",
       "    <tr>\n",
       "      <th>4</th>\n",
       "      <td>1016</td>\n",
       "      <td>ultra</td>\n",
       "      <td>11</td>\n",
       "      <td>0</td>\n",
       "      <td>0</td>\n",
       "      <td>0</td>\n",
       "      <td>0</td>\n",
       "      <td>0</td>\n",
       "      <td>0</td>\n",
       "      <td>0</td>\n",
       "      <td>0</td>\n",
       "      <td>0</td>\n",
       "      <td>0</td>\n",
       "      <td>1950</td>\n",
       "      <td>1950</td>\n",
       "    </tr>\n",
       "    <tr>\n",
       "      <th>...</th>\n",
       "      <td>...</td>\n",
       "      <td>...</td>\n",
       "      <td>...</td>\n",
       "      <td>...</td>\n",
       "      <td>...</td>\n",
       "      <td>...</td>\n",
       "      <td>...</td>\n",
       "      <td>...</td>\n",
       "      <td>...</td>\n",
       "      <td>...</td>\n",
       "      <td>...</td>\n",
       "      <td>...</td>\n",
       "      <td>...</td>\n",
       "      <td>...</td>\n",
       "      <td>...</td>\n",
       "    </tr>\n",
       "    <tr>\n",
       "      <th>144</th>\n",
       "      <td>1476</td>\n",
       "      <td>ultra</td>\n",
       "      <td>4</td>\n",
       "      <td>0</td>\n",
       "      <td>0</td>\n",
       "      <td>0</td>\n",
       "      <td>1950</td>\n",
       "      <td>1950</td>\n",
       "      <td>1950</td>\n",
       "      <td>1950</td>\n",
       "      <td>1950</td>\n",
       "      <td>1950</td>\n",
       "      <td>1950</td>\n",
       "      <td>1950</td>\n",
       "      <td>1950</td>\n",
       "    </tr>\n",
       "    <tr>\n",
       "      <th>145</th>\n",
       "      <td>1485</td>\n",
       "      <td>ultra</td>\n",
       "      <td>12</td>\n",
       "      <td>0</td>\n",
       "      <td>0</td>\n",
       "      <td>0</td>\n",
       "      <td>0</td>\n",
       "      <td>0</td>\n",
       "      <td>0</td>\n",
       "      <td>0</td>\n",
       "      <td>0</td>\n",
       "      <td>0</td>\n",
       "      <td>0</td>\n",
       "      <td>0</td>\n",
       "      <td>1950</td>\n",
       "    </tr>\n",
       "    <tr>\n",
       "      <th>146</th>\n",
       "      <td>1491</td>\n",
       "      <td>ultra</td>\n",
       "      <td>4</td>\n",
       "      <td>0</td>\n",
       "      <td>0</td>\n",
       "      <td>0</td>\n",
       "      <td>1950</td>\n",
       "      <td>1950</td>\n",
       "      <td>1950</td>\n",
       "      <td>1950</td>\n",
       "      <td>1950</td>\n",
       "      <td>1950</td>\n",
       "      <td>1950</td>\n",
       "      <td>1950</td>\n",
       "      <td>1950</td>\n",
       "    </tr>\n",
       "    <tr>\n",
       "      <th>147</th>\n",
       "      <td>1493</td>\n",
       "      <td>ultra</td>\n",
       "      <td>11</td>\n",
       "      <td>0</td>\n",
       "      <td>0</td>\n",
       "      <td>0</td>\n",
       "      <td>0</td>\n",
       "      <td>0</td>\n",
       "      <td>0</td>\n",
       "      <td>0</td>\n",
       "      <td>0</td>\n",
       "      <td>0</td>\n",
       "      <td>0</td>\n",
       "      <td>1950</td>\n",
       "      <td>3716</td>\n",
       "    </tr>\n",
       "    <tr>\n",
       "      <th>148</th>\n",
       "      <td>1495</td>\n",
       "      <td>ultra</td>\n",
       "      <td>8</td>\n",
       "      <td>0</td>\n",
       "      <td>0</td>\n",
       "      <td>0</td>\n",
       "      <td>0</td>\n",
       "      <td>0</td>\n",
       "      <td>0</td>\n",
       "      <td>0</td>\n",
       "      <td>1950</td>\n",
       "      <td>2299</td>\n",
       "      <td>1950</td>\n",
       "      <td>3158</td>\n",
       "      <td>1950</td>\n",
       "    </tr>\n",
       "  </tbody>\n",
       "</table>\n",
       "<p>149 rows × 15 columns</p>\n",
       "</div>"
      ],
      "text/plain": [
       "     user_id tariff_name  month_reg  1_total  2_total  3_total  4_total  \\\n",
       "0       1000       ultra          5        0        0        0        0   \n",
       "1       1003       ultra          8        0        0        0        0   \n",
       "2       1004       ultra          5        0        0        0        0   \n",
       "3       1013       ultra         11        0        0        0        0   \n",
       "4       1016       ultra         11        0        0        0        0   \n",
       "..       ...         ...        ...      ...      ...      ...      ...   \n",
       "144     1476       ultra          4        0        0        0     1950   \n",
       "145     1485       ultra         12        0        0        0        0   \n",
       "146     1491       ultra          4        0        0        0     1950   \n",
       "147     1493       ultra         11        0        0        0        0   \n",
       "148     1495       ultra          8        0        0        0        0   \n",
       "\n",
       "     5_total  6_total  7_total  8_total  9_total  10_total  11_total  12_total  \n",
       "0       1950     1950     1950     1950     1950      1950      1950      1950  \n",
       "1          0        0        0     1950     1950      1950      1950      1950  \n",
       "2       1950     1950     1950     1950     1950      1950      1950      1950  \n",
       "3          0        0        0        0        0         0      1950      1950  \n",
       "4          0        0        0        0        0         0      1950      1950  \n",
       "..       ...      ...      ...      ...      ...       ...       ...       ...  \n",
       "144     1950     1950     1950     1950     1950      1950      1950      1950  \n",
       "145        0        0        0        0        0         0         0      1950  \n",
       "146     1950     1950     1950     1950     1950      1950      1950      1950  \n",
       "147        0        0        0        0        0         0      1950      3716  \n",
       "148        0        0        0     1950     2299      1950      3158      1950  \n",
       "\n",
       "[149 rows x 15 columns]"
      ]
     },
     "execution_count": 23,
     "metadata": {},
     "output_type": "execute_result"
    }
   ],
   "source": [
    "ultra_total = ultra_users[['user_id', 'tariff_name', 'month_reg', '1_total', '2_total', '3_total', '4_total', '5_total', '6_total', '7_total', '8_total', '9_total', '10_total', '11_total', '12_total']]\n",
    "ultra_total = pd.DataFrame(ultra_total)\n",
    "\n",
    "for i in range (1,13):\n",
    "    ultra_total[str(i) + '_total'] = ultra_total[str(i) + '_total'].astype('int')\n",
    "ultra_total"
   ]
  },
  {
   "cell_type": "markdown",
   "metadata": {},
   "source": [
    "##### Тариф \"Смарт\""
   ]
  },
  {
   "cell_type": "code",
   "execution_count": 24,
   "metadata": {},
   "outputs": [],
   "source": [
    "# функции для расчета расходов клиентов сверх тарифа «Смарт»\n",
    "def calls_cost_smart(value):\n",
    "        if value > tariffs.loc[0, 'minutes_included']:\n",
    "            cost = (value - tariffs.loc[0, 'minutes_included']) * tariffs.loc[0, 'rub_per_minute']\n",
    "        else:\n",
    "            cost = 0\n",
    "        return (cost)    \n",
    "\n",
    "def internet_cost_smart(value):\n",
    "        if value > tariffs.loc[0, 'mb_per_month_included']:\n",
    "            cost = (value - tariffs.loc[0, 'mb_per_month_included']) / 1024 * tariffs.loc[0, 'rub_per_gb']\n",
    "        else:\n",
    "            cost = 0\n",
    "        return (cost)    \n",
    "def messages_cost_smart(value):\n",
    "        if value > tariffs.loc[0, 'messages_included']:\n",
    "            cost = (value - tariffs.loc[0, 'messages_included']) * tariffs.loc[0, 'rub_per_message']\n",
    "        else:\n",
    "            cost = 0\n",
    "        return (cost)\n",
    "    \n",
    "for i in range(1,13):\n",
    "    smart_users[str(i)+'_x'] = smart_users[str(i)+'_x'].apply(calls_cost_smart)\n",
    "for i in range(1,13):\n",
    "    smart_users[str(i)+'_y'] = smart_users[str(i)+'_y'].apply(internet_cost_smart)\n",
    "for i in range(1,13):\n",
    "    smart_users[i] = smart_users[i].apply(messages_cost_smart)\n",
    "#smart_users\n",
    "for i in range(1,13):\n",
    "    smart_users[str(i)+'_fee'] = smart_users['month_reg']\n",
    "smart_users = smart_users.reset_index(drop=True)"
   ]
  },
  {
   "cell_type": "code",
   "execution_count": 25,
   "metadata": {},
   "outputs": [
    {
     "data": {
      "text/html": [
       "<div>\n",
       "<style scoped>\n",
       "    .dataframe tbody tr th:only-of-type {\n",
       "        vertical-align: middle;\n",
       "    }\n",
       "\n",
       "    .dataframe tbody tr th {\n",
       "        vertical-align: top;\n",
       "    }\n",
       "\n",
       "    .dataframe thead th {\n",
       "        text-align: right;\n",
       "    }\n",
       "</style>\n",
       "<table border=\"1\" class=\"dataframe\">\n",
       "  <thead>\n",
       "    <tr style=\"text-align: right;\">\n",
       "      <th></th>\n",
       "      <th>user_id</th>\n",
       "      <th>tariff_name</th>\n",
       "      <th>month_reg</th>\n",
       "      <th>1_x</th>\n",
       "      <th>2_x</th>\n",
       "      <th>3_x</th>\n",
       "      <th>4_x</th>\n",
       "      <th>5_x</th>\n",
       "      <th>6_x</th>\n",
       "      <th>7_x</th>\n",
       "      <th>...</th>\n",
       "      <th>3_total</th>\n",
       "      <th>4_total</th>\n",
       "      <th>5_total</th>\n",
       "      <th>6_total</th>\n",
       "      <th>7_total</th>\n",
       "      <th>8_total</th>\n",
       "      <th>9_total</th>\n",
       "      <th>10_total</th>\n",
       "      <th>11_total</th>\n",
       "      <th>12_total</th>\n",
       "    </tr>\n",
       "  </thead>\n",
       "  <tbody>\n",
       "    <tr>\n",
       "      <th>0</th>\n",
       "      <td>1001</td>\n",
       "      <td>smart</td>\n",
       "      <td>11</td>\n",
       "      <td>0.0</td>\n",
       "      <td>0.0</td>\n",
       "      <td>0.0</td>\n",
       "      <td>0.0</td>\n",
       "      <td>0.0</td>\n",
       "      <td>0.0</td>\n",
       "      <td>0.0</td>\n",
       "      <td>...</td>\n",
       "      <td>0.000000</td>\n",
       "      <td>0.000000</td>\n",
       "      <td>0.00000</td>\n",
       "      <td>0.000000</td>\n",
       "      <td>0.000000</td>\n",
       "      <td>0.000000</td>\n",
       "      <td>0.000000</td>\n",
       "      <td>0.000000</td>\n",
       "      <td>1153.906250</td>\n",
       "      <td>550.000000</td>\n",
       "    </tr>\n",
       "    <tr>\n",
       "      <th>1</th>\n",
       "      <td>1002</td>\n",
       "      <td>smart</td>\n",
       "      <td>6</td>\n",
       "      <td>0.0</td>\n",
       "      <td>0.0</td>\n",
       "      <td>0.0</td>\n",
       "      <td>0.0</td>\n",
       "      <td>0.0</td>\n",
       "      <td>0.0</td>\n",
       "      <td>0.0</td>\n",
       "      <td>...</td>\n",
       "      <td>0.000000</td>\n",
       "      <td>0.000000</td>\n",
       "      <td>0.00000</td>\n",
       "      <td>550.000000</td>\n",
       "      <td>987.695312</td>\n",
       "      <td>1524.023438</td>\n",
       "      <td>814.062500</td>\n",
       "      <td>550.000000</td>\n",
       "      <td>1184.765625</td>\n",
       "      <td>1092.382812</td>\n",
       "    </tr>\n",
       "    <tr>\n",
       "      <th>2</th>\n",
       "      <td>1005</td>\n",
       "      <td>smart</td>\n",
       "      <td>1</td>\n",
       "      <td>0.0</td>\n",
       "      <td>0.0</td>\n",
       "      <td>318.0</td>\n",
       "      <td>636.0</td>\n",
       "      <td>285.0</td>\n",
       "      <td>336.0</td>\n",
       "      <td>207.0</td>\n",
       "      <td>...</td>\n",
       "      <td>886.000000</td>\n",
       "      <td>1186.000000</td>\n",
       "      <td>835.00000</td>\n",
       "      <td>886.000000</td>\n",
       "      <td>775.000000</td>\n",
       "      <td>949.000000</td>\n",
       "      <td>556.000000</td>\n",
       "      <td>1219.000000</td>\n",
       "      <td>694.000000</td>\n",
       "      <td>838.000000</td>\n",
       "    </tr>\n",
       "    <tr>\n",
       "      <th>3</th>\n",
       "      <td>1006</td>\n",
       "      <td>smart</td>\n",
       "      <td>2</td>\n",
       "      <td>0.0</td>\n",
       "      <td>0.0</td>\n",
       "      <td>0.0</td>\n",
       "      <td>0.0</td>\n",
       "      <td>0.0</td>\n",
       "      <td>0.0</td>\n",
       "      <td>0.0</td>\n",
       "      <td>...</td>\n",
       "      <td>930.664062</td>\n",
       "      <td>550.000000</td>\n",
       "      <td>550.00000</td>\n",
       "      <td>550.000000</td>\n",
       "      <td>1456.250000</td>\n",
       "      <td>1324.804688</td>\n",
       "      <td>585.742188</td>\n",
       "      <td>1401.953125</td>\n",
       "      <td>550.000000</td>\n",
       "      <td>1162.890625</td>\n",
       "    </tr>\n",
       "    <tr>\n",
       "      <th>4</th>\n",
       "      <td>1007</td>\n",
       "      <td>smart</td>\n",
       "      <td>4</td>\n",
       "      <td>0.0</td>\n",
       "      <td>0.0</td>\n",
       "      <td>0.0</td>\n",
       "      <td>0.0</td>\n",
       "      <td>0.0</td>\n",
       "      <td>135.0</td>\n",
       "      <td>231.0</td>\n",
       "      <td>...</td>\n",
       "      <td>0.000000</td>\n",
       "      <td>550.000000</td>\n",
       "      <td>1008.59375</td>\n",
       "      <td>685.000000</td>\n",
       "      <td>843.500000</td>\n",
       "      <td>1597.460938</td>\n",
       "      <td>1015.000000</td>\n",
       "      <td>550.000000</td>\n",
       "      <td>991.171875</td>\n",
       "      <td>550.000000</td>\n",
       "    </tr>\n",
       "    <tr>\n",
       "      <th>...</th>\n",
       "      <td>...</td>\n",
       "      <td>...</td>\n",
       "      <td>...</td>\n",
       "      <td>...</td>\n",
       "      <td>...</td>\n",
       "      <td>...</td>\n",
       "      <td>...</td>\n",
       "      <td>...</td>\n",
       "      <td>...</td>\n",
       "      <td>...</td>\n",
       "      <td>...</td>\n",
       "      <td>...</td>\n",
       "      <td>...</td>\n",
       "      <td>...</td>\n",
       "      <td>...</td>\n",
       "      <td>...</td>\n",
       "      <td>...</td>\n",
       "      <td>...</td>\n",
       "      <td>...</td>\n",
       "      <td>...</td>\n",
       "      <td>...</td>\n",
       "    </tr>\n",
       "    <tr>\n",
       "      <th>346</th>\n",
       "      <td>1494</td>\n",
       "      <td>smart</td>\n",
       "      <td>8</td>\n",
       "      <td>0.0</td>\n",
       "      <td>0.0</td>\n",
       "      <td>0.0</td>\n",
       "      <td>0.0</td>\n",
       "      <td>0.0</td>\n",
       "      <td>0.0</td>\n",
       "      <td>0.0</td>\n",
       "      <td>...</td>\n",
       "      <td>0.000000</td>\n",
       "      <td>0.000000</td>\n",
       "      <td>0.00000</td>\n",
       "      <td>0.000000</td>\n",
       "      <td>0.000000</td>\n",
       "      <td>550.000000</td>\n",
       "      <td>870.578125</td>\n",
       "      <td>1025.390625</td>\n",
       "      <td>1080.468750</td>\n",
       "      <td>996.289062</td>\n",
       "    </tr>\n",
       "    <tr>\n",
       "      <th>347</th>\n",
       "      <td>1496</td>\n",
       "      <td>smart</td>\n",
       "      <td>1</td>\n",
       "      <td>0.0</td>\n",
       "      <td>282.0</td>\n",
       "      <td>171.0</td>\n",
       "      <td>63.0</td>\n",
       "      <td>0.0</td>\n",
       "      <td>165.0</td>\n",
       "      <td>246.0</td>\n",
       "      <td>...</td>\n",
       "      <td>2601.859375</td>\n",
       "      <td>1733.703125</td>\n",
       "      <td>2186.71875</td>\n",
       "      <td>1653.085938</td>\n",
       "      <td>2560.648438</td>\n",
       "      <td>2232.562500</td>\n",
       "      <td>2817.578125</td>\n",
       "      <td>3060.742188</td>\n",
       "      <td>2936.781250</td>\n",
       "      <td>1661.101562</td>\n",
       "    </tr>\n",
       "    <tr>\n",
       "      <th>348</th>\n",
       "      <td>1497</td>\n",
       "      <td>smart</td>\n",
       "      <td>10</td>\n",
       "      <td>0.0</td>\n",
       "      <td>0.0</td>\n",
       "      <td>0.0</td>\n",
       "      <td>0.0</td>\n",
       "      <td>0.0</td>\n",
       "      <td>0.0</td>\n",
       "      <td>0.0</td>\n",
       "      <td>...</td>\n",
       "      <td>0.000000</td>\n",
       "      <td>0.000000</td>\n",
       "      <td>0.00000</td>\n",
       "      <td>0.000000</td>\n",
       "      <td>0.000000</td>\n",
       "      <td>0.000000</td>\n",
       "      <td>0.000000</td>\n",
       "      <td>550.000000</td>\n",
       "      <td>550.000000</td>\n",
       "      <td>1579.531250</td>\n",
       "    </tr>\n",
       "    <tr>\n",
       "      <th>349</th>\n",
       "      <td>1498</td>\n",
       "      <td>smart</td>\n",
       "      <td>7</td>\n",
       "      <td>0.0</td>\n",
       "      <td>0.0</td>\n",
       "      <td>0.0</td>\n",
       "      <td>0.0</td>\n",
       "      <td>0.0</td>\n",
       "      <td>0.0</td>\n",
       "      <td>0.0</td>\n",
       "      <td>...</td>\n",
       "      <td>0.000000</td>\n",
       "      <td>0.000000</td>\n",
       "      <td>0.00000</td>\n",
       "      <td>0.000000</td>\n",
       "      <td>550.000000</td>\n",
       "      <td>2326.234375</td>\n",
       "      <td>1879.296875</td>\n",
       "      <td>1574.218750</td>\n",
       "      <td>550.000000</td>\n",
       "      <td>550.000000</td>\n",
       "    </tr>\n",
       "    <tr>\n",
       "      <th>350</th>\n",
       "      <td>1499</td>\n",
       "      <td>smart</td>\n",
       "      <td>9</td>\n",
       "      <td>0.0</td>\n",
       "      <td>0.0</td>\n",
       "      <td>0.0</td>\n",
       "      <td>0.0</td>\n",
       "      <td>0.0</td>\n",
       "      <td>0.0</td>\n",
       "      <td>0.0</td>\n",
       "      <td>...</td>\n",
       "      <td>0.000000</td>\n",
       "      <td>0.000000</td>\n",
       "      <td>0.00000</td>\n",
       "      <td>0.000000</td>\n",
       "      <td>0.000000</td>\n",
       "      <td>0.000000</td>\n",
       "      <td>550.000000</td>\n",
       "      <td>1028.320312</td>\n",
       "      <td>1425.500000</td>\n",
       "      <td>598.000000</td>\n",
       "    </tr>\n",
       "  </tbody>\n",
       "</table>\n",
       "<p>351 rows × 63 columns</p>\n",
       "</div>"
      ],
      "text/plain": [
       "     user_id tariff_name  month_reg  1_x    2_x    3_x    4_x    5_x    6_x  \\\n",
       "0       1001       smart         11  0.0    0.0    0.0    0.0    0.0    0.0   \n",
       "1       1002       smart          6  0.0    0.0    0.0    0.0    0.0    0.0   \n",
       "2       1005       smart          1  0.0    0.0  318.0  636.0  285.0  336.0   \n",
       "3       1006       smart          2  0.0    0.0    0.0    0.0    0.0    0.0   \n",
       "4       1007       smart          4  0.0    0.0    0.0    0.0    0.0  135.0   \n",
       "..       ...         ...        ...  ...    ...    ...    ...    ...    ...   \n",
       "346     1494       smart          8  0.0    0.0    0.0    0.0    0.0    0.0   \n",
       "347     1496       smart          1  0.0  282.0  171.0   63.0    0.0  165.0   \n",
       "348     1497       smart         10  0.0    0.0    0.0    0.0    0.0    0.0   \n",
       "349     1498       smart          7  0.0    0.0    0.0    0.0    0.0    0.0   \n",
       "350     1499       smart          9  0.0    0.0    0.0    0.0    0.0    0.0   \n",
       "\n",
       "       7_x  ...      3_total      4_total     5_total      6_total  \\\n",
       "0      0.0  ...     0.000000     0.000000     0.00000     0.000000   \n",
       "1      0.0  ...     0.000000     0.000000     0.00000   550.000000   \n",
       "2    207.0  ...   886.000000  1186.000000   835.00000   886.000000   \n",
       "3      0.0  ...   930.664062   550.000000   550.00000   550.000000   \n",
       "4    231.0  ...     0.000000   550.000000  1008.59375   685.000000   \n",
       "..     ...  ...          ...          ...         ...          ...   \n",
       "346    0.0  ...     0.000000     0.000000     0.00000     0.000000   \n",
       "347  246.0  ...  2601.859375  1733.703125  2186.71875  1653.085938   \n",
       "348    0.0  ...     0.000000     0.000000     0.00000     0.000000   \n",
       "349    0.0  ...     0.000000     0.000000     0.00000     0.000000   \n",
       "350    0.0  ...     0.000000     0.000000     0.00000     0.000000   \n",
       "\n",
       "         7_total      8_total      9_total     10_total     11_total  \\\n",
       "0       0.000000     0.000000     0.000000     0.000000  1153.906250   \n",
       "1     987.695312  1524.023438   814.062500   550.000000  1184.765625   \n",
       "2     775.000000   949.000000   556.000000  1219.000000   694.000000   \n",
       "3    1456.250000  1324.804688   585.742188  1401.953125   550.000000   \n",
       "4     843.500000  1597.460938  1015.000000   550.000000   991.171875   \n",
       "..           ...          ...          ...          ...          ...   \n",
       "346     0.000000   550.000000   870.578125  1025.390625  1080.468750   \n",
       "347  2560.648438  2232.562500  2817.578125  3060.742188  2936.781250   \n",
       "348     0.000000     0.000000     0.000000   550.000000   550.000000   \n",
       "349   550.000000  2326.234375  1879.296875  1574.218750   550.000000   \n",
       "350     0.000000     0.000000   550.000000  1028.320312  1425.500000   \n",
       "\n",
       "        12_total  \n",
       "0     550.000000  \n",
       "1    1092.382812  \n",
       "2     838.000000  \n",
       "3    1162.890625  \n",
       "4     550.000000  \n",
       "..           ...  \n",
       "346   996.289062  \n",
       "347  1661.101562  \n",
       "348  1579.531250  \n",
       "349   550.000000  \n",
       "350   598.000000  \n",
       "\n",
       "[351 rows x 63 columns]"
      ]
     },
     "execution_count": 25,
     "metadata": {},
     "output_type": "execute_result"
    }
   ],
   "source": [
    "# замена на 0 ячейки, если дата регистрации не больше месяца использования тарифа\n",
    "for j in range (0, len(smart_users)):  \n",
    "    for i in range(1,13):\n",
    "        if i >= smart_users.loc[j, str(i) + '_fee']:\n",
    "            smart_users.loc[j, str(i) + '_fee'] = tariffs.loc[0, 'rub_monthly_fee']\n",
    "        else:\n",
    "            smart_users.loc[j, str(i) + '_fee'] = 0\n",
    "smart_users\n",
    "# суммирование дополнительной оплаты за звонки, сообщения и интернет, а также абонентскую плату\n",
    "for i in range(1,13):\n",
    "    smart_users[str(i) + '_total'] = smart_users[str(i)+'_x'] + smart_users[str(i)+'_y'] + smart_users[i] + smart_users[str(i) + '_fee']\n",
    "smart_users"
   ]
  },
  {
   "cell_type": "code",
   "execution_count": 26,
   "metadata": {},
   "outputs": [
    {
     "data": {
      "text/html": [
       "<div>\n",
       "<style scoped>\n",
       "    .dataframe tbody tr th:only-of-type {\n",
       "        vertical-align: middle;\n",
       "    }\n",
       "\n",
       "    .dataframe tbody tr th {\n",
       "        vertical-align: top;\n",
       "    }\n",
       "\n",
       "    .dataframe thead th {\n",
       "        text-align: right;\n",
       "    }\n",
       "</style>\n",
       "<table border=\"1\" class=\"dataframe\">\n",
       "  <thead>\n",
       "    <tr style=\"text-align: right;\">\n",
       "      <th></th>\n",
       "      <th>user_id</th>\n",
       "      <th>tariff_name</th>\n",
       "      <th>month_reg</th>\n",
       "      <th>1_total</th>\n",
       "      <th>2_total</th>\n",
       "      <th>3_total</th>\n",
       "      <th>4_total</th>\n",
       "      <th>5_total</th>\n",
       "      <th>6_total</th>\n",
       "      <th>7_total</th>\n",
       "      <th>8_total</th>\n",
       "      <th>9_total</th>\n",
       "      <th>10_total</th>\n",
       "      <th>11_total</th>\n",
       "      <th>12_total</th>\n",
       "    </tr>\n",
       "  </thead>\n",
       "  <tbody>\n",
       "    <tr>\n",
       "      <th>341</th>\n",
       "      <td>1487</td>\n",
       "      <td>smart</td>\n",
       "      <td>8</td>\n",
       "      <td>0</td>\n",
       "      <td>0</td>\n",
       "      <td>0</td>\n",
       "      <td>0</td>\n",
       "      <td>0</td>\n",
       "      <td>0</td>\n",
       "      <td>0</td>\n",
       "      <td>550</td>\n",
       "      <td>1812</td>\n",
       "      <td>874</td>\n",
       "      <td>550</td>\n",
       "      <td>550</td>\n",
       "    </tr>\n",
       "    <tr>\n",
       "      <th>342</th>\n",
       "      <td>1488</td>\n",
       "      <td>smart</td>\n",
       "      <td>11</td>\n",
       "      <td>0</td>\n",
       "      <td>0</td>\n",
       "      <td>0</td>\n",
       "      <td>0</td>\n",
       "      <td>0</td>\n",
       "      <td>0</td>\n",
       "      <td>0</td>\n",
       "      <td>0</td>\n",
       "      <td>0</td>\n",
       "      <td>0</td>\n",
       "      <td>643</td>\n",
       "      <td>938</td>\n",
       "    </tr>\n",
       "    <tr>\n",
       "      <th>343</th>\n",
       "      <td>1489</td>\n",
       "      <td>smart</td>\n",
       "      <td>8</td>\n",
       "      <td>0</td>\n",
       "      <td>0</td>\n",
       "      <td>0</td>\n",
       "      <td>0</td>\n",
       "      <td>0</td>\n",
       "      <td>0</td>\n",
       "      <td>0</td>\n",
       "      <td>550</td>\n",
       "      <td>915</td>\n",
       "      <td>1375</td>\n",
       "      <td>971</td>\n",
       "      <td>936</td>\n",
       "    </tr>\n",
       "    <tr>\n",
       "      <th>344</th>\n",
       "      <td>1490</td>\n",
       "      <td>smart</td>\n",
       "      <td>4</td>\n",
       "      <td>0</td>\n",
       "      <td>0</td>\n",
       "      <td>0</td>\n",
       "      <td>550</td>\n",
       "      <td>1722</td>\n",
       "      <td>1364</td>\n",
       "      <td>586</td>\n",
       "      <td>927</td>\n",
       "      <td>550</td>\n",
       "      <td>1591</td>\n",
       "      <td>1208</td>\n",
       "      <td>637</td>\n",
       "    </tr>\n",
       "    <tr>\n",
       "      <th>345</th>\n",
       "      <td>1492</td>\n",
       "      <td>smart</td>\n",
       "      <td>6</td>\n",
       "      <td>0</td>\n",
       "      <td>0</td>\n",
       "      <td>0</td>\n",
       "      <td>0</td>\n",
       "      <td>0</td>\n",
       "      <td>550</td>\n",
       "      <td>601</td>\n",
       "      <td>1838</td>\n",
       "      <td>2170</td>\n",
       "      <td>2853</td>\n",
       "      <td>921</td>\n",
       "      <td>3258</td>\n",
       "    </tr>\n",
       "    <tr>\n",
       "      <th>346</th>\n",
       "      <td>1494</td>\n",
       "      <td>smart</td>\n",
       "      <td>8</td>\n",
       "      <td>0</td>\n",
       "      <td>0</td>\n",
       "      <td>0</td>\n",
       "      <td>0</td>\n",
       "      <td>0</td>\n",
       "      <td>0</td>\n",
       "      <td>0</td>\n",
       "      <td>550</td>\n",
       "      <td>870</td>\n",
       "      <td>1025</td>\n",
       "      <td>1080</td>\n",
       "      <td>996</td>\n",
       "    </tr>\n",
       "    <tr>\n",
       "      <th>347</th>\n",
       "      <td>1496</td>\n",
       "      <td>smart</td>\n",
       "      <td>1</td>\n",
       "      <td>550</td>\n",
       "      <td>3402</td>\n",
       "      <td>2601</td>\n",
       "      <td>1733</td>\n",
       "      <td>2186</td>\n",
       "      <td>1653</td>\n",
       "      <td>2560</td>\n",
       "      <td>2232</td>\n",
       "      <td>2817</td>\n",
       "      <td>3060</td>\n",
       "      <td>2936</td>\n",
       "      <td>1661</td>\n",
       "    </tr>\n",
       "    <tr>\n",
       "      <th>348</th>\n",
       "      <td>1497</td>\n",
       "      <td>smart</td>\n",
       "      <td>10</td>\n",
       "      <td>0</td>\n",
       "      <td>0</td>\n",
       "      <td>0</td>\n",
       "      <td>0</td>\n",
       "      <td>0</td>\n",
       "      <td>0</td>\n",
       "      <td>0</td>\n",
       "      <td>0</td>\n",
       "      <td>0</td>\n",
       "      <td>550</td>\n",
       "      <td>550</td>\n",
       "      <td>1579</td>\n",
       "    </tr>\n",
       "    <tr>\n",
       "      <th>349</th>\n",
       "      <td>1498</td>\n",
       "      <td>smart</td>\n",
       "      <td>7</td>\n",
       "      <td>0</td>\n",
       "      <td>0</td>\n",
       "      <td>0</td>\n",
       "      <td>0</td>\n",
       "      <td>0</td>\n",
       "      <td>0</td>\n",
       "      <td>550</td>\n",
       "      <td>2326</td>\n",
       "      <td>1879</td>\n",
       "      <td>1574</td>\n",
       "      <td>550</td>\n",
       "      <td>550</td>\n",
       "    </tr>\n",
       "    <tr>\n",
       "      <th>350</th>\n",
       "      <td>1499</td>\n",
       "      <td>smart</td>\n",
       "      <td>9</td>\n",
       "      <td>0</td>\n",
       "      <td>0</td>\n",
       "      <td>0</td>\n",
       "      <td>0</td>\n",
       "      <td>0</td>\n",
       "      <td>0</td>\n",
       "      <td>0</td>\n",
       "      <td>0</td>\n",
       "      <td>550</td>\n",
       "      <td>1028</td>\n",
       "      <td>1425</td>\n",
       "      <td>598</td>\n",
       "    </tr>\n",
       "  </tbody>\n",
       "</table>\n",
       "</div>"
      ],
      "text/plain": [
       "     user_id tariff_name  month_reg  1_total  2_total  3_total  4_total  \\\n",
       "341     1487       smart          8        0        0        0        0   \n",
       "342     1488       smart         11        0        0        0        0   \n",
       "343     1489       smart          8        0        0        0        0   \n",
       "344     1490       smart          4        0        0        0      550   \n",
       "345     1492       smart          6        0        0        0        0   \n",
       "346     1494       smart          8        0        0        0        0   \n",
       "347     1496       smart          1      550     3402     2601     1733   \n",
       "348     1497       smart         10        0        0        0        0   \n",
       "349     1498       smart          7        0        0        0        0   \n",
       "350     1499       smart          9        0        0        0        0   \n",
       "\n",
       "     5_total  6_total  7_total  8_total  9_total  10_total  11_total  12_total  \n",
       "341        0        0        0      550     1812       874       550       550  \n",
       "342        0        0        0        0        0         0       643       938  \n",
       "343        0        0        0      550      915      1375       971       936  \n",
       "344     1722     1364      586      927      550      1591      1208       637  \n",
       "345        0      550      601     1838     2170      2853       921      3258  \n",
       "346        0        0        0      550      870      1025      1080       996  \n",
       "347     2186     1653     2560     2232     2817      3060      2936      1661  \n",
       "348        0        0        0        0        0       550       550      1579  \n",
       "349        0        0      550     2326     1879      1574       550       550  \n",
       "350        0        0        0        0      550      1028      1425       598  "
      ]
     },
     "execution_count": 26,
     "metadata": {},
     "output_type": "execute_result"
    }
   ],
   "source": [
    "smart_total = smart_users[['user_id', 'tariff_name', 'month_reg', '1_total', '2_total', '3_total', '4_total', '5_total', '6_total', '7_total', '8_total', '9_total', '10_total', '11_total', '12_total']]\n",
    "smart_total = pd.DataFrame(smart_total)\n",
    "\n",
    "for i in range (1,13):\n",
    "    smart_total[str(i) + '_total'] = smart_total[str(i) + '_total'].astype('int')\n",
    "smart_total.tail(10)"
   ]
  },
  {
   "cell_type": "markdown",
   "metadata": {},
   "source": [
    "Результатом главы стало разделение двух таблиц по разным тарифам, они включают в себя расходы на абонентскую плату и сверхатрифные платежи. Тарифом смарт пользуются в два раза больше людей,невооруженным взглядом видно, что этот тариф привлекает пользователей своей стомостью. Нужно проверить поведение всех пользователей"
   ]
  },
  {
   "cell_type": "markdown",
   "metadata": {},
   "source": [
    "### Анализ данных"
   ]
  },
  {
   "cell_type": "markdown",
   "metadata": {},
   "source": [
    "Нужно описать поведение клиентов оператора, исходя из выборки. Сколько минут разговора, сколько сообщений и какой объём интернет-трафика требуется пользователям каждого тарифа в месяц? Посчитайте среднее количество, дисперсию и стандартное отклонение. Построить гистограммы. Описать распределения."
   ]
  },
  {
   "cell_type": "code",
   "execution_count": 27,
   "metadata": {},
   "outputs": [
    {
     "data": {
      "text/html": [
       "<div>\n",
       "<style scoped>\n",
       "    .dataframe tbody tr th:only-of-type {\n",
       "        vertical-align: middle;\n",
       "    }\n",
       "\n",
       "    .dataframe tbody tr th {\n",
       "        vertical-align: top;\n",
       "    }\n",
       "\n",
       "    .dataframe thead th {\n",
       "        text-align: right;\n",
       "    }\n",
       "</style>\n",
       "<table border=\"1\" class=\"dataframe\">\n",
       "  <thead>\n",
       "    <tr style=\"text-align: right;\">\n",
       "      <th></th>\n",
       "      <th>user_id</th>\n",
       "      <th>month_reg</th>\n",
       "      <th>1_total</th>\n",
       "      <th>2_total</th>\n",
       "      <th>3_total</th>\n",
       "      <th>4_total</th>\n",
       "      <th>5_total</th>\n",
       "      <th>6_total</th>\n",
       "      <th>7_total</th>\n",
       "      <th>8_total</th>\n",
       "      <th>9_total</th>\n",
       "      <th>10_total</th>\n",
       "      <th>11_total</th>\n",
       "      <th>12_total</th>\n",
       "    </tr>\n",
       "  </thead>\n",
       "  <tbody>\n",
       "    <tr>\n",
       "      <th>count</th>\n",
       "      <td>351.000000</td>\n",
       "      <td>351.000000</td>\n",
       "      <td>351.000000</td>\n",
       "      <td>351.000000</td>\n",
       "      <td>351.000000</td>\n",
       "      <td>351.000000</td>\n",
       "      <td>351.000000</td>\n",
       "      <td>351.000000</td>\n",
       "      <td>351.000000</td>\n",
       "      <td>351.000000</td>\n",
       "      <td>351.000000</td>\n",
       "      <td>351.000000</td>\n",
       "      <td>351.000000</td>\n",
       "      <td>351.000000</td>\n",
       "    </tr>\n",
       "    <tr>\n",
       "      <th>mean</th>\n",
       "      <td>1244.133903</td>\n",
       "      <td>6.581197</td>\n",
       "      <td>68.042735</td>\n",
       "      <td>132.891738</td>\n",
       "      <td>245.287749</td>\n",
       "      <td>294.247863</td>\n",
       "      <td>460.601140</td>\n",
       "      <td>536.991453</td>\n",
       "      <td>668.740741</td>\n",
       "      <td>842.364672</td>\n",
       "      <td>889.555556</td>\n",
       "      <td>1095.837607</td>\n",
       "      <td>1166.079772</td>\n",
       "      <td>1467.410256</td>\n",
       "    </tr>\n",
       "    <tr>\n",
       "      <th>std</th>\n",
       "      <td>144.985228</td>\n",
       "      <td>3.424882</td>\n",
       "      <td>244.731797</td>\n",
       "      <td>363.781127</td>\n",
       "      <td>556.789814</td>\n",
       "      <td>522.433726</td>\n",
       "      <td>711.142526</td>\n",
       "      <td>751.974367</td>\n",
       "      <td>786.868356</td>\n",
       "      <td>857.507347</td>\n",
       "      <td>797.531242</td>\n",
       "      <td>882.177607</td>\n",
       "      <td>811.497124</td>\n",
       "      <td>1012.784237</td>\n",
       "    </tr>\n",
       "    <tr>\n",
       "      <th>min</th>\n",
       "      <td>1001.000000</td>\n",
       "      <td>1.000000</td>\n",
       "      <td>0.000000</td>\n",
       "      <td>0.000000</td>\n",
       "      <td>0.000000</td>\n",
       "      <td>0.000000</td>\n",
       "      <td>0.000000</td>\n",
       "      <td>0.000000</td>\n",
       "      <td>0.000000</td>\n",
       "      <td>0.000000</td>\n",
       "      <td>0.000000</td>\n",
       "      <td>0.000000</td>\n",
       "      <td>0.000000</td>\n",
       "      <td>550.000000</td>\n",
       "    </tr>\n",
       "    <tr>\n",
       "      <th>25%</th>\n",
       "      <td>1120.000000</td>\n",
       "      <td>4.000000</td>\n",
       "      <td>0.000000</td>\n",
       "      <td>0.000000</td>\n",
       "      <td>0.000000</td>\n",
       "      <td>0.000000</td>\n",
       "      <td>0.000000</td>\n",
       "      <td>0.000000</td>\n",
       "      <td>0.000000</td>\n",
       "      <td>0.000000</td>\n",
       "      <td>0.000000</td>\n",
       "      <td>550.000000</td>\n",
       "      <td>550.000000</td>\n",
       "      <td>676.000000</td>\n",
       "    </tr>\n",
       "    <tr>\n",
       "      <th>50%</th>\n",
       "      <td>1236.000000</td>\n",
       "      <td>7.000000</td>\n",
       "      <td>0.000000</td>\n",
       "      <td>0.000000</td>\n",
       "      <td>0.000000</td>\n",
       "      <td>0.000000</td>\n",
       "      <td>0.000000</td>\n",
       "      <td>0.000000</td>\n",
       "      <td>550.000000</td>\n",
       "      <td>562.000000</td>\n",
       "      <td>657.000000</td>\n",
       "      <td>842.000000</td>\n",
       "      <td>996.000000</td>\n",
       "      <td>1151.000000</td>\n",
       "    </tr>\n",
       "    <tr>\n",
       "      <th>75%</th>\n",
       "      <td>1371.500000</td>\n",
       "      <td>10.000000</td>\n",
       "      <td>0.000000</td>\n",
       "      <td>0.000000</td>\n",
       "      <td>0.000000</td>\n",
       "      <td>550.000000</td>\n",
       "      <td>644.500000</td>\n",
       "      <td>816.500000</td>\n",
       "      <td>1108.500000</td>\n",
       "      <td>1322.500000</td>\n",
       "      <td>1379.500000</td>\n",
       "      <td>1597.000000</td>\n",
       "      <td>1606.500000</td>\n",
       "      <td>1960.000000</td>\n",
       "    </tr>\n",
       "    <tr>\n",
       "      <th>max</th>\n",
       "      <td>1499.000000</td>\n",
       "      <td>12.000000</td>\n",
       "      <td>2266.000000</td>\n",
       "      <td>3402.000000</td>\n",
       "      <td>2619.000000</td>\n",
       "      <td>2836.000000</td>\n",
       "      <td>3375.000000</td>\n",
       "      <td>4299.000000</td>\n",
       "      <td>3310.000000</td>\n",
       "      <td>4265.000000</td>\n",
       "      <td>3624.000000</td>\n",
       "      <td>4091.000000</td>\n",
       "      <td>5573.000000</td>\n",
       "      <td>6711.000000</td>\n",
       "    </tr>\n",
       "  </tbody>\n",
       "</table>\n",
       "</div>"
      ],
      "text/plain": [
       "           user_id   month_reg      1_total      2_total      3_total  \\\n",
       "count   351.000000  351.000000   351.000000   351.000000   351.000000   \n",
       "mean   1244.133903    6.581197    68.042735   132.891738   245.287749   \n",
       "std     144.985228    3.424882   244.731797   363.781127   556.789814   \n",
       "min    1001.000000    1.000000     0.000000     0.000000     0.000000   \n",
       "25%    1120.000000    4.000000     0.000000     0.000000     0.000000   \n",
       "50%    1236.000000    7.000000     0.000000     0.000000     0.000000   \n",
       "75%    1371.500000   10.000000     0.000000     0.000000     0.000000   \n",
       "max    1499.000000   12.000000  2266.000000  3402.000000  2619.000000   \n",
       "\n",
       "           4_total      5_total      6_total      7_total      8_total  \\\n",
       "count   351.000000   351.000000   351.000000   351.000000   351.000000   \n",
       "mean    294.247863   460.601140   536.991453   668.740741   842.364672   \n",
       "std     522.433726   711.142526   751.974367   786.868356   857.507347   \n",
       "min       0.000000     0.000000     0.000000     0.000000     0.000000   \n",
       "25%       0.000000     0.000000     0.000000     0.000000     0.000000   \n",
       "50%       0.000000     0.000000     0.000000   550.000000   562.000000   \n",
       "75%     550.000000   644.500000   816.500000  1108.500000  1322.500000   \n",
       "max    2836.000000  3375.000000  4299.000000  3310.000000  4265.000000   \n",
       "\n",
       "           9_total     10_total     11_total     12_total  \n",
       "count   351.000000   351.000000   351.000000   351.000000  \n",
       "mean    889.555556  1095.837607  1166.079772  1467.410256  \n",
       "std     797.531242   882.177607   811.497124  1012.784237  \n",
       "min       0.000000     0.000000     0.000000   550.000000  \n",
       "25%       0.000000   550.000000   550.000000   676.000000  \n",
       "50%     657.000000   842.000000   996.000000  1151.000000  \n",
       "75%    1379.500000  1597.000000  1606.500000  1960.000000  \n",
       "max    3624.000000  4091.000000  5573.000000  6711.000000  "
      ]
     },
     "execution_count": 27,
     "metadata": {},
     "output_type": "execute_result"
    }
   ],
   "source": [
    "smart_total.describe()"
   ]
  },
  {
   "cell_type": "markdown",
   "metadata": {},
   "source": [
    "Декабрь - самый затратный месяц для пользователей тарифа Смарт."
   ]
  },
  {
   "cell_type": "code",
   "execution_count": 28,
   "metadata": {},
   "outputs": [
    {
     "data": {
      "text/html": [
       "<div>\n",
       "<style scoped>\n",
       "    .dataframe tbody tr th:only-of-type {\n",
       "        vertical-align: middle;\n",
       "    }\n",
       "\n",
       "    .dataframe tbody tr th {\n",
       "        vertical-align: top;\n",
       "    }\n",
       "\n",
       "    .dataframe thead th {\n",
       "        text-align: right;\n",
       "    }\n",
       "</style>\n",
       "<table border=\"1\" class=\"dataframe\">\n",
       "  <thead>\n",
       "    <tr style=\"text-align: right;\">\n",
       "      <th></th>\n",
       "      <th>user_id</th>\n",
       "      <th>month_reg</th>\n",
       "      <th>1_total</th>\n",
       "      <th>2_total</th>\n",
       "      <th>3_total</th>\n",
       "      <th>4_total</th>\n",
       "      <th>5_total</th>\n",
       "      <th>6_total</th>\n",
       "      <th>7_total</th>\n",
       "      <th>8_total</th>\n",
       "      <th>9_total</th>\n",
       "      <th>10_total</th>\n",
       "      <th>11_total</th>\n",
       "      <th>12_total</th>\n",
       "    </tr>\n",
       "  </thead>\n",
       "  <tbody>\n",
       "    <tr>\n",
       "      <th>count</th>\n",
       "      <td>149.000000</td>\n",
       "      <td>149.000000</td>\n",
       "      <td>149.000000</td>\n",
       "      <td>149.000000</td>\n",
       "      <td>149.000000</td>\n",
       "      <td>149.000000</td>\n",
       "      <td>149.000000</td>\n",
       "      <td>149.000000</td>\n",
       "      <td>149.000000</td>\n",
       "      <td>149.000000</td>\n",
       "      <td>149.000000</td>\n",
       "      <td>149.000000</td>\n",
       "      <td>149.000000</td>\n",
       "      <td>149.000000</td>\n",
       "    </tr>\n",
       "    <tr>\n",
       "      <th>mean</th>\n",
       "      <td>1262.140940</td>\n",
       "      <td>6.248322</td>\n",
       "      <td>117.785235</td>\n",
       "      <td>317.798658</td>\n",
       "      <td>497.657718</td>\n",
       "      <td>736.550336</td>\n",
       "      <td>924.013423</td>\n",
       "      <td>1145.550336</td>\n",
       "      <td>1287.697987</td>\n",
       "      <td>1487.268456</td>\n",
       "      <td>1567.261745</td>\n",
       "      <td>1737.194631</td>\n",
       "      <td>1962.879195</td>\n",
       "      <td>2114.355705</td>\n",
       "    </tr>\n",
       "    <tr>\n",
       "      <th>std</th>\n",
       "      <td>142.976516</td>\n",
       "      <td>3.320506</td>\n",
       "      <td>466.118019</td>\n",
       "      <td>728.367519</td>\n",
       "      <td>873.628035</td>\n",
       "      <td>971.922728</td>\n",
       "      <td>1059.098743</td>\n",
       "      <td>1035.512228</td>\n",
       "      <td>1082.782824</td>\n",
       "      <td>987.762717</td>\n",
       "      <td>861.024872</td>\n",
       "      <td>817.865677</td>\n",
       "      <td>594.648635</td>\n",
       "      <td>445.087876</td>\n",
       "    </tr>\n",
       "    <tr>\n",
       "      <th>min</th>\n",
       "      <td>1000.000000</td>\n",
       "      <td>1.000000</td>\n",
       "      <td>0.000000</td>\n",
       "      <td>0.000000</td>\n",
       "      <td>0.000000</td>\n",
       "      <td>0.000000</td>\n",
       "      <td>0.000000</td>\n",
       "      <td>0.000000</td>\n",
       "      <td>0.000000</td>\n",
       "      <td>0.000000</td>\n",
       "      <td>0.000000</td>\n",
       "      <td>0.000000</td>\n",
       "      <td>0.000000</td>\n",
       "      <td>1950.000000</td>\n",
       "    </tr>\n",
       "    <tr>\n",
       "      <th>25%</th>\n",
       "      <td>1143.000000</td>\n",
       "      <td>4.000000</td>\n",
       "      <td>0.000000</td>\n",
       "      <td>0.000000</td>\n",
       "      <td>0.000000</td>\n",
       "      <td>0.000000</td>\n",
       "      <td>0.000000</td>\n",
       "      <td>0.000000</td>\n",
       "      <td>0.000000</td>\n",
       "      <td>0.000000</td>\n",
       "      <td>1950.000000</td>\n",
       "      <td>1950.000000</td>\n",
       "      <td>1950.000000</td>\n",
       "      <td>1950.000000</td>\n",
       "    </tr>\n",
       "    <tr>\n",
       "      <th>50%</th>\n",
       "      <td>1276.000000</td>\n",
       "      <td>6.000000</td>\n",
       "      <td>0.000000</td>\n",
       "      <td>0.000000</td>\n",
       "      <td>0.000000</td>\n",
       "      <td>0.000000</td>\n",
       "      <td>0.000000</td>\n",
       "      <td>1950.000000</td>\n",
       "      <td>1950.000000</td>\n",
       "      <td>1950.000000</td>\n",
       "      <td>1950.000000</td>\n",
       "      <td>1950.000000</td>\n",
       "      <td>1950.000000</td>\n",
       "      <td>1950.000000</td>\n",
       "    </tr>\n",
       "    <tr>\n",
       "      <th>75%</th>\n",
       "      <td>1379.000000</td>\n",
       "      <td>9.000000</td>\n",
       "      <td>0.000000</td>\n",
       "      <td>0.000000</td>\n",
       "      <td>0.000000</td>\n",
       "      <td>1950.000000</td>\n",
       "      <td>1950.000000</td>\n",
       "      <td>1950.000000</td>\n",
       "      <td>1950.000000</td>\n",
       "      <td>1950.000000</td>\n",
       "      <td>1950.000000</td>\n",
       "      <td>1950.000000</td>\n",
       "      <td>1950.000000</td>\n",
       "      <td>1950.000000</td>\n",
       "    </tr>\n",
       "    <tr>\n",
       "      <th>max</th>\n",
       "      <td>1495.000000</td>\n",
       "      <td>12.000000</td>\n",
       "      <td>1950.000000</td>\n",
       "      <td>2233.000000</td>\n",
       "      <td>2922.000000</td>\n",
       "      <td>2890.000000</td>\n",
       "      <td>3876.000000</td>\n",
       "      <td>3644.000000</td>\n",
       "      <td>4074.000000</td>\n",
       "      <td>4539.000000</td>\n",
       "      <td>3634.000000</td>\n",
       "      <td>4743.000000</td>\n",
       "      <td>3945.000000</td>\n",
       "      <td>3891.000000</td>\n",
       "    </tr>\n",
       "  </tbody>\n",
       "</table>\n",
       "</div>"
      ],
      "text/plain": [
       "           user_id   month_reg      1_total      2_total      3_total  \\\n",
       "count   149.000000  149.000000   149.000000   149.000000   149.000000   \n",
       "mean   1262.140940    6.248322   117.785235   317.798658   497.657718   \n",
       "std     142.976516    3.320506   466.118019   728.367519   873.628035   \n",
       "min    1000.000000    1.000000     0.000000     0.000000     0.000000   \n",
       "25%    1143.000000    4.000000     0.000000     0.000000     0.000000   \n",
       "50%    1276.000000    6.000000     0.000000     0.000000     0.000000   \n",
       "75%    1379.000000    9.000000     0.000000     0.000000     0.000000   \n",
       "max    1495.000000   12.000000  1950.000000  2233.000000  2922.000000   \n",
       "\n",
       "           4_total      5_total      6_total      7_total      8_total  \\\n",
       "count   149.000000   149.000000   149.000000   149.000000   149.000000   \n",
       "mean    736.550336   924.013423  1145.550336  1287.697987  1487.268456   \n",
       "std     971.922728  1059.098743  1035.512228  1082.782824   987.762717   \n",
       "min       0.000000     0.000000     0.000000     0.000000     0.000000   \n",
       "25%       0.000000     0.000000     0.000000     0.000000     0.000000   \n",
       "50%       0.000000     0.000000  1950.000000  1950.000000  1950.000000   \n",
       "75%    1950.000000  1950.000000  1950.000000  1950.000000  1950.000000   \n",
       "max    2890.000000  3876.000000  3644.000000  4074.000000  4539.000000   \n",
       "\n",
       "           9_total     10_total     11_total     12_total  \n",
       "count   149.000000   149.000000   149.000000   149.000000  \n",
       "mean   1567.261745  1737.194631  1962.879195  2114.355705  \n",
       "std     861.024872   817.865677   594.648635   445.087876  \n",
       "min       0.000000     0.000000     0.000000  1950.000000  \n",
       "25%    1950.000000  1950.000000  1950.000000  1950.000000  \n",
       "50%    1950.000000  1950.000000  1950.000000  1950.000000  \n",
       "75%    1950.000000  1950.000000  1950.000000  1950.000000  \n",
       "max    3634.000000  4743.000000  3945.000000  3891.000000  "
      ]
     },
     "execution_count": 28,
     "metadata": {},
     "output_type": "execute_result"
    }
   ],
   "source": [
    "ultra_total.describe()"
   ]
  },
  {
   "cell_type": "markdown",
   "metadata": {},
   "source": [
    "Соединим таблицы, мерджить необходимо по user_id, они необходимы для статистического анализа"
   ]
  },
  {
   "cell_type": "code",
   "execution_count": 29,
   "metadata": {},
   "outputs": [],
   "source": [
    "users_calls_pivot = user_tariff.merge(calls_pivot, on='user_id', how='left')\n",
    "users_internet_pivot = user_tariff.merge(internet_pivot, on='user_id', how='left')\n",
    "users_messages_pivot = user_tariff.merge(messages_pivot, on='user_id', how='left')\n",
    "\n",
    "# для тарифов пропущенные значения заменим на 0\n",
    "smart_users_calls = users_calls_pivot.query('tariff_name == \"smart\"').reset_index(drop=True).fillna(0)\n",
    "ultra_users_calls = users_calls_pivot.query('tariff_name == \"ultra\"').reset_index(drop=True).fillna(0)\n",
    "smart_users_internet = users_internet_pivot.query('tariff_name == \"smart\"').reset_index(drop=True).fillna(0)\n",
    "ultra_users_internet = users_internet_pivot.query('tariff_name == \"ultra\"').reset_index(drop=True).fillna(0)\n",
    "smart_users_messages = users_messages_pivot.query('tariff_name == \"smart\"').reset_index(drop=True).fillna(0)\n",
    "ultra_users_messages = users_messages_pivot.query('tariff_name == \"ultra\"').reset_index(drop=True).fillna(0)"
   ]
  },
  {
   "cell_type": "markdown",
   "metadata": {},
   "source": [
    "Необходимо написать функции для упрощения анализа:\n",
    "* user_mean - добавляет среднее для каждого пользователя\n",
    "* user_stat - возвращает статистические показатели по тарифам (среднее, дисперсия и стандартное отклонение)\n",
    "* user_plot - возвращает диаграмму размаха и гистограмму распределения"
   ]
  },
  {
   "cell_type": "markdown",
   "metadata": {},
   "source": [
    "#### Анализ тарифа Смарт"
   ]
  },
  {
   "cell_type": "code",
   "execution_count": 30,
   "metadata": {},
   "outputs": [],
   "source": [
    "def user_mean(data):\n",
    "    data['mean'] = sum(data[i] for i in range(1, 13)) / (13 - data['month_reg'])\n",
    "\n",
    "user_mean(smart_users_calls)\n",
    "user_mean(ultra_users_calls)\n",
    "user_mean(smart_users_internet)\n",
    "user_mean(ultra_users_internet)\n",
    "user_mean(smart_users_messages)\n",
    "user_mean(ultra_users_messages)"
   ]
  },
  {
   "cell_type": "code",
   "execution_count": 31,
   "metadata": {
    "scrolled": true
   },
   "outputs": [
    {
     "data": {
      "text/html": [
       "<div>\n",
       "<style scoped>\n",
       "    .dataframe tbody tr th:only-of-type {\n",
       "        vertical-align: middle;\n",
       "    }\n",
       "\n",
       "    .dataframe tbody tr th {\n",
       "        vertical-align: top;\n",
       "    }\n",
       "\n",
       "    .dataframe thead th {\n",
       "        text-align: right;\n",
       "    }\n",
       "</style>\n",
       "<table border=\"1\" class=\"dataframe\">\n",
       "  <thead>\n",
       "    <tr style=\"text-align: right;\">\n",
       "      <th></th>\n",
       "      <th>user_id</th>\n",
       "      <th>month_reg</th>\n",
       "      <th>1</th>\n",
       "      <th>2</th>\n",
       "      <th>3</th>\n",
       "      <th>4</th>\n",
       "      <th>5</th>\n",
       "      <th>6</th>\n",
       "      <th>7</th>\n",
       "      <th>8</th>\n",
       "      <th>9</th>\n",
       "      <th>10</th>\n",
       "      <th>11</th>\n",
       "      <th>12</th>\n",
       "      <th>mean</th>\n",
       "    </tr>\n",
       "  </thead>\n",
       "  <tbody>\n",
       "    <tr>\n",
       "      <th>count</th>\n",
       "      <td>351.000000</td>\n",
       "      <td>351.000000</td>\n",
       "      <td>351.000000</td>\n",
       "      <td>351.000000</td>\n",
       "      <td>351.000000</td>\n",
       "      <td>351.000000</td>\n",
       "      <td>351.000000</td>\n",
       "      <td>351.000000</td>\n",
       "      <td>351.000000</td>\n",
       "      <td>351.000000</td>\n",
       "      <td>351.000000</td>\n",
       "      <td>351.000000</td>\n",
       "      <td>351.000000</td>\n",
       "      <td>351.000000</td>\n",
       "      <td>351.000000</td>\n",
       "    </tr>\n",
       "    <tr>\n",
       "      <th>mean</th>\n",
       "      <td>1244.133903</td>\n",
       "      <td>6.581197</td>\n",
       "      <td>19.746439</td>\n",
       "      <td>49.356125</td>\n",
       "      <td>85.566952</td>\n",
       "      <td>117.148148</td>\n",
       "      <td>155.606838</td>\n",
       "      <td>184.857550</td>\n",
       "      <td>233.843305</td>\n",
       "      <td>282.179487</td>\n",
       "      <td>317.490028</td>\n",
       "      <td>356.934473</td>\n",
       "      <td>391.863248</td>\n",
       "      <td>459.472934</td>\n",
       "      <td>415.784481</td>\n",
       "    </tr>\n",
       "    <tr>\n",
       "      <th>std</th>\n",
       "      <td>144.985228</td>\n",
       "      <td>3.424882</td>\n",
       "      <td>76.737483</td>\n",
       "      <td>135.171367</td>\n",
       "      <td>184.727306</td>\n",
       "      <td>200.994288</td>\n",
       "      <td>223.816224</td>\n",
       "      <td>231.070372</td>\n",
       "      <td>243.625323</td>\n",
       "      <td>250.357103</td>\n",
       "      <td>245.350616</td>\n",
       "      <td>233.236884</td>\n",
       "      <td>213.310059</td>\n",
       "      <td>216.578178</td>\n",
       "      <td>149.025721</td>\n",
       "    </tr>\n",
       "    <tr>\n",
       "      <th>min</th>\n",
       "      <td>1001.000000</td>\n",
       "      <td>1.000000</td>\n",
       "      <td>0.000000</td>\n",
       "      <td>0.000000</td>\n",
       "      <td>0.000000</td>\n",
       "      <td>0.000000</td>\n",
       "      <td>0.000000</td>\n",
       "      <td>0.000000</td>\n",
       "      <td>0.000000</td>\n",
       "      <td>0.000000</td>\n",
       "      <td>0.000000</td>\n",
       "      <td>0.000000</td>\n",
       "      <td>0.000000</td>\n",
       "      <td>0.000000</td>\n",
       "      <td>0.000000</td>\n",
       "    </tr>\n",
       "    <tr>\n",
       "      <th>25%</th>\n",
       "      <td>1120.000000</td>\n",
       "      <td>4.000000</td>\n",
       "      <td>0.000000</td>\n",
       "      <td>0.000000</td>\n",
       "      <td>0.000000</td>\n",
       "      <td>0.000000</td>\n",
       "      <td>0.000000</td>\n",
       "      <td>0.000000</td>\n",
       "      <td>0.000000</td>\n",
       "      <td>0.000000</td>\n",
       "      <td>0.000000</td>\n",
       "      <td>194.000000</td>\n",
       "      <td>264.500000</td>\n",
       "      <td>320.000000</td>\n",
       "      <td>310.666667</td>\n",
       "    </tr>\n",
       "    <tr>\n",
       "      <th>50%</th>\n",
       "      <td>1236.000000</td>\n",
       "      <td>7.000000</td>\n",
       "      <td>0.000000</td>\n",
       "      <td>0.000000</td>\n",
       "      <td>0.000000</td>\n",
       "      <td>0.000000</td>\n",
       "      <td>0.000000</td>\n",
       "      <td>0.000000</td>\n",
       "      <td>183.000000</td>\n",
       "      <td>289.000000</td>\n",
       "      <td>338.000000</td>\n",
       "      <td>365.000000</td>\n",
       "      <td>407.000000</td>\n",
       "      <td>464.000000</td>\n",
       "      <td>423.300000</td>\n",
       "    </tr>\n",
       "    <tr>\n",
       "      <th>75%</th>\n",
       "      <td>1371.500000</td>\n",
       "      <td>10.000000</td>\n",
       "      <td>0.000000</td>\n",
       "      <td>0.000000</td>\n",
       "      <td>0.000000</td>\n",
       "      <td>206.000000</td>\n",
       "      <td>345.500000</td>\n",
       "      <td>387.500000</td>\n",
       "      <td>454.500000</td>\n",
       "      <td>487.000000</td>\n",
       "      <td>508.000000</td>\n",
       "      <td>530.000000</td>\n",
       "      <td>539.500000</td>\n",
       "      <td>593.500000</td>\n",
       "      <td>518.616667</td>\n",
       "    </tr>\n",
       "    <tr>\n",
       "      <th>max</th>\n",
       "      <td>1499.000000</td>\n",
       "      <td>12.000000</td>\n",
       "      <td>551.000000</td>\n",
       "      <td>747.000000</td>\n",
       "      <td>822.000000</td>\n",
       "      <td>785.000000</td>\n",
       "      <td>820.000000</td>\n",
       "      <td>875.000000</td>\n",
       "      <td>839.000000</td>\n",
       "      <td>1000.000000</td>\n",
       "      <td>843.000000</td>\n",
       "      <td>1005.000000</td>\n",
       "      <td>954.000000</td>\n",
       "      <td>1435.000000</td>\n",
       "      <td>891.500000</td>\n",
       "    </tr>\n",
       "  </tbody>\n",
       "</table>\n",
       "</div>"
      ],
      "text/plain": [
       "           user_id   month_reg           1           2           3  \\\n",
       "count   351.000000  351.000000  351.000000  351.000000  351.000000   \n",
       "mean   1244.133903    6.581197   19.746439   49.356125   85.566952   \n",
       "std     144.985228    3.424882   76.737483  135.171367  184.727306   \n",
       "min    1001.000000    1.000000    0.000000    0.000000    0.000000   \n",
       "25%    1120.000000    4.000000    0.000000    0.000000    0.000000   \n",
       "50%    1236.000000    7.000000    0.000000    0.000000    0.000000   \n",
       "75%    1371.500000   10.000000    0.000000    0.000000    0.000000   \n",
       "max    1499.000000   12.000000  551.000000  747.000000  822.000000   \n",
       "\n",
       "                4           5           6           7            8  \\\n",
       "count  351.000000  351.000000  351.000000  351.000000   351.000000   \n",
       "mean   117.148148  155.606838  184.857550  233.843305   282.179487   \n",
       "std    200.994288  223.816224  231.070372  243.625323   250.357103   \n",
       "min      0.000000    0.000000    0.000000    0.000000     0.000000   \n",
       "25%      0.000000    0.000000    0.000000    0.000000     0.000000   \n",
       "50%      0.000000    0.000000    0.000000  183.000000   289.000000   \n",
       "75%    206.000000  345.500000  387.500000  454.500000   487.000000   \n",
       "max    785.000000  820.000000  875.000000  839.000000  1000.000000   \n",
       "\n",
       "                9           10          11           12        mean  \n",
       "count  351.000000   351.000000  351.000000   351.000000  351.000000  \n",
       "mean   317.490028   356.934473  391.863248   459.472934  415.784481  \n",
       "std    245.350616   233.236884  213.310059   216.578178  149.025721  \n",
       "min      0.000000     0.000000    0.000000     0.000000    0.000000  \n",
       "25%      0.000000   194.000000  264.500000   320.000000  310.666667  \n",
       "50%    338.000000   365.000000  407.000000   464.000000  423.300000  \n",
       "75%    508.000000   530.000000  539.500000   593.500000  518.616667  \n",
       "max    843.000000  1005.000000  954.000000  1435.000000  891.500000  "
      ]
     },
     "execution_count": 31,
     "metadata": {},
     "output_type": "execute_result"
    }
   ],
   "source": [
    "smart_users_calls.describe() # аналитически проверяем стат. показатели"
   ]
  },
  {
   "cell_type": "code",
   "execution_count": 32,
   "metadata": {},
   "outputs": [
    {
     "name": "stdout",
     "output_type": "stream",
     "text": [
      "Среднее: 415.8 \n",
      "Дисперсия: 22208.7 \n",
      "Стандартное отклонение: 149.0\n"
     ]
    }
   ],
   "source": [
    "def user_stat(data, column):\n",
    "    mean = np.mean(data[column])\n",
    "    variance = np.var(data[column], ddof=1)\n",
    "    standard_deviation = np.std(data[column], ddof=1)\n",
    "    print ('Среднее: {:.1f}'.format(mean), '\\n' \n",
    "           'Дисперсия: {:.1f}'.format(variance), '\\n'\n",
    "           'Стандартное отклонение: {:.1f}'.format(standard_deviation)\n",
    "          )\n",
    "user_stat(smart_users_calls, 'mean')"
   ]
  },
  {
   "cell_type": "code",
   "execution_count": 33,
   "metadata": {
    "scrolled": false
   },
   "outputs": [
    {
     "name": "stderr",
     "output_type": "stream",
     "text": [
      "/opt/conda/lib/python3.9/site-packages/seaborn/distributions.py:2557: FutureWarning: `distplot` is a deprecated function and will be removed in a future version. Please adapt your code to use either `displot` (a figure-level function with similar flexibility) or `histplot` (an axes-level function for histograms).\n",
      "  warnings.warn(msg, FutureWarning)\n",
      "/opt/conda/lib/python3.9/site-packages/seaborn/distributions.py:1647: FutureWarning: The `vertical` parameter is deprecated and will be removed in a future version. Assign the data to the `y` variable instead.\n",
      "  warnings.warn(msg, FutureWarning)\n"
     ]
    },
    {
     "data": {
      "image/png": "[encoded data removed]",
      "text/plain": [
       "<Figure size 1080x576 with 3 Axes>"
      ]
     },
     "metadata": {
      "needs_background": "light"
     },
     "output_type": "display_data"
    }
   ],
   "source": [
    "def user_plot(df, column):\n",
    "    fig, (ax, ax2, ax3) = plt.subplots(ncols=3, sharey=True, figsize=(15,8))\n",
    "    ax.yaxis.tick_right()\n",
    "\n",
    "    (df[column].plot(y=column, style='o', c='g', grid= True, legend=False, ax=ax)\n",
    "                             .set(xlabel='Количество', ylabel='Среднее по пользователю'))\n",
    "    df.boxplot(column=column, ax=ax2).set(xlabel='Диаграмма размаха')\n",
    "    sns.distplot(df[column], ax=ax3, vertical=True).set(xlabel='Гистограмма распределения');\n",
    "user_plot(smart_users_calls, 'mean')\n",
    "warnings.filterwarnings('ignore')"
   ]
  },
  {
   "cell_type": "markdown",
   "metadata": {},
   "source": [
    "Для звонков пользователей тарифа Смарт характерна следующая картина: есть несколько выбивающихся значений из представленной выборки,они не сильно влияют на показатели в целом, об этом говорит значение стандартного отклонения. По гистограмме можно сделать предварительный вывод, что распределение **нормальное**"
   ]
  },
  {
   "cell_type": "code",
   "execution_count": 34,
   "metadata": {},
   "outputs": [
    {
     "name": "stdout",
     "output_type": "stream",
     "text": [
      "Среднее: 32.0 \n",
      "Дисперсия: 703.3 \n",
      "Стандартное отклонение: 26.5\n"
     ]
    },
    {
     "data": {
      "image/png": "[encoded data removed]",
      "text/plain": [
       "<Figure size 1080x576 with 3 Axes>"
      ]
     },
     "metadata": {
      "needs_background": "light"
     },
     "output_type": "display_data"
    }
   ],
   "source": [
    "user_stat(smart_users_messages, 'mean')\n",
    "user_plot(smart_users_messages, 'mean')\n",
    "warnings.filterwarnings('ignore')"
   ]
  },
  {
   "cell_type": "code",
   "execution_count": 35,
   "metadata": {},
   "outputs": [],
   "source": [
    "import scipy"
   ]
  },
  {
   "cell_type": "code",
   "execution_count": 36,
   "metadata": {},
   "outputs": [
    {
     "name": "stdout",
     "output_type": "stream",
     "text": [
      "Statistics=0.93, p-value=0.00\n",
      "Отклонить гипотезу о нормальности\n"
     ]
    }
   ],
   "source": [
    "stat, p = scipy.stats.shapiro(smart_users_messages['mean']) # тест Шапиро-Уилка\n",
    "print('Statistics=%.2f, p-value=%.2f' % (stat, p))\n",
    "\n",
    "alpha = 0.05\n",
    "if p > alpha:\n",
    "    print('Принять гипотезу о нормальности')\n",
    "else:\n",
    "    print('Отклонить гипотезу о нормальности')"
   ]
  },
  {
   "cell_type": "markdown",
   "metadata": {},
   "source": [
    "Изучение распределения выборки по сообщениям тарифа Смарт говорит о правостороннем смещении значений, а также наличия выбросов(аномалий). Проведенный тест Шапиро-Уилка на нормальность распределения также показал, что распределение назвать нормальным нельзя"
   ]
  },
  {
   "cell_type": "code",
   "execution_count": 37,
   "metadata": {},
   "outputs": [
    {
     "name": "stdout",
     "output_type": "stream",
     "text": [
      "Среднее: 16029.5 \n",
      "Дисперсия: 14379029.9 \n",
      "Стандартное отклонение: 3792.0\n"
     ]
    },
    {
     "data": {
      "image/png": "[encoded data removed]",
      "text/plain": [
       "<Figure size 1080x576 with 3 Axes>"
      ]
     },
     "metadata": {
      "needs_background": "light"
     },
     "output_type": "display_data"
    }
   ],
   "source": [
    "user_stat(smart_users_internet, 'mean')\n",
    "user_plot(smart_users_internet, 'mean')\n",
    "warnings.filterwarnings('ignore')"
   ]
  },
  {
   "cell_type": "markdown",
   "metadata": {},
   "source": [
    "Выбивающиеся значения сверху и снизу диаграммы размаха обозначают крайне высокое и низкое использование интернет-трафика пользователями тарифа Смарт. На гистограмме также заметны два пика плостности распределения, нужно оценить эти значения с точки зрения объема трафика, входящего в стоимость абонентскрй платы (15 гб)"
   ]
  },
  {
   "cell_type": "code",
   "execution_count": 38,
   "metadata": {
    "scrolled": true
   },
   "outputs": [
    {
     "data": {
      "text/html": [
       "<div>\n",
       "<style scoped>\n",
       "    .dataframe tbody tr th:only-of-type {\n",
       "        vertical-align: middle;\n",
       "    }\n",
       "\n",
       "    .dataframe tbody tr th {\n",
       "        vertical-align: top;\n",
       "    }\n",
       "\n",
       "    .dataframe thead th {\n",
       "        text-align: right;\n",
       "    }\n",
       "</style>\n",
       "<table border=\"1\" class=\"dataframe\">\n",
       "  <thead>\n",
       "    <tr style=\"text-align: right;\">\n",
       "      <th></th>\n",
       "      <th>user_id</th>\n",
       "      <th>tariff_name</th>\n",
       "      <th>month_reg</th>\n",
       "      <th>1</th>\n",
       "      <th>2</th>\n",
       "      <th>3</th>\n",
       "      <th>4</th>\n",
       "      <th>5</th>\n",
       "      <th>6</th>\n",
       "      <th>7</th>\n",
       "      <th>8</th>\n",
       "      <th>9</th>\n",
       "      <th>10</th>\n",
       "      <th>11</th>\n",
       "      <th>12</th>\n",
       "      <th>mean</th>\n",
       "    </tr>\n",
       "  </thead>\n",
       "  <tbody>\n",
       "    <tr>\n",
       "      <th>0</th>\n",
       "      <td>1001</td>\n",
       "      <td>smart</td>\n",
       "      <td>11</td>\n",
       "      <td>0.0</td>\n",
       "      <td>0.0</td>\n",
       "      <td>0.0</td>\n",
       "      <td>0.0</td>\n",
       "      <td>0.0</td>\n",
       "      <td>0.0</td>\n",
       "      <td>0.0</td>\n",
       "      <td>0.0</td>\n",
       "      <td>0.0</td>\n",
       "      <td>0.0</td>\n",
       "      <td>18452.0</td>\n",
       "      <td>14053.0</td>\n",
       "      <td>16252.500000</td>\n",
       "    </tr>\n",
       "    <tr>\n",
       "      <th>1</th>\n",
       "      <td>1002</td>\n",
       "      <td>smart</td>\n",
       "      <td>6</td>\n",
       "      <td>0.0</td>\n",
       "      <td>0.0</td>\n",
       "      <td>0.0</td>\n",
       "      <td>0.0</td>\n",
       "      <td>0.0</td>\n",
       "      <td>10871.0</td>\n",
       "      <td>17601.0</td>\n",
       "      <td>20347.0</td>\n",
       "      <td>16712.0</td>\n",
       "      <td>13905.0</td>\n",
       "      <td>18610.0</td>\n",
       "      <td>18137.0</td>\n",
       "      <td>16597.571429</td>\n",
       "    </tr>\n",
       "    <tr>\n",
       "      <th>2</th>\n",
       "      <td>1005</td>\n",
       "      <td>smart</td>\n",
       "      <td>1</td>\n",
       "      <td>2730.0</td>\n",
       "      <td>7394.0</td>\n",
       "      <td>11117.0</td>\n",
       "      <td>9365.0</td>\n",
       "      <td>7877.0</td>\n",
       "      <td>9875.0</td>\n",
       "      <td>7703.0</td>\n",
       "      <td>7554.0</td>\n",
       "      <td>7027.0</td>\n",
       "      <td>7809.0</td>\n",
       "      <td>12682.0</td>\n",
       "      <td>8680.0</td>\n",
       "      <td>8317.750000</td>\n",
       "    </tr>\n",
       "    <tr>\n",
       "      <th>3</th>\n",
       "      <td>1006</td>\n",
       "      <td>smart</td>\n",
       "      <td>2</td>\n",
       "      <td>0.0</td>\n",
       "      <td>1395.0</td>\n",
       "      <td>17309.0</td>\n",
       "      <td>13954.0</td>\n",
       "      <td>12984.0</td>\n",
       "      <td>12388.0</td>\n",
       "      <td>20000.0</td>\n",
       "      <td>19327.0</td>\n",
       "      <td>15543.0</td>\n",
       "      <td>19722.0</td>\n",
       "      <td>13275.0</td>\n",
       "      <td>18498.0</td>\n",
       "      <td>14945.000000</td>\n",
       "    </tr>\n",
       "    <tr>\n",
       "      <th>4</th>\n",
       "      <td>1007</td>\n",
       "      <td>smart</td>\n",
       "      <td>4</td>\n",
       "      <td>0.0</td>\n",
       "      <td>0.0</td>\n",
       "      <td>0.0</td>\n",
       "      <td>8031.0</td>\n",
       "      <td>17708.0</td>\n",
       "      <td>13674.0</td>\n",
       "      <td>15680.0</td>\n",
       "      <td>20723.0</td>\n",
       "      <td>12630.0</td>\n",
       "      <td>14444.0</td>\n",
       "      <td>16390.0</td>\n",
       "      <td>12512.0</td>\n",
       "      <td>14643.555556</td>\n",
       "    </tr>\n",
       "    <tr>\n",
       "      <th>...</th>\n",
       "      <td>...</td>\n",
       "      <td>...</td>\n",
       "      <td>...</td>\n",
       "      <td>...</td>\n",
       "      <td>...</td>\n",
       "      <td>...</td>\n",
       "      <td>...</td>\n",
       "      <td>...</td>\n",
       "      <td>...</td>\n",
       "      <td>...</td>\n",
       "      <td>...</td>\n",
       "      <td>...</td>\n",
       "      <td>...</td>\n",
       "      <td>...</td>\n",
       "      <td>...</td>\n",
       "      <td>...</td>\n",
       "    </tr>\n",
       "    <tr>\n",
       "      <th>346</th>\n",
       "      <td>1494</td>\n",
       "      <td>smart</td>\n",
       "      <td>8</td>\n",
       "      <td>0.0</td>\n",
       "      <td>0.0</td>\n",
       "      <td>0.0</td>\n",
       "      <td>0.0</td>\n",
       "      <td>0.0</td>\n",
       "      <td>0.0</td>\n",
       "      <td>0.0</td>\n",
       "      <td>6601.0</td>\n",
       "      <td>16986.0</td>\n",
       "      <td>17794.0</td>\n",
       "      <td>18076.0</td>\n",
       "      <td>17645.0</td>\n",
       "      <td>15420.400000</td>\n",
       "    </tr>\n",
       "    <tr>\n",
       "      <th>347</th>\n",
       "      <td>1496</td>\n",
       "      <td>smart</td>\n",
       "      <td>1</td>\n",
       "      <td>3766.0</td>\n",
       "      <td>28523.0</td>\n",
       "      <td>24990.0</td>\n",
       "      <td>21098.0</td>\n",
       "      <td>23740.0</td>\n",
       "      <td>20163.0</td>\n",
       "      <td>24395.0</td>\n",
       "      <td>23560.0</td>\n",
       "      <td>26970.0</td>\n",
       "      <td>28215.0</td>\n",
       "      <td>25092.0</td>\n",
       "      <td>20757.0</td>\n",
       "      <td>22605.750000</td>\n",
       "    </tr>\n",
       "    <tr>\n",
       "      <th>348</th>\n",
       "      <td>1497</td>\n",
       "      <td>smart</td>\n",
       "      <td>10</td>\n",
       "      <td>0.0</td>\n",
       "      <td>0.0</td>\n",
       "      <td>0.0</td>\n",
       "      <td>0.0</td>\n",
       "      <td>0.0</td>\n",
       "      <td>0.0</td>\n",
       "      <td>0.0</td>\n",
       "      <td>0.0</td>\n",
       "      <td>0.0</td>\n",
       "      <td>11512.0</td>\n",
       "      <td>14174.0</td>\n",
       "      <td>19940.0</td>\n",
       "      <td>15208.666667</td>\n",
       "    </tr>\n",
       "    <tr>\n",
       "      <th>349</th>\n",
       "      <td>1498</td>\n",
       "      <td>smart</td>\n",
       "      <td>7</td>\n",
       "      <td>0.0</td>\n",
       "      <td>0.0</td>\n",
       "      <td>0.0</td>\n",
       "      <td>0.0</td>\n",
       "      <td>0.0</td>\n",
       "      <td>0.0</td>\n",
       "      <td>7486.0</td>\n",
       "      <td>24270.0</td>\n",
       "      <td>22166.0</td>\n",
       "      <td>20604.0</td>\n",
       "      <td>0.0</td>\n",
       "      <td>0.0</td>\n",
       "      <td>12421.000000</td>\n",
       "    </tr>\n",
       "    <tr>\n",
       "      <th>350</th>\n",
       "      <td>1499</td>\n",
       "      <td>smart</td>\n",
       "      <td>9</td>\n",
       "      <td>0.0</td>\n",
       "      <td>0.0</td>\n",
       "      <td>0.0</td>\n",
       "      <td>0.0</td>\n",
       "      <td>0.0</td>\n",
       "      <td>0.0</td>\n",
       "      <td>0.0</td>\n",
       "      <td>0.0</td>\n",
       "      <td>1848.0</td>\n",
       "      <td>17809.0</td>\n",
       "      <td>17984.0</td>\n",
       "      <td>13077.0</td>\n",
       "      <td>12679.500000</td>\n",
       "    </tr>\n",
       "  </tbody>\n",
       "</table>\n",
       "<p>351 rows × 16 columns</p>\n",
       "</div>"
      ],
      "text/plain": [
       "     user_id tariff_name  month_reg       1        2        3        4  \\\n",
       "0       1001       smart         11     0.0      0.0      0.0      0.0   \n",
       "1       1002       smart          6     0.0      0.0      0.0      0.0   \n",
       "2       1005       smart          1  2730.0   7394.0  11117.0   9365.0   \n",
       "3       1006       smart          2     0.0   1395.0  17309.0  13954.0   \n",
       "4       1007       smart          4     0.0      0.0      0.0   8031.0   \n",
       "..       ...         ...        ...     ...      ...      ...      ...   \n",
       "346     1494       smart          8     0.0      0.0      0.0      0.0   \n",
       "347     1496       smart          1  3766.0  28523.0  24990.0  21098.0   \n",
       "348     1497       smart         10     0.0      0.0      0.0      0.0   \n",
       "349     1498       smart          7     0.0      0.0      0.0      0.0   \n",
       "350     1499       smart          9     0.0      0.0      0.0      0.0   \n",
       "\n",
       "           5        6        7        8        9       10       11       12  \\\n",
       "0        0.0      0.0      0.0      0.0      0.0      0.0  18452.0  14053.0   \n",
       "1        0.0  10871.0  17601.0  20347.0  16712.0  13905.0  18610.0  18137.0   \n",
       "2     7877.0   9875.0   7703.0   7554.0   7027.0   7809.0  12682.0   8680.0   \n",
       "3    12984.0  12388.0  20000.0  19327.0  15543.0  19722.0  13275.0  18498.0   \n",
       "4    17708.0  13674.0  15680.0  20723.0  12630.0  14444.0  16390.0  12512.0   \n",
       "..       ...      ...      ...      ...      ...      ...      ...      ...   \n",
       "346      0.0      0.0      0.0   6601.0  16986.0  17794.0  18076.0  17645.0   \n",
       "347  23740.0  20163.0  24395.0  23560.0  26970.0  28215.0  25092.0  20757.0   \n",
       "348      0.0      0.0      0.0      0.0      0.0  11512.0  14174.0  19940.0   \n",
       "349      0.0      0.0   7486.0  24270.0  22166.0  20604.0      0.0      0.0   \n",
       "350      0.0      0.0      0.0      0.0   1848.0  17809.0  17984.0  13077.0   \n",
       "\n",
       "             mean  \n",
       "0    16252.500000  \n",
       "1    16597.571429  \n",
       "2     8317.750000  \n",
       "3    14945.000000  \n",
       "4    14643.555556  \n",
       "..            ...  \n",
       "346  15420.400000  \n",
       "347  22605.750000  \n",
       "348  15208.666667  \n",
       "349  12421.000000  \n",
       "350  12679.500000  \n",
       "\n",
       "[351 rows x 16 columns]"
      ]
     },
     "execution_count": 38,
     "metadata": {},
     "output_type": "execute_result"
    },
    {
     "data": {
      "image/png": "[encoded data removed]",
      "text/plain": [
       "<Figure size 720x720 with 1 Axes>"
      ]
     },
     "metadata": {
      "needs_background": "light"
     },
     "output_type": "display_data"
    }
   ],
   "source": [
    "# посмотрим на гистограмму поближе\n",
    "smart_users_internet.plot(y = 'mean', kind = 'hist', bins = 30, grid=True, figsize = (10,10), range = (0,30000))\n",
    "smart_users_internet"
   ]
  },
  {
   "cell_type": "markdown",
   "metadata": {},
   "source": [
    "Видны нкоторые всплески значений, а также выбросы в меньшую и большую сторону гистограммы, при этом распределение близко к нормальному"
   ]
  },
  {
   "cell_type": "code",
   "execution_count": 39,
   "metadata": {},
   "outputs": [
    {
     "name": "stdout",
     "output_type": "stream",
     "text": [
      "Статистический анализ тарифа Смарт:\n",
      "\n",
      "Средняя длительность звонков: user_id      1244.133903\n",
      "month_reg       6.581197\n",
      "1              19.746439\n",
      "2              49.356125\n",
      "3              85.566952\n",
      "4             117.148148\n",
      "5             155.606838\n",
      "6             184.857550\n",
      "7             233.843305\n",
      "8             282.179487\n",
      "9             317.490028\n",
      "10            356.934473\n",
      "11            391.863248\n",
      "12            459.472934\n",
      "mean          415.784481\n",
      "dtype: float64\n",
      "Среднее количество сообщений: user_id      1244.133903\n",
      "month_reg       6.581197\n",
      "1               1.766382\n",
      "2               3.980057\n",
      "3               6.988604\n",
      "4               9.809117\n",
      "5              13.566952\n",
      "6              15.606838\n",
      "7              19.327635\n",
      "8              22.521368\n",
      "9              24.917379\n",
      "10             28.282051\n",
      "11             30.678063\n",
      "12             34.558405\n",
      "mean           32.012986\n",
      "dtype: float64\n",
      "Средний объем интернет-трафика: user_id       1244.133903\n",
      "month_reg        6.581197\n",
      "1              825.729345\n",
      "2             1918.692308\n",
      "3             3317.769231\n",
      "4             4301.145299\n",
      "5             6357.131054\n",
      "6             7389.236467\n",
      "7             9026.968661\n",
      "8            11135.501425\n",
      "9            12092.242165\n",
      "10           14053.840456\n",
      "11           15230.598291\n",
      "12           17413.427350\n",
      "mean         16029.541362\n",
      "dtype: float64\n",
      "Дисперсия: user_id       1244.133903\n",
      "month_reg        6.581197\n",
      "1              825.729345\n",
      "2             1918.692308\n",
      "3             3317.769231\n",
      "4             4301.145299\n",
      "5             6357.131054\n",
      "6             7389.236467\n",
      "7             9026.968661\n",
      "8            11135.501425\n",
      "9            12092.242165\n",
      "10           14053.840456\n",
      "11           15230.598291\n",
      "12           17413.427350\n",
      "mean         16029.541362\n",
      "dtype: float64\n"
     ]
    }
   ],
   "source": [
    "print(\"Статистический анализ тарифа Смарт:\\n\")\n",
    "\n",
    "print(f\"Средняя длительность звонков: {smart_users_calls.mean()}\")\n",
    "print(f\"Среднее количество сообщений: {smart_users_messages.mean()}\")\n",
    "print(f\"Средний объем интернет-трафика: {smart_users_internet.mean()}\")\n",
    "print(f\"Дисперсия: {smart_users_internet.mean()}\")\n",
    "#print(f\"Средний объем интернет-трафика: {smart_users_internet.mean()}\")\n",
    "#print(f\"Средний объем интернет-трафика: {smart_users_internet.mean()}\")\n"
   ]
  },
  {
   "cell_type": "markdown",
   "metadata": {},
   "source": [
    "Выводы для тарифа **Смарт**\n",
    "<br />  В среднем, пользователям необходимо 400 минут для разговоров, 32 сообщения и 16000 мб интернет-трафика (примерно 15.6 Гб). Исходя из доступных услуг в тарифе, клиентам компании не хватает интернета на месяц."
   ]
  },
  {
   "cell_type": "markdown",
   "metadata": {},
   "source": [
    "#### Анализ тарифа Ультра"
   ]
  },
  {
   "cell_type": "code",
   "execution_count": 40,
   "metadata": {},
   "outputs": [
    {
     "name": "stdout",
     "output_type": "stream",
     "text": [
      "Среднее: 518.0 \n",
      "Дисперсия: 82933.2 \n",
      "Стандартное отклонение: 288.0\n"
     ]
    },
    {
     "data": {
      "image/png": "[encoded data removed]",
      "text/plain": [
       "<Figure size 1080x576 with 3 Axes>"
      ]
     },
     "metadata": {
      "needs_background": "light"
     },
     "output_type": "display_data"
    }
   ],
   "source": [
    "user_stat(ultra_users_calls, 'mean')\n",
    "user_plot(ultra_users_calls, 'mean')\n",
    "warnings.filterwarnings('ignore')"
   ]
  },
  {
   "cell_type": "markdown",
   "metadata": {},
   "source": [
    "Для звонков пользователей тарифа Ультра характерна следующая картина: практически все значения находятся в пределах от 250 до 750 минут, при этом нет крайне низких или высоких значений. Стандратное отклонение, равное 288 говорит о возможном разбросе случайной величины от математического ожидания длительности звонков. По гистограмме можно сделать предварительный вывод, что распределение **нормальное**"
   ]
  },
  {
   "cell_type": "code",
   "execution_count": 41,
   "metadata": {},
   "outputs": [
    {
     "name": "stdout",
     "output_type": "stream",
     "text": [
      "Statistics=0.98, p-value=0.06\n",
      "Принять гипотезу о нормальности\n"
     ]
    }
   ],
   "source": [
    "stat, p = scipy.stats.shapiro(ultra_users_calls['mean']) # тест Шапиро-Уилка\n",
    "print('Statistics=%.2f, p-value=%.2f' % (stat, p))\n",
    "\n",
    "alpha = 0.05\n",
    "if p > alpha:\n",
    "    print('Принять гипотезу о нормальности')\n",
    "else:\n",
    "    print('Отклонить гипотезу о нормальности')"
   ]
  },
  {
   "cell_type": "code",
   "execution_count": 42,
   "metadata": {},
   "outputs": [
    {
     "name": "stdout",
     "output_type": "stream",
     "text": [
      "Среднее: 53.1 \n",
      "Дисперсия: 2161.2 \n",
      "Стандартное отклонение: 46.5\n"
     ]
    },
    {
     "data": {
      "image/png": "[encoded data removed]",
      "text/plain": [
       "<Figure size 1080x576 with 3 Axes>"
      ]
     },
     "metadata": {
      "needs_background": "light"
     },
     "output_type": "display_data"
    }
   ],
   "source": [
    "user_stat(ultra_users_messages, 'mean')\n",
    "user_plot(ultra_users_messages, 'mean')\n",
    "warnings.filterwarnings('ignore')"
   ]
  },
  {
   "cell_type": "markdown",
   "metadata": {},
   "source": [
    "Ситуация с сообщениями, входящими в тариф Ультра схожа с тарифом Смарт: большинство пользователей отправляют до 40 сообщений в месяц. Есть крайне высокое значение - 180-190 сообщений, возможно, это используется для коммерческих целей (рассылка)"
   ]
  },
  {
   "cell_type": "code",
   "execution_count": 43,
   "metadata": {},
   "outputs": [
    {
     "name": "stdout",
     "output_type": "stream",
     "text": [
      "Среднее: 19152.8 \n",
      "Дисперсия: 71946841.9 \n",
      "Стандартное отклонение: 8482.1\n"
     ]
    },
    {
     "data": {
      "image/png": "[encoded data removed]",
      "text/plain": [
       "<Figure size 1080x576 with 3 Axes>"
      ]
     },
     "metadata": {
      "needs_background": "light"
     },
     "output_type": "display_data"
    }
   ],
   "source": [
    "user_stat(ultra_users_internet, 'mean')\n",
    "user_plot(ultra_users_internet, 'mean')\n",
    "warnings.filterwarnings('ignore')"
   ]
  },
  {
   "cell_type": "markdown",
   "metadata": {},
   "source": [
    "Для пользователей тарифа ультра не характерно использование трафика сверх тарифа (30 Гб). Стандартное отклонение равное ~ 8 Гб говорит о разбросе значений относительно среднего на полученную величину. Распределение нормальное"
   ]
  },
  {
   "cell_type": "code",
   "execution_count": 44,
   "metadata": {},
   "outputs": [
    {
     "data": {
      "text/plain": [
       "<AxesSubplot:ylabel='Frequency'>"
      ]
     },
     "execution_count": 44,
     "metadata": {},
     "output_type": "execute_result"
    },
    {
     "data": {
      "image/png": "[encoded data removed]",
      "text/plain": [
       "<Figure size 720x720 with 1 Axes>"
      ]
     },
     "metadata": {
      "needs_background": "light"
     },
     "output_type": "display_data"
    }
   ],
   "source": [
    "# посмотрим на гистограмму поближе\n",
    "ultra_users_internet.plot(y = 'mean', kind = 'hist', bins = 30, grid=True, figsize = (10,10), range = (0,30000))\n"
   ]
  },
  {
   "cell_type": "code",
   "execution_count": 45,
   "metadata": {},
   "outputs": [
    {
     "name": "stdout",
     "output_type": "stream",
     "text": [
      "Statistics=0.99, p-value=0.34\n",
      "Принять гипотезу о нормальности\n"
     ]
    }
   ],
   "source": [
    "stat, p = scipy.stats.shapiro(ultra_users_internet['mean']) # тест Шапиро-Уилка\n",
    "print('Statistics=%.2f, p-value=%.2f' % (stat, p))\n",
    "\n",
    "alpha = 0.05\n",
    "if p > alpha:\n",
    "    print('Принять гипотезу о нормальности')\n",
    "else:\n",
    "    print('Отклонить гипотезу о нормальности')"
   ]
  },
  {
   "cell_type": "markdown",
   "metadata": {},
   "source": [
    "По гистограмме получена не совсем очевидная картина: присутствует несколько \"гистограмм\" внутри одной (несколько вершин), но рапсределение нормальное по тесту Шапиро-Уилка: р-значение сильно больше заданного уровня значимости"
   ]
  },
  {
   "cell_type": "code",
   "execution_count": 46,
   "metadata": {},
   "outputs": [
    {
     "name": "stdout",
     "output_type": "stream",
     "text": [
      "Статистический анализ тарифа Ультра:\n",
      "\n",
      "Средняя длительность звонков: user_id      1262.140940\n",
      "month_reg       6.248322\n",
      "1              25.859060\n",
      "2              47.859060\n",
      "3             121.590604\n",
      "4             169.067114\n",
      "5             229.476510\n",
      "6             270.436242\n",
      "7             333.335570\n",
      "8             366.798658\n",
      "9             416.348993\n",
      "10            460.697987\n",
      "11            486.879195\n",
      "12            553.020134\n",
      "mean          518.012821\n",
      "dtype: float64\n",
      "Среднее количество сообщений: user_id      1262.140940\n",
      "month_reg       6.248322\n",
      "1               2.040268\n",
      "2               3.536913\n",
      "3               8.020134\n",
      "4              11.651007\n",
      "5              17.020134\n",
      "6              23.523490\n",
      "7              30.442953\n",
      "8              34.785235\n",
      "9              40.355705\n",
      "10             48.234899\n",
      "11             50.174497\n",
      "12             56.543624\n",
      "mean           53.147225\n",
      "dtype: float64\n",
      "Средний объем интернет-трафика: user_id       1262.140940\n",
      "month_reg        6.248322\n",
      "1              794.510067\n",
      "2             1898.570470\n",
      "3             4358.543624\n",
      "4             6217.510067\n",
      "5             8715.033557\n",
      "6            10678.845638\n",
      "7            12529.080537\n",
      "8            14070.906040\n",
      "9            14835.932886\n",
      "10           16562.791946\n",
      "11           17811.489933\n",
      "12           20349.590604\n",
      "mean         19152.798869\n",
      "dtype: float64\n",
      "Дисперсия: user_id       1262.140940\n",
      "month_reg        6.248322\n",
      "1              794.510067\n",
      "2             1898.570470\n",
      "3             4358.543624\n",
      "4             6217.510067\n",
      "5             8715.033557\n",
      "6            10678.845638\n",
      "7            12529.080537\n",
      "8            14070.906040\n",
      "9            14835.932886\n",
      "10           16562.791946\n",
      "11           17811.489933\n",
      "12           20349.590604\n",
      "mean         19152.798869\n",
      "dtype: float64\n"
     ]
    }
   ],
   "source": [
    "print(\"Статистический анализ тарифа Ультра:\\n\")\n",
    "\n",
    "print(f\"Средняя длительность звонков: {ultra_users_calls.mean()}\")\n",
    "print(f\"Среднее количество сообщений: {ultra_users_messages.mean()}\")\n",
    "print(f\"Средний объем интернет-трафика: {ultra_users_internet.mean()}\")\n",
    "print(f\"Дисперсия: {ultra_users_internet.mean()}\")\n",
    "#print(f\"Средний объем интернет-трафика: {smart_users_internet.mean()}\")\n",
    "#print(f\"Средний объем интернет-трафика: {smart_users_internet.mean()}\")\n"
   ]
  },
  {
   "cell_type": "markdown",
   "metadata": {},
   "source": [
    "Выводы для тарифа **Ультра**\n",
    "<br />  В среднем, пользователям необходимо более 500 минут для разговоров, около 50 сообщений и 19000 мб интернет-трафика (примерно 18.7 Гб). Исходя из доступных услуг в тарифе, обычный пользователь укладывается в заданные границы тарифа"
   ]
  },
  {
   "cell_type": "markdown",
   "metadata": {},
   "source": [
    "### Проверка гипотез"
   ]
  },
  {
   "cell_type": "markdown",
   "metadata": {},
   "source": [
    "#### Средняя выручка пользователей тарифов «Ультра» и «Смарт» различается"
   ]
  },
  {
   "cell_type": "markdown",
   "metadata": {},
   "source": [
    "Для проверки первой гипотезы нужно выдвинуть нулевую и альтернативную гипотезы: Н0 - среднее генеральной совокупности тарифа Смарт равна среднему тарифа Ультра. Альтернативная: Н1 - средние не равны. Проверяется двусторонняя гипотеза с помощью t-теста библиотеки Scipy"
   ]
  },
  {
   "cell_type": "code",
   "execution_count": 47,
   "metadata": {},
   "outputs": [],
   "source": [
    "smart_total['mean'] = sum(smart_total[str(i) +'_total'] for i in range(1, 13)) / (13 - smart_total['month_reg'])\n",
    "ultra_total['mean'] = sum(ultra_total[str(i) +'_total'] for i in range(1, 13)) / (13 - ultra_total['month_reg'])\n",
    "#ultra_total.isna().sum()"
   ]
  },
  {
   "cell_type": "code",
   "execution_count": 48,
   "metadata": {
    "scrolled": false
   },
   "outputs": [
    {
     "name": "stdout",
     "output_type": "stream",
     "text": [
      "средняя выручка тарифа Смарт: 1260.8891801614022\n",
      "средняя выручка тарифа Ультра: 2072.1497728967524\n",
      "p-значение: 1.6367689060041835e-70\n",
      "Отвергаем нулевую гипотезу\n"
     ]
    }
   ],
   "source": [
    "from scipy import stats as st\n",
    "\n",
    "alpha = .01 #  уровень статистической значимости\n",
    "\n",
    "results = st.ttest_ind(smart_total['mean'], ultra_total['mean'], equal_var = False)\n",
    "\n",
    "print('средняя выручка тарифа Смарт:', smart_total['mean'].mean())\n",
    "print('средняя выручка тарифа Ультра:', ultra_total['mean'].mean())\n",
    "print('p-значение:', results.pvalue)\n",
    "\n",
    "if (results.pvalue < alpha):\n",
    "    print(\"Отвергаем нулевую гипотезу\")\n",
    "else:\n",
    "    print(\"Не отвергаем нулевую гипотезу\")"
   ]
  },
  {
   "cell_type": "markdown",
   "metadata": {},
   "source": [
    "Выручки по двум тарифам сильно разнятся: в среднем, на 700 рублей в месяц. Отклонить гипотезу о равенстве двух генеральных средних позволил т-тест со значением 0.05 статистической значимости. Полученное значение вероятности во много раз меньше этого уровня: с вероятностью 99% можно утверждать, что выручка тарифа Смарт почти в два раза меньше выручк"
   ]
  },
  {
   "cell_type": "markdown",
   "metadata": {},
   "source": [
    "<div class=\"alert alert-info\"> <b> p-value - уровень значимости, это вероятность отвергнуть нулевую гипотезу, если она верна на самом деле</div>"
   ]
  },
  {
   "cell_type": "markdown",
   "metadata": {},
   "source": [
    "#### Средняя выручка пользователей из Москвы отличается от выручки пользователей из других регионов"
   ]
  },
  {
   "cell_type": "code",
   "execution_count": 49,
   "metadata": {},
   "outputs": [
    {
     "data": {
      "text/html": [
       "<div>\n",
       "<style scoped>\n",
       "    .dataframe tbody tr th:only-of-type {\n",
       "        vertical-align: middle;\n",
       "    }\n",
       "\n",
       "    .dataframe tbody tr th {\n",
       "        vertical-align: top;\n",
       "    }\n",
       "\n",
       "    .dataframe thead th {\n",
       "        text-align: right;\n",
       "    }\n",
       "</style>\n",
       "<table border=\"1\" class=\"dataframe\">\n",
       "  <thead>\n",
       "    <tr style=\"text-align: right;\">\n",
       "      <th></th>\n",
       "      <th>user_id</th>\n",
       "      <th>city</th>\n",
       "      <th>tariff_name</th>\n",
       "      <th>mean_x</th>\n",
       "      <th>mean_y</th>\n",
       "      <th>mean</th>\n",
       "    </tr>\n",
       "  </thead>\n",
       "  <tbody>\n",
       "    <tr>\n",
       "      <th>0</th>\n",
       "      <td>1000</td>\n",
       "      <td>Краснодар</td>\n",
       "      <td>ultra</td>\n",
       "      <td>0.000000</td>\n",
       "      <td>1950.0</td>\n",
       "      <td>1950.000000</td>\n",
       "    </tr>\n",
       "    <tr>\n",
       "      <th>1</th>\n",
       "      <td>1001</td>\n",
       "      <td>Москва</td>\n",
       "      <td>smart</td>\n",
       "      <td>851.500000</td>\n",
       "      <td>0.0</td>\n",
       "      <td>851.500000</td>\n",
       "    </tr>\n",
       "    <tr>\n",
       "      <th>2</th>\n",
       "      <td>1002</td>\n",
       "      <td>Стерлитамак</td>\n",
       "      <td>smart</td>\n",
       "      <td>957.285714</td>\n",
       "      <td>0.0</td>\n",
       "      <td>957.285714</td>\n",
       "    </tr>\n",
       "    <tr>\n",
       "      <th>3</th>\n",
       "      <td>1003</td>\n",
       "      <td>Москва</td>\n",
       "      <td>ultra</td>\n",
       "      <td>0.000000</td>\n",
       "      <td>1950.0</td>\n",
       "      <td>1950.000000</td>\n",
       "    </tr>\n",
       "    <tr>\n",
       "      <th>4</th>\n",
       "      <td>1004</td>\n",
       "      <td>Новокузнецк</td>\n",
       "      <td>ultra</td>\n",
       "      <td>0.000000</td>\n",
       "      <td>1950.0</td>\n",
       "      <td>1950.000000</td>\n",
       "    </tr>\n",
       "  </tbody>\n",
       "</table>\n",
       "</div>"
      ],
      "text/plain": [
       "   user_id         city tariff_name      mean_x  mean_y         mean\n",
       "0     1000    Краснодар       ultra    0.000000  1950.0  1950.000000\n",
       "1     1001       Москва       smart  851.500000     0.0   851.500000\n",
       "2     1002  Стерлитамак       smart  957.285714     0.0   957.285714\n",
       "3     1003       Москва       ultra    0.000000  1950.0  1950.000000\n",
       "4     1004  Новокузнецк       ultra    0.000000  1950.0  1950.000000"
      ]
     },
     "execution_count": 49,
     "metadata": {},
     "output_type": "execute_result"
    }
   ],
   "source": [
    "#smart_total.merge(users, how='left', on='user_id')\n",
    "#ultra_total.merge(users, how='left', on='user_id')\n",
    "#smart_total.merge(ultra_total, how='outer', on='user_id')\n",
    "\n",
    "users_city = users.loc[:, ['user_id', 'city', 'tariff_name']]\n",
    "\n",
    "\n",
    "smart_total_mean = smart_total.loc[:, ['user_id', 'mean']]\n",
    "ultra_total_mean = ultra_total.loc[:, ['user_id', 'mean']]\n",
    "total_mean =  (users_city.merge(smart_total_mean, on='user_id', how='left')\n",
    "                            .merge(ultra_total_mean, on='user_id', how='left')\n",
    "              ).fillna(0)\n",
    "total_mean['mean'] = total_mean['mean_x'] + total_mean['mean_y']\n",
    "total_mean.head()\n"
   ]
  },
  {
   "cell_type": "markdown",
   "metadata": {},
   "source": [
    "Объединила таблицы по пользователям в одну, добавив при этом столбец с названием города из дф users, теперь нужно сделать срез по городу и проверить гипотезу"
   ]
  },
  {
   "cell_type": "code",
   "execution_count": 50,
   "metadata": {},
   "outputs": [
    {
     "data": {
      "text/html": [
       "<div>\n",
       "<style scoped>\n",
       "    .dataframe tbody tr th:only-of-type {\n",
       "        vertical-align: middle;\n",
       "    }\n",
       "\n",
       "    .dataframe tbody tr th {\n",
       "        vertical-align: top;\n",
       "    }\n",
       "\n",
       "    .dataframe thead th {\n",
       "        text-align: right;\n",
       "    }\n",
       "</style>\n",
       "<table border=\"1\" class=\"dataframe\">\n",
       "  <thead>\n",
       "    <tr style=\"text-align: right;\">\n",
       "      <th></th>\n",
       "      <th>user_id</th>\n",
       "      <th>city</th>\n",
       "      <th>tariff_name</th>\n",
       "      <th>mean_x</th>\n",
       "      <th>mean_y</th>\n",
       "      <th>mean</th>\n",
       "    </tr>\n",
       "  </thead>\n",
       "  <tbody>\n",
       "    <tr>\n",
       "      <th>1</th>\n",
       "      <td>1001</td>\n",
       "      <td>Москва</td>\n",
       "      <td>smart</td>\n",
       "      <td>851.500000</td>\n",
       "      <td>0.0</td>\n",
       "      <td>851.500000</td>\n",
       "    </tr>\n",
       "    <tr>\n",
       "      <th>3</th>\n",
       "      <td>1003</td>\n",
       "      <td>Москва</td>\n",
       "      <td>ultra</td>\n",
       "      <td>0.000000</td>\n",
       "      <td>1950.0</td>\n",
       "      <td>1950.000000</td>\n",
       "    </tr>\n",
       "    <tr>\n",
       "      <th>7</th>\n",
       "      <td>1007</td>\n",
       "      <td>Москва</td>\n",
       "      <td>smart</td>\n",
       "      <td>865.444444</td>\n",
       "      <td>0.0</td>\n",
       "      <td>865.444444</td>\n",
       "    </tr>\n",
       "    <tr>\n",
       "      <th>31</th>\n",
       "      <td>1031</td>\n",
       "      <td>Москва</td>\n",
       "      <td>smart</td>\n",
       "      <td>890.500000</td>\n",
       "      <td>0.0</td>\n",
       "      <td>890.500000</td>\n",
       "    </tr>\n",
       "    <tr>\n",
       "      <th>33</th>\n",
       "      <td>1033</td>\n",
       "      <td>Москва</td>\n",
       "      <td>smart</td>\n",
       "      <td>1822.333333</td>\n",
       "      <td>0.0</td>\n",
       "      <td>1822.333333</td>\n",
       "    </tr>\n",
       "    <tr>\n",
       "      <th>...</th>\n",
       "      <td>...</td>\n",
       "      <td>...</td>\n",
       "      <td>...</td>\n",
       "      <td>...</td>\n",
       "      <td>...</td>\n",
       "      <td>...</td>\n",
       "    </tr>\n",
       "    <tr>\n",
       "      <th>453</th>\n",
       "      <td>1453</td>\n",
       "      <td>Москва</td>\n",
       "      <td>ultra</td>\n",
       "      <td>0.000000</td>\n",
       "      <td>1950.0</td>\n",
       "      <td>1950.000000</td>\n",
       "    </tr>\n",
       "    <tr>\n",
       "      <th>461</th>\n",
       "      <td>1461</td>\n",
       "      <td>Москва</td>\n",
       "      <td>ultra</td>\n",
       "      <td>0.000000</td>\n",
       "      <td>1950.0</td>\n",
       "      <td>1950.000000</td>\n",
       "    </tr>\n",
       "    <tr>\n",
       "      <th>476</th>\n",
       "      <td>1476</td>\n",
       "      <td>Москва</td>\n",
       "      <td>ultra</td>\n",
       "      <td>0.000000</td>\n",
       "      <td>1950.0</td>\n",
       "      <td>1950.000000</td>\n",
       "    </tr>\n",
       "    <tr>\n",
       "      <th>481</th>\n",
       "      <td>1481</td>\n",
       "      <td>Москва</td>\n",
       "      <td>smart</td>\n",
       "      <td>1096.727273</td>\n",
       "      <td>0.0</td>\n",
       "      <td>1096.727273</td>\n",
       "    </tr>\n",
       "    <tr>\n",
       "      <th>490</th>\n",
       "      <td>1490</td>\n",
       "      <td>Москва</td>\n",
       "      <td>smart</td>\n",
       "      <td>1015.000000</td>\n",
       "      <td>0.0</td>\n",
       "      <td>1015.000000</td>\n",
       "    </tr>\n",
       "  </tbody>\n",
       "</table>\n",
       "<p>99 rows × 6 columns</p>\n",
       "</div>"
      ],
      "text/plain": [
       "     user_id    city tariff_name       mean_x  mean_y         mean\n",
       "1       1001  Москва       smart   851.500000     0.0   851.500000\n",
       "3       1003  Москва       ultra     0.000000  1950.0  1950.000000\n",
       "7       1007  Москва       smart   865.444444     0.0   865.444444\n",
       "31      1031  Москва       smart   890.500000     0.0   890.500000\n",
       "33      1033  Москва       smart  1822.333333     0.0  1822.333333\n",
       "..       ...     ...         ...          ...     ...          ...\n",
       "453     1453  Москва       ultra     0.000000  1950.0  1950.000000\n",
       "461     1461  Москва       ultra     0.000000  1950.0  1950.000000\n",
       "476     1476  Москва       ultra     0.000000  1950.0  1950.000000\n",
       "481     1481  Москва       smart  1096.727273     0.0  1096.727273\n",
       "490     1490  Москва       smart  1015.000000     0.0  1015.000000\n",
       "\n",
       "[99 rows x 6 columns]"
      ]
     },
     "execution_count": 50,
     "metadata": {},
     "output_type": "execute_result"
    }
   ],
   "source": [
    "moscow_users = total_mean.query('city == \"Москва\"')\n",
    "other_users = total_mean.query('city != \"Москва\"')\n",
    "moscow_users"
   ]
  },
  {
   "cell_type": "markdown",
   "metadata": {},
   "source": [
    "Пользователи из Москвы занимают около 20% всей выборки"
   ]
  },
  {
   "cell_type": "markdown",
   "metadata": {},
   "source": [
    "Нулевая гипотеза: средняя выручка пользователей из Москвы отличается от выручки пользователей остальных регионов "
   ]
  },
  {
   "cell_type": "code",
   "execution_count": 51,
   "metadata": {
    "scrolled": true
   },
   "outputs": [
    {
     "name": "stdout",
     "output_type": "stream",
     "text": [
      "средняя выручка пользователей из Москвы: 1458.1572569125601\n",
      "средняя выручка пользователей других регионов: 1513.6280547728802\n",
      "p-значение: 0.4213369069965208\n",
      "Не отвергаем нулевую гипотезу\n"
     ]
    }
   ],
   "source": [
    "alpha = .05 \n",
    "results = st.ttest_ind(moscow_users['mean'], other_users['mean'], equal_var = False)\n",
    "\n",
    "print('средняя выручка пользователей из Москвы:', moscow_users['mean'].mean())\n",
    "print('средняя выручка пользователей других регионов:', other_users['mean'].mean())\n",
    "print('p-значение:', results.pvalue)\n",
    "\n",
    "if (results.pvalue < alpha):\n",
    "    print(\"Отвергаем нулевую гипотезу\")\n",
    "else:\n",
    "    print(\"Не отвергаем нулевую гипотезу\")"
   ]
  },
  {
   "cell_type": "markdown",
   "metadata": {},
   "source": [
    "По результатам статистического теста Стьюдента можно сказать, что средняя выручка пользователей из Москвы не отличается от остальных городов, при этом важно учитывать количество этих пользователей в выборке: всего одна пятая. "
   ]
  },
  {
   "cell_type": "markdown",
   "metadata": {},
   "source": [
    "###  Общие выводы"
   ]
  },
  {
   "cell_type": "markdown",
   "metadata": {},
   "source": [
    "Для решения проекта по изучению перспективного тарифа для телеком-компании было выполнено:\n",
    "1. Предобработка: замена типов данных там, где это было необходимо, добавлены новые столбцы для более глубого изучения данных\n",
    "2. Изучение тарифов: посчитаны значения для каждого клиента по совершенным звонкам, сообщениям и использовании интернета\n",
    "3. Изучена выручка компании по каждому из тарифов\n",
    "4. Анализ тарифов по статистическим показателям: среднее, дисперсия, среднеквадратическое отклонение\n",
    "5. Проверены гипотезы о различии выручек по тарифам, а также о равенстве выручки с москвы и других городов\n",
    "\n",
    "Проект по определению перспективного тарифа для телеком-компании завершен. Оказалось, что для компании почти в два раза выгоднее тариф Ультра, но большая половина пользователей не расходует включенные в тариф минуты/сообщения/интернет-трафик. Я бы предложила оптимизировать пакеты услуг для обоих тарифов.\n",
    "\n",
    "Проверка гипотез осуществлена с помощью т-теста Стьюдента, так как данные в выборке распределены по нормальному закону. Действительно, средняя выручка по тарифам сильно различается, а вот выручка пользователей из Москвы почти такая же, как от пользователей других городов\n"
   ]
  },
  {
   "cell_type": "code",
   "execution_count": null,
   "metadata": {},
   "outputs": [],
   "source": []
  }
 ],
 "metadata": {
  "ExecuteTimeLog": [
   {
    "duration": 4,
    "start_time": "2022-06-28T11:24:06.694Z"
   },
   {
    "duration": 1335,
    "start_time": "2022-06-28T11:31:58.719Z"
   },
   {
    "duration": 225,
    "start_time": "2022-06-28T11:32:42.926Z"
   },
   {
    "duration": 647,
    "start_time": "2022-06-28T13:19:29.276Z"
   },
   {
    "duration": 23,
    "start_time": "2022-06-28T13:25:27.986Z"
   },
   {
    "duration": 42,
    "start_time": "2022-06-28T13:25:36.346Z"
   },
   {
    "duration": 61,
    "start_time": "2022-06-28T13:25:46.721Z"
   },
   {
    "duration": 62,
    "start_time": "2022-06-28T13:26:16.880Z"
   },
   {
    "duration": 43,
    "start_time": "2022-06-28T13:28:14.579Z"
   },
   {
    "duration": 18,
    "start_time": "2022-06-28T13:29:31.998Z"
   },
   {
    "duration": 18,
    "start_time": "2022-06-28T13:33:04.368Z"
   },
   {
    "duration": 416,
    "start_time": "2022-06-28T13:35:22.965Z"
   },
   {
    "duration": 72,
    "start_time": "2022-06-28T13:35:26.266Z"
   },
   {
    "duration": 21,
    "start_time": "2022-06-28T13:35:28.766Z"
   },
   {
    "duration": 34,
    "start_time": "2022-06-28T13:41:59.272Z"
   },
   {
    "duration": 18,
    "start_time": "2022-06-28T13:43:13.097Z"
   },
   {
    "duration": 30,
    "start_time": "2022-06-28T13:43:27.048Z"
   },
   {
    "duration": 16,
    "start_time": "2022-06-28T13:44:48.193Z"
   },
   {
    "duration": 21,
    "start_time": "2022-06-28T13:45:00.905Z"
   },
   {
    "duration": 36,
    "start_time": "2022-06-28T13:45:48.444Z"
   },
   {
    "duration": 3,
    "start_time": "2022-06-28T13:46:38.943Z"
   },
   {
    "duration": 357,
    "start_time": "2022-06-28T13:46:40.472Z"
   },
   {
    "duration": 69,
    "start_time": "2022-06-28T13:46:42.729Z"
   },
   {
    "duration": 19,
    "start_time": "2022-06-28T13:46:44.271Z"
   },
   {
    "duration": 124,
    "start_time": "2022-06-28T13:47:33.413Z"
   },
   {
    "duration": 98,
    "start_time": "2022-06-28T13:48:11.565Z"
   },
   {
    "duration": 109,
    "start_time": "2022-06-28T13:48:30.545Z"
   },
   {
    "duration": 17,
    "start_time": "2022-06-28T13:49:31.465Z"
   },
   {
    "duration": 79,
    "start_time": "2022-06-28T13:56:48.955Z"
   },
   {
    "duration": 122,
    "start_time": "2022-06-28T13:57:19.396Z"
   },
   {
    "duration": 14,
    "start_time": "2022-06-28T13:58:08.069Z"
   },
   {
    "duration": 2225,
    "start_time": "2022-06-28T13:59:02.007Z"
   },
   {
    "duration": 20,
    "start_time": "2022-06-28T13:59:18.888Z"
   },
   {
    "duration": 14,
    "start_time": "2022-06-28T13:59:22.067Z"
   },
   {
    "duration": 8,
    "start_time": "2022-06-28T14:00:29.831Z"
   },
   {
    "duration": 15,
    "start_time": "2022-06-28T14:00:39.652Z"
   },
   {
    "duration": 8,
    "start_time": "2022-06-28T14:01:57.174Z"
   },
   {
    "duration": 13,
    "start_time": "2022-06-28T14:02:28.171Z"
   },
   {
    "duration": 4,
    "start_time": "2022-06-28T14:03:16.678Z"
   },
   {
    "duration": 30,
    "start_time": "2022-06-28T14:07:10.533Z"
   },
   {
    "duration": 75,
    "start_time": "2022-06-28T14:07:38.291Z"
   },
   {
    "duration": 3,
    "start_time": "2022-06-28T14:08:23.668Z"
   },
   {
    "duration": 379,
    "start_time": "2022-06-28T14:08:23.674Z"
   },
   {
    "duration": 68,
    "start_time": "2022-06-28T14:08:24.056Z"
   },
   {
    "duration": 37,
    "start_time": "2022-06-28T14:08:24.126Z"
   },
   {
    "duration": 116,
    "start_time": "2022-06-28T14:08:24.166Z"
   },
   {
    "duration": 17,
    "start_time": "2022-06-28T14:08:24.283Z"
   },
   {
    "duration": 104,
    "start_time": "2022-06-28T14:08:24.302Z"
   },
   {
    "duration": 19,
    "start_time": "2022-06-28T14:08:24.411Z"
   },
   {
    "duration": 32,
    "start_time": "2022-06-28T14:08:24.431Z"
   },
   {
    "duration": 12,
    "start_time": "2022-06-28T14:08:24.465Z"
   },
   {
    "duration": 28,
    "start_time": "2022-06-28T14:08:24.478Z"
   },
   {
    "duration": 16,
    "start_time": "2022-06-28T14:08:24.508Z"
   },
   {
    "duration": 6,
    "start_time": "2022-06-28T14:09:07.865Z"
   },
   {
    "duration": 26,
    "start_time": "2022-06-28T14:18:19.467Z"
   },
   {
    "duration": 1296,
    "start_time": "2022-06-28T16:42:59.245Z"
   },
   {
    "duration": 1597,
    "start_time": "2022-06-28T16:43:00.543Z"
   },
   {
    "duration": 60,
    "start_time": "2022-06-28T16:43:02.141Z"
   },
   {
    "duration": 20,
    "start_time": "2022-06-28T16:43:02.203Z"
   },
   {
    "duration": 126,
    "start_time": "2022-06-28T16:43:02.224Z"
   },
   {
    "duration": 15,
    "start_time": "2022-06-28T16:43:02.351Z"
   },
   {
    "duration": 105,
    "start_time": "2022-06-28T16:43:02.368Z"
   },
   {
    "duration": 14,
    "start_time": "2022-06-28T16:43:02.474Z"
   },
   {
    "duration": 44,
    "start_time": "2022-06-28T16:43:02.490Z"
   },
   {
    "duration": 13,
    "start_time": "2022-06-28T16:43:02.536Z"
   },
   {
    "duration": 14,
    "start_time": "2022-06-28T16:43:02.551Z"
   },
   {
    "duration": 8,
    "start_time": "2022-06-28T16:43:02.566Z"
   },
   {
    "duration": 304,
    "start_time": "2022-06-28T16:45:58.551Z"
   },
   {
    "duration": 278,
    "start_time": "2022-06-28T16:46:05.627Z"
   },
   {
    "duration": 267,
    "start_time": "2022-06-28T16:46:45.367Z"
   },
   {
    "duration": 276,
    "start_time": "2022-06-28T16:46:55.016Z"
   },
   {
    "duration": 365,
    "start_time": "2022-06-28T16:49:41.566Z"
   },
   {
    "duration": 101,
    "start_time": "2022-06-28T16:52:29.069Z"
   },
   {
    "duration": 13,
    "start_time": "2022-06-28T16:54:12.887Z"
   },
   {
    "duration": 76,
    "start_time": "2022-06-28T16:54:27.815Z"
   },
   {
    "duration": 11,
    "start_time": "2022-06-28T16:54:29.870Z"
   },
   {
    "duration": 11,
    "start_time": "2022-06-28T16:54:32.599Z"
   },
   {
    "duration": 13,
    "start_time": "2022-06-28T16:54:34.967Z"
   },
   {
    "duration": 5,
    "start_time": "2022-06-28T16:54:37.468Z"
   },
   {
    "duration": 5,
    "start_time": "2022-06-28T16:59:11.329Z"
   },
   {
    "duration": 86,
    "start_time": "2022-06-28T17:03:34.406Z"
   },
   {
    "duration": 9,
    "start_time": "2022-06-28T17:04:15.067Z"
   },
   {
    "duration": 11,
    "start_time": "2022-06-28T17:04:38.532Z"
   },
   {
    "duration": 80,
    "start_time": "2022-06-28T17:13:27.701Z"
   },
   {
    "duration": 17,
    "start_time": "2022-06-28T17:13:37.190Z"
   },
   {
    "duration": 71,
    "start_time": "2022-06-28T17:13:52.087Z"
   },
   {
    "duration": 48,
    "start_time": "2022-06-29T10:05:11.714Z"
   },
   {
    "duration": 1267,
    "start_time": "2022-06-29T10:05:22.696Z"
   },
   {
    "duration": 1554,
    "start_time": "2022-06-29T10:05:23.965Z"
   },
   {
    "duration": 65,
    "start_time": "2022-06-29T10:05:25.521Z"
   },
   {
    "duration": 19,
    "start_time": "2022-06-29T10:05:25.587Z"
   },
   {
    "duration": 353,
    "start_time": "2022-06-29T10:05:25.609Z"
   },
   {
    "duration": 119,
    "start_time": "2022-06-29T10:05:25.964Z"
   },
   {
    "duration": 18,
    "start_time": "2022-06-29T10:05:26.084Z"
   },
   {
    "duration": 101,
    "start_time": "2022-06-29T10:05:26.103Z"
   },
   {
    "duration": 13,
    "start_time": "2022-06-29T10:05:26.205Z"
   },
   {
    "duration": 40,
    "start_time": "2022-06-29T10:05:26.219Z"
   },
   {
    "duration": 10,
    "start_time": "2022-06-29T10:05:26.260Z"
   },
   {
    "duration": 15,
    "start_time": "2022-06-29T10:05:26.272Z"
   },
   {
    "duration": 7,
    "start_time": "2022-06-29T10:05:26.288Z"
   },
   {
    "duration": 116,
    "start_time": "2022-06-29T10:05:26.297Z"
   },
   {
    "duration": 75,
    "start_time": "2022-06-29T10:05:53.440Z"
   },
   {
    "duration": 9,
    "start_time": "2022-06-29T10:07:41.320Z"
   },
   {
    "duration": 20,
    "start_time": "2022-06-29T10:07:51.559Z"
   },
   {
    "duration": 49,
    "start_time": "2022-06-30T16:14:41.427Z"
   },
   {
    "duration": 1275,
    "start_time": "2022-06-30T16:14:52.781Z"
   },
   {
    "duration": 725,
    "start_time": "2022-06-30T16:14:54.058Z"
   },
   {
    "duration": 83,
    "start_time": "2022-06-30T16:14:54.785Z"
   },
   {
    "duration": 24,
    "start_time": "2022-06-30T16:14:54.870Z"
   },
   {
    "duration": 383,
    "start_time": "2022-06-30T16:14:54.896Z"
   },
   {
    "duration": 117,
    "start_time": "2022-06-30T16:14:55.281Z"
   },
   {
    "duration": 30,
    "start_time": "2022-06-30T16:14:55.399Z"
   },
   {
    "duration": 100,
    "start_time": "2022-06-30T16:14:55.430Z"
   },
   {
    "duration": 16,
    "start_time": "2022-06-30T16:14:55.531Z"
   },
   {
    "duration": 51,
    "start_time": "2022-06-30T16:14:55.549Z"
   },
   {
    "duration": 25,
    "start_time": "2022-06-30T16:14:55.602Z"
   },
   {
    "duration": 14,
    "start_time": "2022-06-30T16:14:55.629Z"
   },
   {
    "duration": 7,
    "start_time": "2022-06-30T16:14:55.645Z"
   },
   {
    "duration": 120,
    "start_time": "2022-06-30T16:14:55.655Z"
   },
   {
    "duration": 15,
    "start_time": "2022-06-30T16:16:32.117Z"
   },
   {
    "duration": 7,
    "start_time": "2022-06-30T16:16:36.911Z"
   },
   {
    "duration": 12,
    "start_time": "2022-06-30T16:16:55.780Z"
   },
   {
    "duration": 3,
    "start_time": "2022-06-30T16:17:48.092Z"
   },
   {
    "duration": 378,
    "start_time": "2022-06-30T16:17:48.096Z"
   },
   {
    "duration": 67,
    "start_time": "2022-06-30T16:17:48.476Z"
   },
   {
    "duration": 21,
    "start_time": "2022-06-30T16:17:48.545Z"
   },
   {
    "duration": 331,
    "start_time": "2022-06-30T16:17:48.568Z"
   },
   {
    "duration": 101,
    "start_time": "2022-06-30T16:17:48.901Z"
   },
   {
    "duration": 29,
    "start_time": "2022-06-30T16:17:49.003Z"
   },
   {
    "duration": 101,
    "start_time": "2022-06-30T16:17:49.034Z"
   },
   {
    "duration": 16,
    "start_time": "2022-06-30T16:17:49.137Z"
   },
   {
    "duration": 38,
    "start_time": "2022-06-30T16:17:49.155Z"
   },
   {
    "duration": 11,
    "start_time": "2022-06-30T16:17:49.197Z"
   },
   {
    "duration": 40,
    "start_time": "2022-06-30T16:17:49.209Z"
   },
   {
    "duration": 8,
    "start_time": "2022-06-30T16:17:49.251Z"
   },
   {
    "duration": 21,
    "start_time": "2022-06-30T16:17:49.262Z"
   },
   {
    "duration": 17,
    "start_time": "2022-06-30T16:18:04.370Z"
   },
   {
    "duration": 95,
    "start_time": "2022-06-30T16:20:17.280Z"
   },
   {
    "duration": 93,
    "start_time": "2022-06-30T16:20:21.920Z"
   },
   {
    "duration": 0,
    "start_time": "2022-06-30T16:20:22.015Z"
   },
   {
    "duration": 0,
    "start_time": "2022-06-30T16:20:22.016Z"
   },
   {
    "duration": 0,
    "start_time": "2022-06-30T16:20:22.017Z"
   },
   {
    "duration": 0,
    "start_time": "2022-06-30T16:20:22.027Z"
   },
   {
    "duration": 0,
    "start_time": "2022-06-30T16:20:22.028Z"
   },
   {
    "duration": 0,
    "start_time": "2022-06-30T16:20:22.029Z"
   },
   {
    "duration": 76,
    "start_time": "2022-06-30T16:21:13.040Z"
   },
   {
    "duration": 23,
    "start_time": "2022-06-30T16:21:16.578Z"
   },
   {
    "duration": 27,
    "start_time": "2022-06-30T16:21:28.656Z"
   },
   {
    "duration": 15,
    "start_time": "2022-06-30T16:21:47.031Z"
   },
   {
    "duration": 153,
    "start_time": "2022-06-30T16:21:51.811Z"
   },
   {
    "duration": 84,
    "start_time": "2022-06-30T16:21:59.591Z"
   },
   {
    "duration": 12,
    "start_time": "2022-06-30T16:22:01.799Z"
   },
   {
    "duration": 26,
    "start_time": "2022-06-30T16:22:04.418Z"
   },
   {
    "duration": 13,
    "start_time": "2022-06-30T16:22:06.528Z"
   },
   {
    "duration": 24,
    "start_time": "2022-06-30T16:22:13.874Z"
   },
   {
    "duration": 8,
    "start_time": "2022-06-30T16:22:17.422Z"
   },
   {
    "duration": 3,
    "start_time": "2022-06-30T16:29:30.137Z"
   },
   {
    "duration": 407,
    "start_time": "2022-06-30T16:29:30.142Z"
   },
   {
    "duration": 71,
    "start_time": "2022-06-30T16:29:30.550Z"
   },
   {
    "duration": 25,
    "start_time": "2022-06-30T16:29:30.622Z"
   },
   {
    "duration": 350,
    "start_time": "2022-06-30T16:29:30.650Z"
   },
   {
    "duration": 111,
    "start_time": "2022-06-30T16:29:31.002Z"
   },
   {
    "duration": 30,
    "start_time": "2022-06-30T16:29:31.115Z"
   },
   {
    "duration": 77,
    "start_time": "2022-06-30T16:29:36.531Z"
   },
   {
    "duration": 16,
    "start_time": "2022-06-30T16:29:42.029Z"
   },
   {
    "duration": 10,
    "start_time": "2022-06-30T16:29:45.448Z"
   },
   {
    "duration": 13,
    "start_time": "2022-06-30T16:29:47.792Z"
   },
   {
    "duration": 6,
    "start_time": "2022-06-30T16:29:53.472Z"
   },
   {
    "duration": 45,
    "start_time": "2022-06-30T16:30:23.375Z"
   },
   {
    "duration": 3,
    "start_time": "2022-06-30T16:32:56.797Z"
   },
   {
    "duration": 391,
    "start_time": "2022-06-30T16:32:56.802Z"
   },
   {
    "duration": 73,
    "start_time": "2022-06-30T16:32:57.195Z"
   },
   {
    "duration": 37,
    "start_time": "2022-06-30T16:32:57.270Z"
   },
   {
    "duration": 0,
    "start_time": "2022-06-30T16:32:57.308Z"
   },
   {
    "duration": 0,
    "start_time": "2022-06-30T16:32:57.310Z"
   },
   {
    "duration": 0,
    "start_time": "2022-06-30T16:32:57.327Z"
   },
   {
    "duration": 0,
    "start_time": "2022-06-30T16:32:57.329Z"
   },
   {
    "duration": 0,
    "start_time": "2022-06-30T16:32:57.330Z"
   },
   {
    "duration": 23,
    "start_time": "2022-06-30T16:33:36.669Z"
   },
   {
    "duration": 364,
    "start_time": "2022-06-30T16:34:00.443Z"
   },
   {
    "duration": 109,
    "start_time": "2022-06-30T16:34:09.079Z"
   },
   {
    "duration": 32,
    "start_time": "2022-06-30T16:34:13.233Z"
   },
   {
    "duration": 101,
    "start_time": "2022-06-30T16:35:27.628Z"
   },
   {
    "duration": 16,
    "start_time": "2022-06-30T16:35:32.034Z"
   },
   {
    "duration": 40,
    "start_time": "2022-06-30T16:35:36.237Z"
   },
   {
    "duration": 90,
    "start_time": "2022-06-30T16:35:48.532Z"
   },
   {
    "duration": 14,
    "start_time": "2022-06-30T16:35:50.375Z"
   },
   {
    "duration": 10,
    "start_time": "2022-06-30T16:35:55.354Z"
   },
   {
    "duration": 14,
    "start_time": "2022-06-30T16:36:00.044Z"
   },
   {
    "duration": 26,
    "start_time": "2022-06-30T16:36:01.843Z"
   },
   {
    "duration": 15,
    "start_time": "2022-06-30T16:36:04.049Z"
   },
   {
    "duration": 19,
    "start_time": "2022-06-30T16:36:08.330Z"
   },
   {
    "duration": 9,
    "start_time": "2022-06-30T16:36:14.670Z"
   },
   {
    "duration": 93,
    "start_time": "2022-06-30T16:36:48.447Z"
   },
   {
    "duration": 36,
    "start_time": "2022-06-30T16:46:04.921Z"
   },
   {
    "duration": 39,
    "start_time": "2022-06-30T16:48:28.972Z"
   },
   {
    "duration": 29,
    "start_time": "2022-06-30T16:52:51.700Z"
   },
   {
    "duration": 20,
    "start_time": "2022-06-30T16:53:39.589Z"
   },
   {
    "duration": 11,
    "start_time": "2022-06-30T16:53:56.814Z"
   },
   {
    "duration": 6,
    "start_time": "2022-06-30T16:54:02.110Z"
   },
   {
    "duration": 57,
    "start_time": "2022-06-30T16:54:39.725Z"
   },
   {
    "duration": 6,
    "start_time": "2022-06-30T16:56:35.829Z"
   },
   {
    "duration": 32,
    "start_time": "2022-06-30T16:56:43.677Z"
   },
   {
    "duration": 5,
    "start_time": "2022-06-30T16:56:55.538Z"
   },
   {
    "duration": 1018,
    "start_time": "2022-06-30T16:59:05.899Z"
   },
   {
    "duration": 10,
    "start_time": "2022-06-30T16:59:39.150Z"
   },
   {
    "duration": 1334,
    "start_time": "2022-06-30T17:00:43.748Z"
   },
   {
    "duration": 85,
    "start_time": "2022-06-30T17:01:00.848Z"
   },
   {
    "duration": 63,
    "start_time": "2022-06-30T17:02:29.848Z"
   },
   {
    "duration": 418,
    "start_time": "2022-06-30T17:03:55.100Z"
   },
   {
    "duration": 476,
    "start_time": "2022-06-30T17:04:28.230Z"
   },
   {
    "duration": 431,
    "start_time": "2022-06-30T17:05:50.183Z"
   },
   {
    "duration": 22,
    "start_time": "2022-06-30T17:07:22.096Z"
   },
   {
    "duration": 163,
    "start_time": "2022-06-30T17:11:47.612Z"
   },
   {
    "duration": 841,
    "start_time": "2022-06-30T17:12:43.197Z"
   },
   {
    "duration": 934,
    "start_time": "2022-06-30T17:13:20.198Z"
   },
   {
    "duration": 922,
    "start_time": "2022-06-30T17:13:32.828Z"
   },
   {
    "duration": 137,
    "start_time": "2022-06-30T17:15:30.387Z"
   },
   {
    "duration": 1017,
    "start_time": "2022-06-30T17:15:34.462Z"
   },
   {
    "duration": 10,
    "start_time": "2022-06-30T17:16:30.019Z"
   },
   {
    "duration": 13,
    "start_time": "2022-06-30T17:17:02.084Z"
   },
   {
    "duration": 35,
    "start_time": "2022-06-30T17:17:21.411Z"
   },
   {
    "duration": 19,
    "start_time": "2022-06-30T17:20:05.442Z"
   },
   {
    "duration": 49,
    "start_time": "2022-06-30T17:23:09.690Z"
   },
   {
    "duration": 1451,
    "start_time": "2022-07-02T09:12:31.518Z"
   },
   {
    "duration": 786,
    "start_time": "2022-07-02T09:12:32.972Z"
   },
   {
    "duration": 79,
    "start_time": "2022-07-02T09:12:33.760Z"
   },
   {
    "duration": 26,
    "start_time": "2022-07-02T09:12:33.844Z"
   },
   {
    "duration": 478,
    "start_time": "2022-07-02T09:12:33.873Z"
   },
   {
    "duration": 143,
    "start_time": "2022-07-02T09:12:34.353Z"
   },
   {
    "duration": 39,
    "start_time": "2022-07-02T09:12:34.498Z"
   },
   {
    "duration": 135,
    "start_time": "2022-07-02T09:12:34.540Z"
   },
   {
    "duration": 24,
    "start_time": "2022-07-02T09:12:34.677Z"
   },
   {
    "duration": 63,
    "start_time": "2022-07-02T09:12:34.704Z"
   },
   {
    "duration": 25,
    "start_time": "2022-07-02T09:12:34.770Z"
   },
   {
    "duration": 46,
    "start_time": "2022-07-02T09:12:34.797Z"
   },
   {
    "duration": 38,
    "start_time": "2022-07-02T09:12:34.846Z"
   },
   {
    "duration": 123,
    "start_time": "2022-07-02T09:12:34.887Z"
   },
   {
    "duration": 49,
    "start_time": "2022-07-02T09:12:35.012Z"
   },
   {
    "duration": 62,
    "start_time": "2022-07-02T09:12:35.063Z"
   },
   {
    "duration": 17,
    "start_time": "2022-07-02T09:12:35.127Z"
   },
   {
    "duration": 72,
    "start_time": "2022-07-02T09:12:35.146Z"
   },
   {
    "duration": 24,
    "start_time": "2022-07-02T09:12:35.220Z"
   },
   {
    "duration": 97,
    "start_time": "2022-07-02T09:12:35.247Z"
   },
   {
    "duration": 439,
    "start_time": "2022-07-02T09:12:35.346Z"
   },
   {
    "duration": 21,
    "start_time": "2022-07-02T09:12:35.787Z"
   },
   {
    "duration": 202,
    "start_time": "2022-07-02T09:12:35.810Z"
   },
   {
    "duration": 1053,
    "start_time": "2022-07-02T09:12:36.014Z"
   },
   {
    "duration": 26,
    "start_time": "2022-07-02T09:12:37.070Z"
   },
   {
    "duration": 64,
    "start_time": "2022-07-02T09:12:37.098Z"
   },
   {
    "duration": 43,
    "start_time": "2022-07-02T09:12:59.369Z"
   },
   {
    "duration": 47,
    "start_time": "2022-07-02T09:17:03.885Z"
   },
   {
    "duration": 41,
    "start_time": "2022-07-02T09:18:10.240Z"
   },
   {
    "duration": 40,
    "start_time": "2022-07-02T09:22:53.024Z"
   },
   {
    "duration": 7,
    "start_time": "2022-07-02T09:25:09.003Z"
   },
   {
    "duration": 23,
    "start_time": "2022-07-02T10:32:41.842Z"
   },
   {
    "duration": 26,
    "start_time": "2022-07-02T10:32:57.954Z"
   },
   {
    "duration": 28,
    "start_time": "2022-07-02T10:33:21.779Z"
   },
   {
    "duration": 4,
    "start_time": "2022-07-02T10:34:48.350Z"
   },
   {
    "duration": 110,
    "start_time": "2022-07-02T10:35:20.748Z"
   },
   {
    "duration": 6,
    "start_time": "2022-07-02T10:35:35.611Z"
   },
   {
    "duration": 45,
    "start_time": "2022-07-02T10:35:52.351Z"
   },
   {
    "duration": 7,
    "start_time": "2022-07-02T10:36:17.840Z"
   },
   {
    "duration": 49,
    "start_time": "2022-07-02T10:36:37.789Z"
   },
   {
    "duration": 54,
    "start_time": "2022-07-03T14:27:18.957Z"
   },
   {
    "duration": 1445,
    "start_time": "2022-07-03T14:27:26.579Z"
   },
   {
    "duration": 953,
    "start_time": "2022-07-03T14:27:28.026Z"
   },
   {
    "duration": 108,
    "start_time": "2022-07-03T14:27:28.981Z"
   },
   {
    "duration": 25,
    "start_time": "2022-07-03T14:27:29.092Z"
   },
   {
    "duration": 498,
    "start_time": "2022-07-03T14:27:29.118Z"
   },
   {
    "duration": 139,
    "start_time": "2022-07-03T14:27:29.617Z"
   },
   {
    "duration": 23,
    "start_time": "2022-07-03T14:27:29.759Z"
   },
   {
    "duration": 121,
    "start_time": "2022-07-03T14:27:29.784Z"
   },
   {
    "duration": 23,
    "start_time": "2022-07-03T14:27:29.907Z"
   },
   {
    "duration": 77,
    "start_time": "2022-07-03T14:27:29.933Z"
   },
   {
    "duration": 11,
    "start_time": "2022-07-03T14:27:30.012Z"
   },
   {
    "duration": 50,
    "start_time": "2022-07-03T14:27:30.026Z"
   },
   {
    "duration": 9,
    "start_time": "2022-07-03T14:27:30.078Z"
   },
   {
    "duration": 109,
    "start_time": "2022-07-03T14:27:30.088Z"
   },
   {
    "duration": 46,
    "start_time": "2022-07-03T14:27:30.199Z"
   },
   {
    "duration": 49,
    "start_time": "2022-07-03T14:27:30.247Z"
   },
   {
    "duration": 6,
    "start_time": "2022-07-03T14:27:30.297Z"
   },
   {
    "duration": 90,
    "start_time": "2022-07-03T14:27:30.304Z"
   },
   {
    "duration": 13,
    "start_time": "2022-07-03T14:27:30.396Z"
   },
   {
    "duration": 158,
    "start_time": "2022-07-03T14:27:30.411Z"
   },
   {
    "duration": 474,
    "start_time": "2022-07-03T14:27:30.571Z"
   },
   {
    "duration": 27,
    "start_time": "2022-07-03T14:27:31.047Z"
   },
   {
    "duration": 226,
    "start_time": "2022-07-03T14:27:31.076Z"
   },
   {
    "duration": 1100,
    "start_time": "2022-07-03T14:27:31.304Z"
   },
   {
    "duration": 29,
    "start_time": "2022-07-03T14:27:32.406Z"
   },
   {
    "duration": 48,
    "start_time": "2022-07-03T14:27:32.436Z"
   },
   {
    "duration": 64,
    "start_time": "2022-07-03T14:27:32.485Z"
   },
   {
    "duration": 41,
    "start_time": "2022-07-03T14:27:32.553Z"
   },
   {
    "duration": 37,
    "start_time": "2022-07-03T14:27:32.596Z"
   },
   {
    "duration": 121,
    "start_time": "2022-07-03T14:27:32.635Z"
   },
   {
    "duration": 8,
    "start_time": "2022-07-03T14:27:35.581Z"
   },
   {
    "duration": 5,
    "start_time": "2022-07-03T14:55:55.694Z"
   },
   {
    "duration": 16,
    "start_time": "2022-07-03T14:56:00.224Z"
   },
   {
    "duration": 99,
    "start_time": "2022-07-03T14:56:31.615Z"
   },
   {
    "duration": 491,
    "start_time": "2022-07-03T14:56:37.691Z"
   },
   {
    "duration": 431,
    "start_time": "2022-07-03T14:57:55.268Z"
   },
   {
    "duration": 21,
    "start_time": "2022-07-03T15:02:50.862Z"
   },
   {
    "duration": 7,
    "start_time": "2022-07-03T15:03:05.299Z"
   },
   {
    "duration": 6,
    "start_time": "2022-07-03T15:03:14.463Z"
   },
   {
    "duration": 24,
    "start_time": "2022-07-03T15:03:29.261Z"
   },
   {
    "duration": 13,
    "start_time": "2022-07-03T15:09:31.708Z"
   },
   {
    "duration": 13,
    "start_time": "2022-07-03T15:09:44.250Z"
   },
   {
    "duration": 7,
    "start_time": "2022-07-03T15:09:50.242Z"
   },
   {
    "duration": 5,
    "start_time": "2022-07-03T15:11:15.689Z"
   },
   {
    "duration": 15,
    "start_time": "2022-07-03T15:11:36.699Z"
   },
   {
    "duration": 25,
    "start_time": "2022-07-03T15:11:48.041Z"
   },
   {
    "duration": 8,
    "start_time": "2022-07-03T15:11:50.219Z"
   },
   {
    "duration": 45,
    "start_time": "2022-07-03T15:12:24.767Z"
   },
   {
    "duration": 5,
    "start_time": "2022-07-03T15:12:27.397Z"
   },
   {
    "duration": 534,
    "start_time": "2022-07-03T15:12:30.263Z"
   },
   {
    "duration": 484,
    "start_time": "2022-07-03T15:13:06.919Z"
   },
   {
    "duration": 9,
    "start_time": "2022-07-03T15:16:18.299Z"
   },
   {
    "duration": 3,
    "start_time": "2022-07-03T15:16:50.805Z"
   },
   {
    "duration": 60,
    "start_time": "2022-07-03T15:16:52.964Z"
   },
   {
    "duration": 5,
    "start_time": "2022-07-03T15:17:40.394Z"
   },
   {
    "duration": 4,
    "start_time": "2022-07-03T15:21:56.072Z"
   },
   {
    "duration": 7,
    "start_time": "2022-07-03T15:22:03.856Z"
   },
   {
    "duration": 5,
    "start_time": "2022-07-03T15:22:15.062Z"
   },
   {
    "duration": 56,
    "start_time": "2022-07-04T05:55:31.939Z"
   },
   {
    "duration": 1467,
    "start_time": "2022-07-04T05:55:39.652Z"
   },
   {
    "duration": 775,
    "start_time": "2022-07-04T05:55:41.121Z"
   },
   {
    "duration": 75,
    "start_time": "2022-07-04T05:55:41.897Z"
   },
   {
    "duration": 35,
    "start_time": "2022-07-04T05:55:41.978Z"
   },
   {
    "duration": 436,
    "start_time": "2022-07-04T05:55:42.015Z"
   },
   {
    "duration": 123,
    "start_time": "2022-07-04T05:55:42.453Z"
   },
   {
    "duration": 21,
    "start_time": "2022-07-04T05:55:42.577Z"
   },
   {
    "duration": 114,
    "start_time": "2022-07-04T05:55:42.599Z"
   },
   {
    "duration": 14,
    "start_time": "2022-07-04T05:55:42.715Z"
   },
   {
    "duration": 55,
    "start_time": "2022-07-04T05:55:42.731Z"
   },
   {
    "duration": 11,
    "start_time": "2022-07-04T05:55:42.788Z"
   },
   {
    "duration": 16,
    "start_time": "2022-07-04T05:55:42.800Z"
   },
   {
    "duration": 7,
    "start_time": "2022-07-04T05:55:42.818Z"
   },
   {
    "duration": 128,
    "start_time": "2022-07-04T05:55:42.828Z"
   },
   {
    "duration": 55,
    "start_time": "2022-07-04T05:55:42.957Z"
   },
   {
    "duration": 55,
    "start_time": "2022-07-04T05:55:43.014Z"
   },
   {
    "duration": 11,
    "start_time": "2022-07-04T05:55:43.072Z"
   },
   {
    "duration": 65,
    "start_time": "2022-07-04T05:55:43.086Z"
   },
   {
    "duration": 31,
    "start_time": "2022-07-04T05:55:43.154Z"
   },
   {
    "duration": 98,
    "start_time": "2022-07-04T05:55:43.187Z"
   },
   {
    "duration": 478,
    "start_time": "2022-07-04T05:55:43.287Z"
   },
   {
    "duration": 30,
    "start_time": "2022-07-04T05:55:43.767Z"
   },
   {
    "duration": 208,
    "start_time": "2022-07-04T05:55:43.798Z"
   },
   {
    "duration": 999,
    "start_time": "2022-07-04T05:55:44.008Z"
   },
   {
    "duration": 20,
    "start_time": "2022-07-04T05:55:45.009Z"
   },
   {
    "duration": 65,
    "start_time": "2022-07-04T05:55:45.031Z"
   },
   {
    "duration": 43,
    "start_time": "2022-07-04T05:55:45.098Z"
   },
   {
    "duration": 50,
    "start_time": "2022-07-04T05:55:45.142Z"
   },
   {
    "duration": 21,
    "start_time": "2022-07-04T05:55:45.194Z"
   },
   {
    "duration": 67,
    "start_time": "2022-07-04T05:55:45.217Z"
   },
   {
    "duration": 6,
    "start_time": "2022-07-04T05:55:45.286Z"
   },
   {
    "duration": 421,
    "start_time": "2022-07-04T05:55:45.294Z"
   },
   {
    "duration": 422,
    "start_time": "2022-07-04T05:55:45.717Z"
   },
   {
    "duration": 3,
    "start_time": "2022-07-04T05:55:46.141Z"
   },
   {
    "duration": 3,
    "start_time": "2022-07-04T05:56:28.440Z"
   },
   {
    "duration": 1000,
    "start_time": "2022-07-04T05:56:30.560Z"
   },
   {
    "duration": 4,
    "start_time": "2022-07-04T05:57:01.220Z"
   },
   {
    "duration": 27,
    "start_time": "2022-07-04T06:09:21.507Z"
   },
   {
    "duration": 44,
    "start_time": "2022-07-04T06:10:45.462Z"
   },
   {
    "duration": 23,
    "start_time": "2022-07-04T06:13:44.489Z"
   },
   {
    "duration": 74,
    "start_time": "2022-07-04T06:14:21.861Z"
   },
   {
    "duration": 301,
    "start_time": "2022-07-04T06:14:27.276Z"
   },
   {
    "duration": 15,
    "start_time": "2022-07-04T06:26:06.477Z"
   },
   {
    "duration": 389,
    "start_time": "2022-07-04T06:26:51.818Z"
   },
   {
    "duration": 1370,
    "start_time": "2022-07-04T15:38:33.567Z"
   },
   {
    "duration": 928,
    "start_time": "2022-07-04T15:38:34.939Z"
   },
   {
    "duration": 82,
    "start_time": "2022-07-04T15:38:35.869Z"
   },
   {
    "duration": 37,
    "start_time": "2022-07-04T15:38:35.953Z"
   },
   {
    "duration": 485,
    "start_time": "2022-07-04T15:38:35.995Z"
   },
   {
    "duration": 122,
    "start_time": "2022-07-04T15:38:36.482Z"
   },
   {
    "duration": 29,
    "start_time": "2022-07-04T15:38:36.606Z"
   },
   {
    "duration": 109,
    "start_time": "2022-07-04T15:38:36.638Z"
   },
   {
    "duration": 17,
    "start_time": "2022-07-04T15:38:36.749Z"
   },
   {
    "duration": 47,
    "start_time": "2022-07-04T15:38:36.767Z"
   },
   {
    "duration": 18,
    "start_time": "2022-07-04T15:38:36.816Z"
   },
   {
    "duration": 16,
    "start_time": "2022-07-04T15:38:36.836Z"
   },
   {
    "duration": 7,
    "start_time": "2022-07-04T15:38:36.853Z"
   },
   {
    "duration": 124,
    "start_time": "2022-07-04T15:38:36.863Z"
   },
   {
    "duration": 42,
    "start_time": "2022-07-04T15:38:36.988Z"
   },
   {
    "duration": 48,
    "start_time": "2022-07-04T15:38:37.033Z"
   },
   {
    "duration": 8,
    "start_time": "2022-07-04T15:38:37.083Z"
   },
   {
    "duration": 88,
    "start_time": "2022-07-04T15:38:37.093Z"
   },
   {
    "duration": 10,
    "start_time": "2022-07-04T15:38:37.183Z"
   },
   {
    "duration": 97,
    "start_time": "2022-07-04T15:38:37.195Z"
   },
   {
    "duration": 462,
    "start_time": "2022-07-04T15:38:37.294Z"
   },
   {
    "duration": 22,
    "start_time": "2022-07-04T15:38:37.757Z"
   },
   {
    "duration": 185,
    "start_time": "2022-07-04T15:38:37.781Z"
   },
   {
    "duration": 942,
    "start_time": "2022-07-04T15:38:37.968Z"
   },
   {
    "duration": 32,
    "start_time": "2022-07-04T15:38:38.912Z"
   },
   {
    "duration": 52,
    "start_time": "2022-07-04T15:38:38.946Z"
   },
   {
    "duration": 64,
    "start_time": "2022-07-04T15:38:39.000Z"
   },
   {
    "duration": 35,
    "start_time": "2022-07-04T15:38:39.065Z"
   },
   {
    "duration": 33,
    "start_time": "2022-07-04T15:38:39.107Z"
   },
   {
    "duration": 66,
    "start_time": "2022-07-04T15:38:39.142Z"
   },
   {
    "duration": 18,
    "start_time": "2022-07-04T15:38:39.209Z"
   },
   {
    "duration": 384,
    "start_time": "2022-07-04T15:38:39.229Z"
   },
   {
    "duration": 402,
    "start_time": "2022-07-04T15:38:39.615Z"
   },
   {
    "duration": 495,
    "start_time": "2022-07-04T15:38:40.027Z"
   },
   {
    "duration": 3,
    "start_time": "2022-07-04T15:38:40.529Z"
   },
   {
    "duration": 10,
    "start_time": "2022-07-04T15:38:40.537Z"
   },
   {
    "duration": 10,
    "start_time": "2022-07-04T15:38:40.549Z"
   },
   {
    "duration": 17,
    "start_time": "2022-07-04T15:38:40.561Z"
   },
   {
    "duration": 184,
    "start_time": "2022-07-04T15:48:41.461Z"
   },
   {
    "duration": 189,
    "start_time": "2022-07-04T15:48:46.997Z"
   },
   {
    "duration": 159,
    "start_time": "2022-07-04T15:48:50.682Z"
   },
   {
    "duration": 165,
    "start_time": "2022-07-04T15:48:57.555Z"
   },
   {
    "duration": 210,
    "start_time": "2022-07-04T15:49:03.151Z"
   },
   {
    "duration": 201,
    "start_time": "2022-07-04T15:49:10.122Z"
   },
   {
    "duration": 297,
    "start_time": "2022-07-04T15:49:17.741Z"
   },
   {
    "duration": 263,
    "start_time": "2022-07-04T15:49:41.707Z"
   },
   {
    "duration": 13,
    "start_time": "2022-07-04T16:03:16.170Z"
   },
   {
    "duration": 1211,
    "start_time": "2022-07-04T16:03:32.619Z"
   },
   {
    "duration": 417,
    "start_time": "2022-07-04T16:03:33.832Z"
   },
   {
    "duration": 72,
    "start_time": "2022-07-04T16:03:34.251Z"
   },
   {
    "duration": 24,
    "start_time": "2022-07-04T16:03:34.325Z"
   },
   {
    "duration": 463,
    "start_time": "2022-07-04T16:03:34.351Z"
   },
   {
    "duration": 111,
    "start_time": "2022-07-04T16:03:34.816Z"
   },
   {
    "duration": 20,
    "start_time": "2022-07-04T16:03:34.929Z"
   },
   {
    "duration": 123,
    "start_time": "2022-07-04T16:03:34.951Z"
   },
   {
    "duration": 16,
    "start_time": "2022-07-04T16:03:35.076Z"
   },
   {
    "duration": 48,
    "start_time": "2022-07-04T16:03:35.094Z"
   },
   {
    "duration": 11,
    "start_time": "2022-07-04T16:03:35.143Z"
   },
   {
    "duration": 14,
    "start_time": "2022-07-04T16:03:35.155Z"
   },
   {
    "duration": 8,
    "start_time": "2022-07-04T16:03:35.171Z"
   },
   {
    "duration": 127,
    "start_time": "2022-07-04T16:03:35.181Z"
   },
   {
    "duration": 50,
    "start_time": "2022-07-04T16:03:35.310Z"
   },
   {
    "duration": 45,
    "start_time": "2022-07-04T16:03:35.362Z"
   },
   {
    "duration": 7,
    "start_time": "2022-07-04T16:03:35.423Z"
   },
   {
    "duration": 67,
    "start_time": "2022-07-04T16:03:35.433Z"
   },
   {
    "duration": 22,
    "start_time": "2022-07-04T16:03:35.502Z"
   },
   {
    "duration": 83,
    "start_time": "2022-07-04T16:03:35.526Z"
   },
   {
    "duration": 497,
    "start_time": "2022-07-04T16:03:35.610Z"
   },
   {
    "duration": 29,
    "start_time": "2022-07-04T16:03:36.109Z"
   },
   {
    "duration": 186,
    "start_time": "2022-07-04T16:03:36.140Z"
   },
   {
    "duration": 976,
    "start_time": "2022-07-04T16:03:36.337Z"
   },
   {
    "duration": 29,
    "start_time": "2022-07-04T16:03:37.315Z"
   },
   {
    "duration": 49,
    "start_time": "2022-07-04T16:03:37.346Z"
   },
   {
    "duration": 59,
    "start_time": "2022-07-04T16:03:37.397Z"
   },
   {
    "duration": 29,
    "start_time": "2022-07-04T16:03:37.459Z"
   },
   {
    "duration": 38,
    "start_time": "2022-07-04T16:03:37.490Z"
   },
   {
    "duration": 46,
    "start_time": "2022-07-04T16:03:37.530Z"
   },
   {
    "duration": 5,
    "start_time": "2022-07-04T16:03:37.578Z"
   },
   {
    "duration": 396,
    "start_time": "2022-07-04T16:03:37.584Z"
   },
   {
    "duration": 393,
    "start_time": "2022-07-04T16:03:37.982Z"
   },
   {
    "duration": 108,
    "start_time": "2022-07-04T16:03:38.377Z"
   },
   {
    "duration": 0,
    "start_time": "2022-07-04T16:03:38.487Z"
   },
   {
    "duration": 0,
    "start_time": "2022-07-04T16:03:38.488Z"
   },
   {
    "duration": 0,
    "start_time": "2022-07-04T16:03:38.489Z"
   },
   {
    "duration": 3,
    "start_time": "2022-07-04T16:04:03.499Z"
   },
   {
    "duration": 6,
    "start_time": "2022-07-04T16:04:04.899Z"
   },
   {
    "duration": 575,
    "start_time": "2022-07-04T16:04:07.834Z"
   },
   {
    "duration": 256,
    "start_time": "2022-07-04T16:04:11.204Z"
   },
   {
    "duration": 15,
    "start_time": "2022-07-04T16:04:13.964Z"
   },
   {
    "duration": 5,
    "start_time": "2022-07-04T16:19:33.263Z"
   },
   {
    "duration": 380,
    "start_time": "2022-07-04T16:19:55.906Z"
   },
   {
    "duration": 428,
    "start_time": "2022-07-04T16:23:23.157Z"
   },
   {
    "duration": 455,
    "start_time": "2022-07-04T16:25:02.796Z"
   },
   {
    "duration": 4,
    "start_time": "2022-07-04T16:28:36.356Z"
   },
   {
    "duration": 5,
    "start_time": "2022-07-04T16:28:56.444Z"
   },
   {
    "duration": 438,
    "start_time": "2022-07-04T16:28:59.811Z"
   },
   {
    "duration": 481,
    "start_time": "2022-07-04T16:29:28.184Z"
   },
   {
    "duration": 397,
    "start_time": "2022-07-04T16:29:49.918Z"
   },
   {
    "duration": 211,
    "start_time": "2022-07-04T16:32:31.986Z"
   },
   {
    "duration": 5,
    "start_time": "2022-07-04T16:33:39.275Z"
   },
   {
    "duration": 14,
    "start_time": "2022-07-04T16:37:29.397Z"
   },
   {
    "duration": 921,
    "start_time": "2022-07-04T16:51:25.793Z"
   },
   {
    "duration": 36,
    "start_time": "2022-07-04T17:09:07.925Z"
   },
   {
    "duration": 14,
    "start_time": "2022-07-04T17:10:13.734Z"
   },
   {
    "duration": 15,
    "start_time": "2022-07-04T17:10:20.124Z"
   },
   {
    "duration": 10,
    "start_time": "2022-07-04T17:10:42.044Z"
   },
   {
    "duration": 9,
    "start_time": "2022-07-04T17:11:09.969Z"
   },
   {
    "duration": 8,
    "start_time": "2022-07-04T17:11:19.566Z"
   },
   {
    "duration": 8,
    "start_time": "2022-07-04T17:11:24.099Z"
   },
   {
    "duration": 9,
    "start_time": "2022-07-04T17:12:12.927Z"
   },
   {
    "duration": 8,
    "start_time": "2022-07-04T17:12:38.705Z"
   },
   {
    "duration": 21,
    "start_time": "2022-07-04T17:16:06.654Z"
   },
   {
    "duration": 25,
    "start_time": "2022-07-04T17:16:16.564Z"
   },
   {
    "duration": 17,
    "start_time": "2022-07-04T17:16:24.824Z"
   },
   {
    "duration": 18,
    "start_time": "2022-07-04T17:16:51.883Z"
   },
   {
    "duration": 14,
    "start_time": "2022-07-04T17:16:55.483Z"
   },
   {
    "duration": 6,
    "start_time": "2022-07-04T17:17:37.109Z"
   },
   {
    "duration": 5,
    "start_time": "2022-07-04T17:21:30.847Z"
   },
   {
    "duration": 8,
    "start_time": "2022-07-04T17:25:53.999Z"
   },
   {
    "duration": 11,
    "start_time": "2022-07-04T17:26:05.444Z"
   },
   {
    "duration": 9,
    "start_time": "2022-07-04T17:27:23.669Z"
   },
   {
    "duration": 8,
    "start_time": "2022-07-04T17:27:35.076Z"
   },
   {
    "duration": 9,
    "start_time": "2022-07-04T17:28:04.025Z"
   },
   {
    "duration": 7,
    "start_time": "2022-07-04T17:29:38.799Z"
   },
   {
    "duration": 48,
    "start_time": "2022-07-04T17:31:19.768Z"
   },
   {
    "duration": 11,
    "start_time": "2022-07-04T17:31:26.041Z"
   },
   {
    "duration": 19,
    "start_time": "2022-07-04T17:31:39.143Z"
   },
   {
    "duration": 7,
    "start_time": "2022-07-04T17:37:32.564Z"
   },
   {
    "duration": 1190,
    "start_time": "2022-07-05T08:48:38.722Z"
   },
   {
    "duration": 613,
    "start_time": "2022-07-05T08:48:39.914Z"
   },
   {
    "duration": 60,
    "start_time": "2022-07-05T08:48:40.529Z"
   },
   {
    "duration": 21,
    "start_time": "2022-07-05T08:48:40.591Z"
   },
   {
    "duration": 375,
    "start_time": "2022-07-05T08:48:40.613Z"
   },
   {
    "duration": 98,
    "start_time": "2022-07-05T08:48:40.990Z"
   },
   {
    "duration": 15,
    "start_time": "2022-07-05T08:48:41.089Z"
   },
   {
    "duration": 96,
    "start_time": "2022-07-05T08:48:41.105Z"
   },
   {
    "duration": 13,
    "start_time": "2022-07-05T08:48:41.202Z"
   },
   {
    "duration": 42,
    "start_time": "2022-07-05T08:48:41.217Z"
   },
   {
    "duration": 9,
    "start_time": "2022-07-05T08:48:41.261Z"
   },
   {
    "duration": 12,
    "start_time": "2022-07-05T08:48:41.271Z"
   },
   {
    "duration": 4,
    "start_time": "2022-07-05T08:48:41.285Z"
   },
   {
    "duration": 101,
    "start_time": "2022-07-05T08:48:41.290Z"
   },
   {
    "duration": 35,
    "start_time": "2022-07-05T08:48:41.392Z"
   },
   {
    "duration": 59,
    "start_time": "2022-07-05T08:48:41.429Z"
   },
   {
    "duration": 6,
    "start_time": "2022-07-05T08:48:41.491Z"
   },
   {
    "duration": 70,
    "start_time": "2022-07-05T08:48:41.498Z"
   },
   {
    "duration": 8,
    "start_time": "2022-07-05T08:48:41.570Z"
   },
   {
    "duration": 91,
    "start_time": "2022-07-05T08:48:41.579Z"
   },
   {
    "duration": 385,
    "start_time": "2022-07-05T08:48:41.671Z"
   },
   {
    "duration": 20,
    "start_time": "2022-07-05T08:48:42.057Z"
   },
   {
    "duration": 173,
    "start_time": "2022-07-05T08:48:42.079Z"
   },
   {
    "duration": 918,
    "start_time": "2022-07-05T08:48:42.253Z"
   },
   {
    "duration": 17,
    "start_time": "2022-07-05T08:48:43.172Z"
   },
   {
    "duration": 38,
    "start_time": "2022-07-05T08:48:43.191Z"
   },
   {
    "duration": 36,
    "start_time": "2022-07-05T08:48:43.243Z"
   },
   {
    "duration": 23,
    "start_time": "2022-07-05T08:48:43.282Z"
   },
   {
    "duration": 38,
    "start_time": "2022-07-05T08:48:43.306Z"
   },
   {
    "duration": 41,
    "start_time": "2022-07-05T08:48:43.346Z"
   },
   {
    "duration": 4,
    "start_time": "2022-07-05T08:48:43.389Z"
   },
   {
    "duration": 327,
    "start_time": "2022-07-05T08:48:43.394Z"
   },
   {
    "duration": 333,
    "start_time": "2022-07-05T08:48:43.722Z"
   },
   {
    "duration": 3,
    "start_time": "2022-07-05T08:48:44.056Z"
   },
   {
    "duration": 7,
    "start_time": "2022-07-05T08:48:44.060Z"
   },
   {
    "duration": 443,
    "start_time": "2022-07-05T08:48:44.069Z"
   },
   {
    "duration": 205,
    "start_time": "2022-07-05T08:48:44.514Z"
   },
   {
    "duration": 12,
    "start_time": "2022-07-05T08:48:44.720Z"
   },
   {
    "duration": 327,
    "start_time": "2022-07-05T08:48:44.742Z"
   },
   {
    "duration": 4,
    "start_time": "2022-07-05T08:48:45.071Z"
   },
   {
    "duration": 319,
    "start_time": "2022-07-05T08:48:45.076Z"
   },
   {
    "duration": 312,
    "start_time": "2022-07-05T08:48:45.397Z"
   },
   {
    "duration": 195,
    "start_time": "2022-07-05T08:48:45.710Z"
   },
   {
    "duration": 4,
    "start_time": "2022-07-05T08:48:45.906Z"
   },
   {
    "duration": 14,
    "start_time": "2022-07-05T08:48:45.911Z"
   },
   {
    "duration": 22,
    "start_time": "2022-07-05T08:48:45.926Z"
   },
   {
    "duration": 9,
    "start_time": "2022-07-05T08:48:45.950Z"
   },
   {
    "duration": 94,
    "start_time": "2022-07-05T08:48:45.960Z"
   },
   {
    "duration": 14,
    "start_time": "2022-07-05T08:48:56.916Z"
   },
   {
    "duration": 14,
    "start_time": "2022-07-05T08:50:43.057Z"
   },
   {
    "duration": 17,
    "start_time": "2022-07-05T08:50:54.028Z"
   },
   {
    "duration": 8,
    "start_time": "2022-07-05T09:02:32.793Z"
   },
   {
    "duration": 9,
    "start_time": "2022-07-05T09:02:37.387Z"
   },
   {
    "duration": 9,
    "start_time": "2022-07-05T09:03:00.166Z"
   },
   {
    "duration": 8,
    "start_time": "2022-07-05T09:04:17.163Z"
   },
   {
    "duration": 958,
    "start_time": "2022-07-05T09:04:23.564Z"
   },
   {
    "duration": 15,
    "start_time": "2022-07-05T09:05:02.158Z"
   },
   {
    "duration": 16,
    "start_time": "2022-07-05T09:19:32.281Z"
   },
   {
    "duration": 3,
    "start_time": "2022-07-05T09:20:12.852Z"
   },
   {
    "duration": 374,
    "start_time": "2022-07-05T09:20:12.859Z"
   },
   {
    "duration": 66,
    "start_time": "2022-07-05T09:20:13.235Z"
   },
   {
    "duration": 22,
    "start_time": "2022-07-05T09:20:13.303Z"
   },
   {
    "duration": 388,
    "start_time": "2022-07-05T09:20:13.327Z"
   },
   {
    "duration": 131,
    "start_time": "2022-07-05T09:20:13.717Z"
   },
   {
    "duration": 21,
    "start_time": "2022-07-05T09:20:13.850Z"
   },
   {
    "duration": 125,
    "start_time": "2022-07-05T09:20:13.873Z"
   },
   {
    "duration": 15,
    "start_time": "2022-07-05T09:20:13.999Z"
   },
   {
    "duration": 38,
    "start_time": "2022-07-05T09:20:14.016Z"
   },
   {
    "duration": 12,
    "start_time": "2022-07-05T09:20:14.056Z"
   },
   {
    "duration": 15,
    "start_time": "2022-07-05T09:20:14.070Z"
   },
   {
    "duration": 8,
    "start_time": "2022-07-05T09:20:14.087Z"
   },
   {
    "duration": 220,
    "start_time": "2022-07-05T09:20:14.097Z"
   },
   {
    "duration": 58,
    "start_time": "2022-07-05T09:20:14.319Z"
   },
   {
    "duration": 95,
    "start_time": "2022-07-05T09:20:14.379Z"
   },
   {
    "duration": 7,
    "start_time": "2022-07-05T09:20:14.477Z"
   },
   {
    "duration": 90,
    "start_time": "2022-07-05T09:20:14.486Z"
   },
   {
    "duration": 15,
    "start_time": "2022-07-05T09:20:14.578Z"
   },
   {
    "duration": 107,
    "start_time": "2022-07-05T09:20:14.595Z"
   },
   {
    "duration": 445,
    "start_time": "2022-07-05T09:20:14.704Z"
   },
   {
    "duration": 24,
    "start_time": "2022-07-05T09:20:15.151Z"
   },
   {
    "duration": 202,
    "start_time": "2022-07-05T09:20:15.177Z"
   },
   {
    "duration": 944,
    "start_time": "2022-07-05T09:20:15.380Z"
   },
   {
    "duration": 24,
    "start_time": "2022-07-05T09:20:16.326Z"
   },
   {
    "duration": 42,
    "start_time": "2022-07-05T09:20:16.352Z"
   },
   {
    "duration": 64,
    "start_time": "2022-07-05T09:20:16.396Z"
   },
   {
    "duration": 27,
    "start_time": "2022-07-05T09:20:16.462Z"
   },
   {
    "duration": 22,
    "start_time": "2022-07-05T09:20:16.492Z"
   },
   {
    "duration": 67,
    "start_time": "2022-07-05T09:20:16.516Z"
   },
   {
    "duration": 6,
    "start_time": "2022-07-05T09:20:16.584Z"
   },
   {
    "duration": 396,
    "start_time": "2022-07-05T09:20:16.591Z"
   },
   {
    "duration": 391,
    "start_time": "2022-07-05T09:20:16.988Z"
   },
   {
    "duration": 3,
    "start_time": "2022-07-05T09:20:17.381Z"
   },
   {
    "duration": 9,
    "start_time": "2022-07-05T09:20:17.385Z"
   },
   {
    "duration": 415,
    "start_time": "2022-07-05T09:20:17.396Z"
   },
   {
    "duration": 243,
    "start_time": "2022-07-05T09:20:17.813Z"
   },
   {
    "duration": 14,
    "start_time": "2022-07-05T09:20:18.058Z"
   },
   {
    "duration": 397,
    "start_time": "2022-07-05T09:20:18.073Z"
   },
   {
    "duration": 5,
    "start_time": "2022-07-05T09:20:18.471Z"
   },
   {
    "duration": 399,
    "start_time": "2022-07-05T09:20:18.477Z"
   },
   {
    "duration": 464,
    "start_time": "2022-07-05T09:20:18.878Z"
   },
   {
    "duration": 230,
    "start_time": "2022-07-05T09:20:19.344Z"
   },
   {
    "duration": 4,
    "start_time": "2022-07-05T09:20:19.575Z"
   },
   {
    "duration": 20,
    "start_time": "2022-07-05T09:20:19.580Z"
   },
   {
    "duration": 22,
    "start_time": "2022-07-05T09:20:19.602Z"
   },
   {
    "duration": 15,
    "start_time": "2022-07-05T09:20:19.626Z"
   },
   {
    "duration": 17,
    "start_time": "2022-07-05T09:20:22.570Z"
   },
   {
    "duration": 10,
    "start_time": "2022-07-05T09:21:04.741Z"
   },
   {
    "duration": 9,
    "start_time": "2022-07-05T09:21:47.475Z"
   },
   {
    "duration": 9,
    "start_time": "2022-07-05T09:21:58.086Z"
   },
   {
    "duration": 9,
    "start_time": "2022-07-05T09:24:00.681Z"
   },
   {
    "duration": 3,
    "start_time": "2022-07-05T09:24:08.282Z"
   },
   {
    "duration": 3,
    "start_time": "2022-07-05T09:24:26.238Z"
   },
   {
    "duration": 9,
    "start_time": "2022-07-05T09:24:33.918Z"
   },
   {
    "duration": 10,
    "start_time": "2022-07-05T09:24:40.879Z"
   },
   {
    "duration": 14,
    "start_time": "2022-07-05T09:25:06.377Z"
   },
   {
    "duration": 6,
    "start_time": "2022-07-05T09:25:38.095Z"
   },
   {
    "duration": 6,
    "start_time": "2022-07-05T09:27:14.153Z"
   },
   {
    "duration": 7,
    "start_time": "2022-07-05T09:27:36.744Z"
   },
   {
    "duration": 6,
    "start_time": "2022-07-05T09:28:21.141Z"
   },
   {
    "duration": 3,
    "start_time": "2022-07-05T09:28:35.433Z"
   },
   {
    "duration": 357,
    "start_time": "2022-07-05T09:28:35.438Z"
   },
   {
    "duration": 67,
    "start_time": "2022-07-05T09:28:35.797Z"
   },
   {
    "duration": 21,
    "start_time": "2022-07-05T09:28:35.866Z"
   },
   {
    "duration": 371,
    "start_time": "2022-07-05T09:28:35.889Z"
   },
   {
    "duration": 114,
    "start_time": "2022-07-05T09:28:36.261Z"
   },
   {
    "duration": 18,
    "start_time": "2022-07-05T09:28:36.377Z"
   },
   {
    "duration": 106,
    "start_time": "2022-07-05T09:28:36.396Z"
   },
   {
    "duration": 14,
    "start_time": "2022-07-05T09:28:36.504Z"
   },
   {
    "duration": 43,
    "start_time": "2022-07-05T09:28:36.520Z"
   },
   {
    "duration": 10,
    "start_time": "2022-07-05T09:28:36.565Z"
   },
   {
    "duration": 18,
    "start_time": "2022-07-05T09:28:36.577Z"
   },
   {
    "duration": 8,
    "start_time": "2022-07-05T09:28:36.596Z"
   },
   {
    "duration": 100,
    "start_time": "2022-07-05T09:28:36.605Z"
   },
   {
    "duration": 47,
    "start_time": "2022-07-05T09:28:36.707Z"
   },
   {
    "duration": 44,
    "start_time": "2022-07-05T09:28:36.755Z"
   },
   {
    "duration": 6,
    "start_time": "2022-07-05T09:28:36.801Z"
   },
   {
    "duration": 82,
    "start_time": "2022-07-05T09:28:36.808Z"
   },
   {
    "duration": 11,
    "start_time": "2022-07-05T09:28:36.892Z"
   },
   {
    "duration": 85,
    "start_time": "2022-07-05T09:28:36.905Z"
   },
   {
    "duration": 431,
    "start_time": "2022-07-05T09:28:36.992Z"
   },
   {
    "duration": 29,
    "start_time": "2022-07-05T09:28:37.425Z"
   },
   {
    "duration": 187,
    "start_time": "2022-07-05T09:28:37.455Z"
   },
   {
    "duration": 956,
    "start_time": "2022-07-05T09:28:37.644Z"
   },
   {
    "duration": 19,
    "start_time": "2022-07-05T09:28:38.601Z"
   },
   {
    "duration": 58,
    "start_time": "2022-07-05T09:28:38.622Z"
   },
   {
    "duration": 44,
    "start_time": "2022-07-05T09:28:38.682Z"
   },
   {
    "duration": 43,
    "start_time": "2022-07-05T09:28:38.730Z"
   },
   {
    "duration": 28,
    "start_time": "2022-07-05T09:28:38.775Z"
   },
   {
    "duration": 73,
    "start_time": "2022-07-05T09:28:38.805Z"
   },
   {
    "duration": 6,
    "start_time": "2022-07-05T09:28:38.880Z"
   },
   {
    "duration": 394,
    "start_time": "2022-07-05T09:28:38.888Z"
   },
   {
    "duration": 387,
    "start_time": "2022-07-05T09:28:39.284Z"
   },
   {
    "duration": 3,
    "start_time": "2022-07-05T09:28:39.672Z"
   },
   {
    "duration": 8,
    "start_time": "2022-07-05T09:28:39.677Z"
   },
   {
    "duration": 407,
    "start_time": "2022-07-05T09:28:39.686Z"
   },
   {
    "duration": 337,
    "start_time": "2022-07-05T09:28:40.095Z"
   },
   {
    "duration": 20,
    "start_time": "2022-07-05T09:28:40.433Z"
   },
   {
    "duration": 382,
    "start_time": "2022-07-05T09:28:40.455Z"
   },
   {
    "duration": 4,
    "start_time": "2022-07-05T09:28:40.841Z"
   },
   {
    "duration": 375,
    "start_time": "2022-07-05T09:28:40.847Z"
   },
   {
    "duration": 394,
    "start_time": "2022-07-05T09:28:41.224Z"
   },
   {
    "duration": 228,
    "start_time": "2022-07-05T09:28:41.620Z"
   },
   {
    "duration": 4,
    "start_time": "2022-07-05T09:28:41.850Z"
   },
   {
    "duration": 15,
    "start_time": "2022-07-05T09:28:41.856Z"
   },
   {
    "duration": 11,
    "start_time": "2022-07-05T09:28:41.873Z"
   },
   {
    "duration": 8,
    "start_time": "2022-07-05T09:28:41.886Z"
   },
   {
    "duration": 17,
    "start_time": "2022-07-05T09:28:51.795Z"
   },
   {
    "duration": 11,
    "start_time": "2022-07-05T09:29:04.300Z"
   },
   {
    "duration": 3,
    "start_time": "2022-07-05T09:29:41.386Z"
   },
   {
    "duration": 4,
    "start_time": "2022-07-05T09:29:47.277Z"
   },
   {
    "duration": 4,
    "start_time": "2022-07-05T09:30:04.653Z"
   },
   {
    "duration": 4,
    "start_time": "2022-07-05T09:30:18.419Z"
   },
   {
    "duration": 360,
    "start_time": "2022-07-05T09:30:18.425Z"
   },
   {
    "duration": 65,
    "start_time": "2022-07-05T09:30:18.787Z"
   },
   {
    "duration": 21,
    "start_time": "2022-07-05T09:30:18.853Z"
   },
   {
    "duration": 372,
    "start_time": "2022-07-05T09:30:18.876Z"
   },
   {
    "duration": 115,
    "start_time": "2022-07-05T09:30:19.250Z"
   },
   {
    "duration": 18,
    "start_time": "2022-07-05T09:30:19.367Z"
   },
   {
    "duration": 108,
    "start_time": "2022-07-05T09:30:19.387Z"
   },
   {
    "duration": 14,
    "start_time": "2022-07-05T09:30:19.497Z"
   },
   {
    "duration": 47,
    "start_time": "2022-07-05T09:30:19.513Z"
   },
   {
    "duration": 11,
    "start_time": "2022-07-05T09:30:19.562Z"
   },
   {
    "duration": 16,
    "start_time": "2022-07-05T09:30:19.574Z"
   },
   {
    "duration": 5,
    "start_time": "2022-07-05T09:30:19.593Z"
   },
   {
    "duration": 102,
    "start_time": "2022-07-05T09:30:19.600Z"
   },
   {
    "duration": 44,
    "start_time": "2022-07-05T09:30:19.704Z"
   },
   {
    "duration": 43,
    "start_time": "2022-07-05T09:30:19.749Z"
   },
   {
    "duration": 6,
    "start_time": "2022-07-05T09:30:19.793Z"
   },
   {
    "duration": 76,
    "start_time": "2022-07-05T09:30:19.800Z"
   },
   {
    "duration": 11,
    "start_time": "2022-07-05T09:30:19.878Z"
   },
   {
    "duration": 98,
    "start_time": "2022-07-05T09:30:19.890Z"
   },
   {
    "duration": 442,
    "start_time": "2022-07-05T09:30:19.989Z"
   },
   {
    "duration": 23,
    "start_time": "2022-07-05T09:30:20.443Z"
   },
   {
    "duration": 191,
    "start_time": "2022-07-05T09:30:20.468Z"
   },
   {
    "duration": 988,
    "start_time": "2022-07-05T09:30:20.661Z"
   },
   {
    "duration": 20,
    "start_time": "2022-07-05T09:30:21.650Z"
   },
   {
    "duration": 43,
    "start_time": "2022-07-05T09:30:21.672Z"
   },
   {
    "duration": 65,
    "start_time": "2022-07-05T09:30:21.716Z"
   },
   {
    "duration": 27,
    "start_time": "2022-07-05T09:30:21.782Z"
   },
   {
    "duration": 44,
    "start_time": "2022-07-05T09:30:21.810Z"
   },
   {
    "duration": 46,
    "start_time": "2022-07-05T09:30:21.856Z"
   },
   {
    "duration": 5,
    "start_time": "2022-07-05T09:30:21.904Z"
   },
   {
    "duration": 485,
    "start_time": "2022-07-05T09:30:21.910Z"
   },
   {
    "duration": 384,
    "start_time": "2022-07-05T09:30:22.397Z"
   },
   {
    "duration": 3,
    "start_time": "2022-07-05T09:30:22.783Z"
   },
   {
    "duration": 7,
    "start_time": "2022-07-05T09:30:22.788Z"
   },
   {
    "duration": 415,
    "start_time": "2022-07-05T09:30:22.796Z"
   },
   {
    "duration": 239,
    "start_time": "2022-07-05T09:30:23.214Z"
   },
   {
    "duration": 13,
    "start_time": "2022-07-05T09:30:23.455Z"
   },
   {
    "duration": 404,
    "start_time": "2022-07-05T09:30:23.470Z"
   },
   {
    "duration": 4,
    "start_time": "2022-07-05T09:30:23.876Z"
   },
   {
    "duration": 391,
    "start_time": "2022-07-05T09:30:23.881Z"
   },
   {
    "duration": 544,
    "start_time": "2022-07-05T09:30:24.274Z"
   },
   {
    "duration": 212,
    "start_time": "2022-07-05T09:30:24.820Z"
   },
   {
    "duration": 11,
    "start_time": "2022-07-05T09:30:25.034Z"
   },
   {
    "duration": 22,
    "start_time": "2022-07-05T09:30:25.046Z"
   },
   {
    "duration": 9,
    "start_time": "2022-07-05T09:30:25.069Z"
   },
   {
    "duration": 11,
    "start_time": "2022-07-05T09:30:25.080Z"
   },
   {
    "duration": 18,
    "start_time": "2022-07-05T09:30:25.093Z"
   },
   {
    "duration": 34,
    "start_time": "2022-07-05T09:31:11.743Z"
   },
   {
    "duration": 43,
    "start_time": "2022-07-05T09:32:31.505Z"
   },
   {
    "duration": 22,
    "start_time": "2022-07-05T09:32:45.523Z"
   },
   {
    "duration": 43,
    "start_time": "2022-07-05T09:32:50.106Z"
   },
   {
    "duration": 34,
    "start_time": "2022-07-05T09:34:19.297Z"
   },
   {
    "duration": 23,
    "start_time": "2022-07-05T09:35:00.490Z"
   },
   {
    "duration": 19,
    "start_time": "2022-07-05T09:35:18.524Z"
   },
   {
    "duration": 20,
    "start_time": "2022-07-05T09:36:08.316Z"
   },
   {
    "duration": 8,
    "start_time": "2022-07-05T09:38:36.474Z"
   },
   {
    "duration": 18,
    "start_time": "2022-07-05T09:38:42.501Z"
   },
   {
    "duration": 5,
    "start_time": "2022-07-05T09:41:53.038Z"
   },
   {
    "duration": 5,
    "start_time": "2022-07-05T09:42:35.211Z"
   },
   {
    "duration": 6,
    "start_time": "2022-07-05T09:43:37.554Z"
   },
   {
    "duration": 1156,
    "start_time": "2022-07-05T11:22:12.852Z"
   },
   {
    "duration": 1351,
    "start_time": "2022-07-05T11:22:14.010Z"
   },
   {
    "duration": 71,
    "start_time": "2022-07-05T11:22:15.363Z"
   },
   {
    "duration": 26,
    "start_time": "2022-07-05T11:22:15.436Z"
   },
   {
    "duration": 415,
    "start_time": "2022-07-05T11:22:15.464Z"
   },
   {
    "duration": 112,
    "start_time": "2022-07-05T11:22:15.881Z"
   },
   {
    "duration": 26,
    "start_time": "2022-07-05T11:22:15.994Z"
   },
   {
    "duration": 144,
    "start_time": "2022-07-05T11:22:16.021Z"
   },
   {
    "duration": 16,
    "start_time": "2022-07-05T11:22:16.168Z"
   },
   {
    "duration": 94,
    "start_time": "2022-07-05T11:22:16.187Z"
   },
   {
    "duration": 51,
    "start_time": "2022-07-05T11:22:16.283Z"
   },
   {
    "duration": 58,
    "start_time": "2022-07-05T11:22:16.336Z"
   },
   {
    "duration": 23,
    "start_time": "2022-07-05T11:22:16.396Z"
   },
   {
    "duration": 104,
    "start_time": "2022-07-05T11:22:16.421Z"
   },
   {
    "duration": 40,
    "start_time": "2022-07-05T11:22:16.527Z"
   },
   {
    "duration": 59,
    "start_time": "2022-07-05T11:22:16.568Z"
   },
   {
    "duration": 5,
    "start_time": "2022-07-05T11:22:16.628Z"
   },
   {
    "duration": 79,
    "start_time": "2022-07-05T11:22:16.635Z"
   },
   {
    "duration": 10,
    "start_time": "2022-07-05T11:22:16.716Z"
   },
   {
    "duration": 112,
    "start_time": "2022-07-05T11:22:16.728Z"
   },
   {
    "duration": 443,
    "start_time": "2022-07-05T11:22:16.843Z"
   },
   {
    "duration": 30,
    "start_time": "2022-07-05T11:22:17.288Z"
   },
   {
    "duration": 185,
    "start_time": "2022-07-05T11:22:17.320Z"
   },
   {
    "duration": 930,
    "start_time": "2022-07-05T11:22:17.507Z"
   },
   {
    "duration": 19,
    "start_time": "2022-07-05T11:22:18.438Z"
   },
   {
    "duration": 58,
    "start_time": "2022-07-05T11:22:18.459Z"
   },
   {
    "duration": 46,
    "start_time": "2022-07-05T11:22:18.518Z"
   },
   {
    "duration": 42,
    "start_time": "2022-07-05T11:22:18.568Z"
   },
   {
    "duration": 23,
    "start_time": "2022-07-05T11:22:18.611Z"
   },
   {
    "duration": 44,
    "start_time": "2022-07-05T11:22:18.635Z"
   },
   {
    "duration": 6,
    "start_time": "2022-07-05T11:22:18.681Z"
   },
   {
    "duration": 365,
    "start_time": "2022-07-05T11:22:18.704Z"
   },
   {
    "duration": 374,
    "start_time": "2022-07-05T11:22:19.071Z"
   },
   {
    "duration": 2,
    "start_time": "2022-07-05T11:22:19.448Z"
   },
   {
    "duration": 24,
    "start_time": "2022-07-05T11:22:19.452Z"
   },
   {
    "duration": 483,
    "start_time": "2022-07-05T11:22:19.477Z"
   },
   {
    "duration": 251,
    "start_time": "2022-07-05T11:22:19.962Z"
   },
   {
    "duration": 14,
    "start_time": "2022-07-05T11:22:20.215Z"
   },
   {
    "duration": 376,
    "start_time": "2022-07-05T11:22:20.230Z"
   },
   {
    "duration": 4,
    "start_time": "2022-07-05T11:22:20.608Z"
   },
   {
    "duration": 362,
    "start_time": "2022-07-05T11:22:20.613Z"
   },
   {
    "duration": 362,
    "start_time": "2022-07-05T11:22:20.977Z"
   },
   {
    "duration": 210,
    "start_time": "2022-07-05T11:22:21.341Z"
   },
   {
    "duration": 5,
    "start_time": "2022-07-05T11:22:21.553Z"
   },
   {
    "duration": 90,
    "start_time": "2022-07-05T11:22:21.559Z"
   },
   {
    "duration": 84,
    "start_time": "2022-07-05T11:22:21.651Z"
   },
   {
    "duration": 93,
    "start_time": "2022-07-05T11:22:21.737Z"
   },
   {
    "duration": 103,
    "start_time": "2022-07-05T11:22:21.832Z"
   },
   {
    "duration": 116,
    "start_time": "2022-07-05T11:22:21.937Z"
   },
   {
    "duration": 59,
    "start_time": "2022-07-05T11:22:22.055Z"
   },
   {
    "duration": 1314,
    "start_time": "2022-07-05T11:27:45.145Z"
   },
   {
    "duration": 526,
    "start_time": "2022-07-05T11:27:46.462Z"
   },
   {
    "duration": 65,
    "start_time": "2022-07-05T11:27:46.990Z"
   },
   {
    "duration": 22,
    "start_time": "2022-07-05T11:27:47.057Z"
   },
   {
    "duration": 412,
    "start_time": "2022-07-05T11:27:47.080Z"
   },
   {
    "duration": 132,
    "start_time": "2022-07-05T11:27:47.493Z"
   },
   {
    "duration": 20,
    "start_time": "2022-07-05T11:27:47.627Z"
   },
   {
    "duration": 121,
    "start_time": "2022-07-05T11:27:47.649Z"
   },
   {
    "duration": 17,
    "start_time": "2022-07-05T11:27:47.772Z"
   },
   {
    "duration": 33,
    "start_time": "2022-07-05T11:27:47.804Z"
   },
   {
    "duration": 13,
    "start_time": "2022-07-05T11:27:47.839Z"
   },
   {
    "duration": 15,
    "start_time": "2022-07-05T11:27:47.854Z"
   },
   {
    "duration": 36,
    "start_time": "2022-07-05T11:27:47.871Z"
   },
   {
    "duration": 110,
    "start_time": "2022-07-05T11:27:47.909Z"
   },
   {
    "duration": 40,
    "start_time": "2022-07-05T11:27:48.021Z"
   },
   {
    "duration": 64,
    "start_time": "2022-07-05T11:27:48.062Z"
   },
   {
    "duration": 7,
    "start_time": "2022-07-05T11:27:48.127Z"
   },
   {
    "duration": 75,
    "start_time": "2022-07-05T11:27:48.135Z"
   },
   {
    "duration": 11,
    "start_time": "2022-07-05T11:27:48.211Z"
   },
   {
    "duration": 104,
    "start_time": "2022-07-05T11:27:48.223Z"
   },
   {
    "duration": 466,
    "start_time": "2022-07-05T11:27:48.328Z"
   },
   {
    "duration": 25,
    "start_time": "2022-07-05T11:27:48.795Z"
   },
   {
    "duration": 214,
    "start_time": "2022-07-05T11:27:48.822Z"
   },
   {
    "duration": 990,
    "start_time": "2022-07-05T11:27:49.038Z"
   },
   {
    "duration": 24,
    "start_time": "2022-07-05T11:27:50.030Z"
   },
   {
    "duration": 63,
    "start_time": "2022-07-05T11:27:50.056Z"
   },
   {
    "duration": 65,
    "start_time": "2022-07-05T11:27:50.121Z"
   },
   {
    "duration": 32,
    "start_time": "2022-07-05T11:27:50.203Z"
   },
   {
    "duration": 22,
    "start_time": "2022-07-05T11:27:50.237Z"
   },
   {
    "duration": 67,
    "start_time": "2022-07-05T11:27:50.261Z"
   },
   {
    "duration": 4,
    "start_time": "2022-07-05T11:27:50.330Z"
   },
   {
    "duration": 381,
    "start_time": "2022-07-05T11:27:50.336Z"
   },
   {
    "duration": 393,
    "start_time": "2022-07-05T11:27:50.719Z"
   },
   {
    "duration": 2,
    "start_time": "2022-07-05T11:27:51.114Z"
   },
   {
    "duration": 8,
    "start_time": "2022-07-05T11:27:51.118Z"
   },
   {
    "duration": 519,
    "start_time": "2022-07-05T11:27:51.128Z"
   },
   {
    "duration": 242,
    "start_time": "2022-07-05T11:27:51.649Z"
   },
   {
    "duration": 22,
    "start_time": "2022-07-05T11:27:51.892Z"
   },
   {
    "duration": 410,
    "start_time": "2022-07-05T11:27:51.916Z"
   },
   {
    "duration": 4,
    "start_time": "2022-07-05T11:27:52.328Z"
   },
   {
    "duration": 376,
    "start_time": "2022-07-05T11:27:52.333Z"
   },
   {
    "duration": 382,
    "start_time": "2022-07-05T11:27:52.711Z"
   },
   {
    "duration": 230,
    "start_time": "2022-07-05T11:27:53.094Z"
   },
   {
    "duration": 4,
    "start_time": "2022-07-05T11:27:53.326Z"
   },
   {
    "duration": 14,
    "start_time": "2022-07-05T11:27:53.331Z"
   },
   {
    "duration": 10,
    "start_time": "2022-07-05T11:27:53.347Z"
   },
   {
    "duration": 7,
    "start_time": "2022-07-05T11:27:53.358Z"
   },
   {
    "duration": 43,
    "start_time": "2022-07-05T11:27:53.366Z"
   },
   {
    "duration": 19,
    "start_time": "2022-07-05T11:27:53.410Z"
   },
   {
    "duration": 5,
    "start_time": "2022-07-05T11:27:53.431Z"
   },
   {
    "duration": 14,
    "start_time": "2022-07-05T11:36:46.074Z"
   },
   {
    "duration": 5,
    "start_time": "2022-07-05T11:46:15.635Z"
   },
   {
    "duration": 6,
    "start_time": "2022-07-05T11:46:23.675Z"
   },
   {
    "duration": 4,
    "start_time": "2022-07-05T11:46:31.620Z"
   },
   {
    "duration": 5,
    "start_time": "2022-07-05T11:46:34.651Z"
   },
   {
    "duration": 4,
    "start_time": "2022-07-05T11:46:40.452Z"
   },
   {
    "duration": 4,
    "start_time": "2022-07-05T11:46:43.354Z"
   },
   {
    "duration": 5,
    "start_time": "2022-07-05T11:47:12.485Z"
   },
   {
    "duration": 4,
    "start_time": "2022-07-05T11:47:21.196Z"
   },
   {
    "duration": 1346,
    "start_time": "2022-07-05T12:16:29.022Z"
   },
   {
    "duration": 1600,
    "start_time": "2022-07-05T12:16:30.370Z"
   },
   {
    "duration": 64,
    "start_time": "2022-07-05T12:16:31.976Z"
   },
   {
    "duration": 29,
    "start_time": "2022-07-05T12:16:32.042Z"
   },
   {
    "duration": 445,
    "start_time": "2022-07-05T12:16:32.073Z"
   },
   {
    "duration": 125,
    "start_time": "2022-07-05T12:16:32.519Z"
   },
   {
    "duration": 37,
    "start_time": "2022-07-05T12:16:32.645Z"
   },
   {
    "duration": 108,
    "start_time": "2022-07-05T12:16:32.683Z"
   },
   {
    "duration": 0,
    "start_time": "2022-07-05T12:16:32.793Z"
   },
   {
    "duration": 0,
    "start_time": "2022-07-05T12:16:32.794Z"
   },
   {
    "duration": 0,
    "start_time": "2022-07-05T12:16:32.795Z"
   },
   {
    "duration": 0,
    "start_time": "2022-07-05T12:16:32.797Z"
   },
   {
    "duration": 0,
    "start_time": "2022-07-05T12:16:32.798Z"
   },
   {
    "duration": 2,
    "start_time": "2022-07-05T12:16:43.905Z"
   },
   {
    "duration": 409,
    "start_time": "2022-07-05T12:16:43.909Z"
   },
   {
    "duration": 66,
    "start_time": "2022-07-05T12:16:44.319Z"
   },
   {
    "duration": 19,
    "start_time": "2022-07-05T12:16:44.386Z"
   },
   {
    "duration": 416,
    "start_time": "2022-07-05T12:16:44.407Z"
   },
   {
    "duration": 110,
    "start_time": "2022-07-05T12:16:44.825Z"
   },
   {
    "duration": 26,
    "start_time": "2022-07-05T12:16:44.936Z"
   },
   {
    "duration": 109,
    "start_time": "2022-07-05T12:16:44.963Z"
   },
   {
    "duration": 0,
    "start_time": "2022-07-05T12:16:45.075Z"
   },
   {
    "duration": 0,
    "start_time": "2022-07-05T12:16:45.076Z"
   },
   {
    "duration": 0,
    "start_time": "2022-07-05T12:16:45.076Z"
   },
   {
    "duration": 0,
    "start_time": "2022-07-05T12:16:45.078Z"
   },
   {
    "duration": 0,
    "start_time": "2022-07-05T12:16:45.079Z"
   },
   {
    "duration": 0,
    "start_time": "2022-07-05T12:16:45.080Z"
   },
   {
    "duration": 0,
    "start_time": "2022-07-05T12:16:45.082Z"
   },
   {
    "duration": 0,
    "start_time": "2022-07-05T12:16:45.083Z"
   },
   {
    "duration": 0,
    "start_time": "2022-07-05T12:16:45.085Z"
   },
   {
    "duration": 0,
    "start_time": "2022-07-05T12:16:45.087Z"
   },
   {
    "duration": 0,
    "start_time": "2022-07-05T12:16:45.088Z"
   },
   {
    "duration": 0,
    "start_time": "2022-07-05T12:16:45.090Z"
   },
   {
    "duration": 0,
    "start_time": "2022-07-05T12:16:45.091Z"
   },
   {
    "duration": 0,
    "start_time": "2022-07-05T12:16:45.092Z"
   },
   {
    "duration": 0,
    "start_time": "2022-07-05T12:16:45.094Z"
   },
   {
    "duration": 0,
    "start_time": "2022-07-05T12:16:45.095Z"
   },
   {
    "duration": 0,
    "start_time": "2022-07-05T12:16:45.097Z"
   },
   {
    "duration": 0,
    "start_time": "2022-07-05T12:16:45.098Z"
   },
   {
    "duration": 0,
    "start_time": "2022-07-05T12:16:45.098Z"
   },
   {
    "duration": 0,
    "start_time": "2022-07-05T12:16:45.100Z"
   },
   {
    "duration": 0,
    "start_time": "2022-07-05T12:16:45.101Z"
   },
   {
    "duration": 0,
    "start_time": "2022-07-05T12:16:45.102Z"
   },
   {
    "duration": 0,
    "start_time": "2022-07-05T12:16:45.103Z"
   },
   {
    "duration": 0,
    "start_time": "2022-07-05T12:16:45.105Z"
   },
   {
    "duration": 0,
    "start_time": "2022-07-05T12:16:45.106Z"
   },
   {
    "duration": 0,
    "start_time": "2022-07-05T12:16:45.107Z"
   },
   {
    "duration": 0,
    "start_time": "2022-07-05T12:16:45.109Z"
   },
   {
    "duration": 0,
    "start_time": "2022-07-05T12:16:45.110Z"
   },
   {
    "duration": 0,
    "start_time": "2022-07-05T12:16:45.111Z"
   },
   {
    "duration": 0,
    "start_time": "2022-07-05T12:16:45.112Z"
   },
   {
    "duration": 0,
    "start_time": "2022-07-05T12:16:45.113Z"
   },
   {
    "duration": 0,
    "start_time": "2022-07-05T12:16:45.152Z"
   },
   {
    "duration": 0,
    "start_time": "2022-07-05T12:16:45.152Z"
   },
   {
    "duration": 0,
    "start_time": "2022-07-05T12:16:45.153Z"
   },
   {
    "duration": 0,
    "start_time": "2022-07-05T12:16:45.154Z"
   },
   {
    "duration": 0,
    "start_time": "2022-07-05T12:16:45.154Z"
   },
   {
    "duration": 0,
    "start_time": "2022-07-05T12:16:45.155Z"
   },
   {
    "duration": 0,
    "start_time": "2022-07-05T12:16:45.155Z"
   },
   {
    "duration": 0,
    "start_time": "2022-07-05T12:16:45.156Z"
   },
   {
    "duration": 0,
    "start_time": "2022-07-05T12:16:45.156Z"
   },
   {
    "duration": 0,
    "start_time": "2022-07-05T12:16:45.158Z"
   },
   {
    "duration": 0,
    "start_time": "2022-07-05T12:16:45.159Z"
   },
   {
    "duration": 3,
    "start_time": "2022-07-05T12:17:06.357Z"
   },
   {
    "duration": 461,
    "start_time": "2022-07-05T12:17:07.141Z"
   },
   {
    "duration": 62,
    "start_time": "2022-07-05T12:17:08.078Z"
   },
   {
    "duration": 20,
    "start_time": "2022-07-05T12:17:10.579Z"
   },
   {
    "duration": 436,
    "start_time": "2022-07-05T12:17:13.588Z"
   },
   {
    "duration": 120,
    "start_time": "2022-07-05T12:17:17.447Z"
   },
   {
    "duration": 104,
    "start_time": "2022-07-05T12:17:31.678Z"
   },
   {
    "duration": 25,
    "start_time": "2022-07-05T12:17:39.942Z"
   },
   {
    "duration": 84,
    "start_time": "2022-07-05T12:17:43.965Z"
   },
   {
    "duration": 35,
    "start_time": "2022-07-05T12:17:52.145Z"
   },
   {
    "duration": 121,
    "start_time": "2022-07-05T12:18:28.360Z"
   },
   {
    "duration": 16,
    "start_time": "2022-07-05T12:18:34.194Z"
   },
   {
    "duration": 42,
    "start_time": "2022-07-05T12:18:38.149Z"
   },
   {
    "duration": 26,
    "start_time": "2022-07-05T12:18:40.441Z"
   },
   {
    "duration": 19,
    "start_time": "2022-07-05T12:18:43.106Z"
   },
   {
    "duration": 6,
    "start_time": "2022-07-05T12:18:45.141Z"
   },
   {
    "duration": 189,
    "start_time": "2022-07-05T12:26:42.581Z"
   },
   {
    "duration": 200,
    "start_time": "2022-07-05T12:27:11.485Z"
   },
   {
    "duration": 99,
    "start_time": "2022-07-05T12:27:20.190Z"
   },
   {
    "duration": 39,
    "start_time": "2022-07-05T12:27:22.687Z"
   },
   {
    "duration": 37,
    "start_time": "2022-07-05T12:27:25.110Z"
   },
   {
    "duration": 6,
    "start_time": "2022-07-05T12:27:27.892Z"
   },
   {
    "duration": 77,
    "start_time": "2022-07-05T12:27:30.711Z"
   },
   {
    "duration": 14,
    "start_time": "2022-07-05T12:27:33.587Z"
   },
   {
    "duration": 1812,
    "start_time": "2022-07-05T12:27:37.832Z"
   },
   {
    "duration": 14,
    "start_time": "2022-07-05T12:27:39.931Z"
   },
   {
    "duration": 1222,
    "start_time": "2022-07-05T12:28:14.299Z"
   },
   {
    "duration": 483,
    "start_time": "2022-07-05T12:28:15.522Z"
   },
   {
    "duration": 91,
    "start_time": "2022-07-05T12:28:16.007Z"
   },
   {
    "duration": 33,
    "start_time": "2022-07-05T12:28:16.107Z"
   },
   {
    "duration": 543,
    "start_time": "2022-07-05T12:28:16.142Z"
   },
   {
    "duration": 112,
    "start_time": "2022-07-05T12:28:16.697Z"
   },
   {
    "duration": 16,
    "start_time": "2022-07-05T12:28:16.811Z"
   },
   {
    "duration": 127,
    "start_time": "2022-07-05T12:28:16.829Z"
   },
   {
    "duration": 23,
    "start_time": "2022-07-05T12:28:16.964Z"
   },
   {
    "duration": 54,
    "start_time": "2022-07-05T12:28:16.989Z"
   },
   {
    "duration": 16,
    "start_time": "2022-07-05T12:28:17.045Z"
   },
   {
    "duration": 56,
    "start_time": "2022-07-05T12:28:17.063Z"
   },
   {
    "duration": 6,
    "start_time": "2022-07-05T12:28:17.121Z"
   },
   {
    "duration": 189,
    "start_time": "2022-07-05T12:28:17.128Z"
   },
   {
    "duration": 105,
    "start_time": "2022-07-05T12:28:17.319Z"
   },
   {
    "duration": 48,
    "start_time": "2022-07-05T12:28:17.426Z"
   },
   {
    "duration": 49,
    "start_time": "2022-07-05T12:28:17.475Z"
   },
   {
    "duration": 4,
    "start_time": "2022-07-05T12:28:17.526Z"
   },
   {
    "duration": 82,
    "start_time": "2022-07-05T12:28:17.531Z"
   },
   {
    "duration": 5,
    "start_time": "2022-07-05T12:28:17.614Z"
   },
   {
    "duration": 101,
    "start_time": "2022-07-05T12:28:17.620Z"
   },
   {
    "duration": 501,
    "start_time": "2022-07-05T12:28:17.723Z"
   },
   {
    "duration": 38,
    "start_time": "2022-07-05T12:28:18.226Z"
   },
   {
    "duration": 221,
    "start_time": "2022-07-05T12:28:18.266Z"
   },
   {
    "duration": 1046,
    "start_time": "2022-07-05T12:28:18.488Z"
   },
   {
    "duration": 59,
    "start_time": "2022-07-05T12:28:19.536Z"
   },
   {
    "duration": 40,
    "start_time": "2022-07-05T12:28:19.597Z"
   },
   {
    "duration": 56,
    "start_time": "2022-07-05T12:28:19.640Z"
   },
   {
    "duration": 30,
    "start_time": "2022-07-05T12:28:19.698Z"
   },
   {
    "duration": 34,
    "start_time": "2022-07-05T12:28:19.730Z"
   },
   {
    "duration": 70,
    "start_time": "2022-07-05T12:28:19.772Z"
   },
   {
    "duration": 5,
    "start_time": "2022-07-05T12:28:19.844Z"
   },
   {
    "duration": 459,
    "start_time": "2022-07-05T12:28:19.850Z"
   },
   {
    "duration": 433,
    "start_time": "2022-07-05T12:28:20.311Z"
   },
   {
    "duration": 3,
    "start_time": "2022-07-05T12:28:20.761Z"
   },
   {
    "duration": 36,
    "start_time": "2022-07-05T12:28:20.765Z"
   },
   {
    "duration": 506,
    "start_time": "2022-07-05T12:28:20.803Z"
   },
   {
    "duration": 268,
    "start_time": "2022-07-05T12:28:21.311Z"
   },
   {
    "duration": 14,
    "start_time": "2022-07-05T12:28:21.580Z"
   },
   {
    "duration": 414,
    "start_time": "2022-07-05T12:28:21.596Z"
   },
   {
    "duration": 4,
    "start_time": "2022-07-05T12:28:22.011Z"
   },
   {
    "duration": 409,
    "start_time": "2022-07-05T12:28:22.017Z"
   },
   {
    "duration": 401,
    "start_time": "2022-07-05T12:28:22.428Z"
   },
   {
    "duration": 254,
    "start_time": "2022-07-05T12:28:22.831Z"
   },
   {
    "duration": 5,
    "start_time": "2022-07-05T12:28:23.090Z"
   },
   {
    "duration": 15,
    "start_time": "2022-07-05T12:28:23.096Z"
   },
   {
    "duration": 10,
    "start_time": "2022-07-05T12:28:23.113Z"
   },
   {
    "duration": 7,
    "start_time": "2022-07-05T12:28:23.125Z"
   },
   {
    "duration": 30,
    "start_time": "2022-07-05T12:28:23.134Z"
   },
   {
    "duration": 28,
    "start_time": "2022-07-05T12:28:23.172Z"
   },
   {
    "duration": 5,
    "start_time": "2022-07-05T12:28:23.202Z"
   },
   {
    "duration": 2,
    "start_time": "2022-07-05T12:37:07.033Z"
   },
   {
    "duration": 396,
    "start_time": "2022-07-05T12:37:20.439Z"
   },
   {
    "duration": 470,
    "start_time": "2022-07-05T12:37:31.291Z"
   },
   {
    "duration": 481,
    "start_time": "2022-07-05T12:40:50.038Z"
   },
   {
    "duration": 419,
    "start_time": "2022-07-05T12:41:11.405Z"
   },
   {
    "duration": 456,
    "start_time": "2022-07-05T12:41:17.707Z"
   },
   {
    "duration": 451,
    "start_time": "2022-07-05T12:41:23.039Z"
   },
   {
    "duration": 322,
    "start_time": "2022-07-05T12:47:03.047Z"
   },
   {
    "duration": 1357,
    "start_time": "2022-07-05T14:26:26.779Z"
   },
   {
    "duration": 456,
    "start_time": "2022-07-05T14:26:28.139Z"
   },
   {
    "duration": 77,
    "start_time": "2022-07-05T14:26:28.597Z"
   },
   {
    "duration": 33,
    "start_time": "2022-07-05T14:26:28.676Z"
   },
   {
    "duration": 468,
    "start_time": "2022-07-05T14:26:28.711Z"
   },
   {
    "duration": 130,
    "start_time": "2022-07-05T14:26:29.181Z"
   },
   {
    "duration": 20,
    "start_time": "2022-07-05T14:26:29.313Z"
   },
   {
    "duration": 121,
    "start_time": "2022-07-05T14:26:29.335Z"
   },
   {
    "duration": 17,
    "start_time": "2022-07-05T14:26:29.458Z"
   },
   {
    "duration": 52,
    "start_time": "2022-07-05T14:26:29.478Z"
   },
   {
    "duration": 13,
    "start_time": "2022-07-05T14:26:29.532Z"
   },
   {
    "duration": 20,
    "start_time": "2022-07-05T14:26:29.547Z"
   },
   {
    "duration": 13,
    "start_time": "2022-07-05T14:26:29.569Z"
   },
   {
    "duration": 244,
    "start_time": "2022-07-05T14:26:29.584Z"
   },
   {
    "duration": 110,
    "start_time": "2022-07-05T14:26:29.830Z"
   },
   {
    "duration": 43,
    "start_time": "2022-07-05T14:26:29.942Z"
   },
   {
    "duration": 54,
    "start_time": "2022-07-05T14:26:30.003Z"
   },
   {
    "duration": 7,
    "start_time": "2022-07-05T14:26:30.059Z"
   },
   {
    "duration": 115,
    "start_time": "2022-07-05T14:26:30.068Z"
   },
   {
    "duration": 12,
    "start_time": "2022-07-05T14:26:30.185Z"
   },
   {
    "duration": 191,
    "start_time": "2022-07-05T14:26:30.200Z"
   },
   {
    "duration": 483,
    "start_time": "2022-07-05T14:26:30.393Z"
   },
   {
    "duration": 37,
    "start_time": "2022-07-05T14:26:30.879Z"
   },
   {
    "duration": 242,
    "start_time": "2022-07-05T14:26:30.918Z"
   },
   {
    "duration": 1029,
    "start_time": "2022-07-05T14:26:31.162Z"
   },
   {
    "duration": 29,
    "start_time": "2022-07-05T14:26:32.193Z"
   },
   {
    "duration": 55,
    "start_time": "2022-07-05T14:26:32.223Z"
   },
   {
    "duration": 65,
    "start_time": "2022-07-05T14:26:32.282Z"
   },
   {
    "duration": 30,
    "start_time": "2022-07-05T14:26:32.349Z"
   },
   {
    "duration": 46,
    "start_time": "2022-07-05T14:26:32.381Z"
   },
   {
    "duration": 50,
    "start_time": "2022-07-05T14:26:32.429Z"
   },
   {
    "duration": 28,
    "start_time": "2022-07-05T14:26:32.480Z"
   },
   {
    "duration": 434,
    "start_time": "2022-07-05T14:26:32.510Z"
   },
   {
    "duration": 418,
    "start_time": "2022-07-05T14:26:32.945Z"
   },
   {
    "duration": 3,
    "start_time": "2022-07-05T14:26:33.364Z"
   },
   {
    "duration": 10,
    "start_time": "2022-07-05T14:26:33.368Z"
   },
   {
    "duration": 527,
    "start_time": "2022-07-05T14:26:33.379Z"
   },
   {
    "duration": 287,
    "start_time": "2022-07-05T14:26:33.908Z"
   },
   {
    "duration": 23,
    "start_time": "2022-07-05T14:26:34.198Z"
   },
   {
    "duration": 464,
    "start_time": "2022-07-05T14:26:34.223Z"
   },
   {
    "duration": 4,
    "start_time": "2022-07-05T14:26:34.690Z"
   },
   {
    "duration": 421,
    "start_time": "2022-07-05T14:26:34.703Z"
   },
   {
    "duration": 417,
    "start_time": "2022-07-05T14:26:35.126Z"
   },
   {
    "duration": 243,
    "start_time": "2022-07-05T14:26:35.545Z"
   },
   {
    "duration": 5,
    "start_time": "2022-07-05T14:26:35.790Z"
   },
   {
    "duration": 16,
    "start_time": "2022-07-05T14:26:35.805Z"
   },
   {
    "duration": 19,
    "start_time": "2022-07-05T14:26:35.822Z"
   },
   {
    "duration": 11,
    "start_time": "2022-07-05T14:26:35.843Z"
   },
   {
    "duration": 50,
    "start_time": "2022-07-05T14:26:35.855Z"
   },
   {
    "duration": 22,
    "start_time": "2022-07-05T14:26:35.907Z"
   },
   {
    "duration": 8,
    "start_time": "2022-07-05T14:26:35.930Z"
   },
   {
    "duration": 1177,
    "start_time": "2022-07-05T14:33:04.969Z"
   },
   {
    "duration": 425,
    "start_time": "2022-07-05T14:33:06.148Z"
   },
   {
    "duration": 94,
    "start_time": "2022-07-05T14:33:06.576Z"
   },
   {
    "duration": 39,
    "start_time": "2022-07-05T14:33:06.672Z"
   },
   {
    "duration": 438,
    "start_time": "2022-07-05T14:33:06.714Z"
   },
   {
    "duration": 116,
    "start_time": "2022-07-05T14:33:07.154Z"
   },
   {
    "duration": 32,
    "start_time": "2022-07-05T14:33:07.272Z"
   },
   {
    "duration": 113,
    "start_time": "2022-07-05T14:33:07.306Z"
   },
   {
    "duration": 15,
    "start_time": "2022-07-05T14:33:07.421Z"
   },
   {
    "duration": 34,
    "start_time": "2022-07-05T14:33:07.439Z"
   },
   {
    "duration": 36,
    "start_time": "2022-07-05T14:33:07.475Z"
   },
   {
    "duration": 17,
    "start_time": "2022-07-05T14:33:07.513Z"
   },
   {
    "duration": 6,
    "start_time": "2022-07-05T14:33:07.532Z"
   },
   {
    "duration": 235,
    "start_time": "2022-07-05T14:33:07.540Z"
   },
   {
    "duration": 111,
    "start_time": "2022-07-05T14:33:07.776Z"
   },
   {
    "duration": 55,
    "start_time": "2022-07-05T14:33:07.889Z"
   },
   {
    "duration": 69,
    "start_time": "2022-07-05T14:33:07.945Z"
   },
   {
    "duration": 8,
    "start_time": "2022-07-05T14:33:08.016Z"
   },
   {
    "duration": 83,
    "start_time": "2022-07-05T14:33:08.026Z"
   },
   {
    "duration": 7,
    "start_time": "2022-07-05T14:33:08.111Z"
   },
   {
    "duration": 103,
    "start_time": "2022-07-05T14:33:08.120Z"
   },
   {
    "duration": 452,
    "start_time": "2022-07-05T14:33:08.225Z"
   },
   {
    "duration": 33,
    "start_time": "2022-07-05T14:33:08.679Z"
   },
   {
    "duration": 215,
    "start_time": "2022-07-05T14:33:08.713Z"
   },
   {
    "duration": 981,
    "start_time": "2022-07-05T14:33:08.931Z"
   },
   {
    "duration": 21,
    "start_time": "2022-07-05T14:33:09.913Z"
   },
   {
    "duration": 46,
    "start_time": "2022-07-05T14:33:09.935Z"
   },
   {
    "duration": 47,
    "start_time": "2022-07-05T14:33:10.004Z"
   },
   {
    "duration": 51,
    "start_time": "2022-07-05T14:33:10.053Z"
   },
   {
    "duration": 28,
    "start_time": "2022-07-05T14:33:10.106Z"
   },
   {
    "duration": 76,
    "start_time": "2022-07-05T14:33:10.136Z"
   },
   {
    "duration": 7,
    "start_time": "2022-07-05T14:33:10.214Z"
   },
   {
    "duration": 423,
    "start_time": "2022-07-05T14:33:10.223Z"
   },
   {
    "duration": 418,
    "start_time": "2022-07-05T14:33:10.648Z"
   },
   {
    "duration": 2,
    "start_time": "2022-07-05T14:33:11.069Z"
   },
   {
    "duration": 9,
    "start_time": "2022-07-05T14:33:11.074Z"
   },
   {
    "duration": 523,
    "start_time": "2022-07-05T14:33:11.085Z"
   },
   {
    "duration": 252,
    "start_time": "2022-07-05T14:33:11.611Z"
   },
   {
    "duration": 14,
    "start_time": "2022-07-05T14:33:11.865Z"
   },
   {
    "duration": 412,
    "start_time": "2022-07-05T14:33:11.881Z"
   },
   {
    "duration": 10,
    "start_time": "2022-07-05T14:33:12.295Z"
   },
   {
    "duration": 408,
    "start_time": "2022-07-05T14:33:12.307Z"
   },
   {
    "duration": 407,
    "start_time": "2022-07-05T14:33:12.717Z"
   },
   {
    "duration": 243,
    "start_time": "2022-07-05T14:33:13.126Z"
   },
   {
    "duration": 5,
    "start_time": "2022-07-05T14:33:13.371Z"
   },
   {
    "duration": 29,
    "start_time": "2022-07-05T14:33:13.378Z"
   },
   {
    "duration": 10,
    "start_time": "2022-07-05T14:33:13.409Z"
   },
   {
    "duration": 9,
    "start_time": "2022-07-05T14:33:13.422Z"
   },
   {
    "duration": 24,
    "start_time": "2022-07-05T14:33:13.433Z"
   },
   {
    "duration": 47,
    "start_time": "2022-07-05T14:33:13.459Z"
   },
   {
    "duration": 8,
    "start_time": "2022-07-05T14:33:13.508Z"
   }
  ],
  "kernelspec": {
   "display_name": "Python 3 (ipykernel)",
   "language": "python",
   "name": "python3"
  },
  "language_info": {
   "codemirror_mode": {
    "name": "ipython",
    "version": 3
   },
   "file_extension": ".py",
   "mimetype": "text/x-python",
   "name": "python",
   "nbconvert_exporter": "python",
   "pygments_lexer": "ipython3",
   "version": "3.9.5"
  },
  "toc": {
   "base_numbering": 1,
   "nav_menu": {},
   "number_sections": true,
   "sideBar": true,
   "skip_h1_title": true,
   "title_cell": "Table of Contents",
   "title_sidebar": "Contents",
   "toc_cell": false,
   "toc_position": {
    "height": "calc(100% - 180px)",
    "left": "10px",
    "top": "150px",
    "width": "511px"
   },
   "toc_section_display": true,
   "toc_window_display": false
  }
 },
 "nbformat": 4,
 "nbformat_minor": 2
}
